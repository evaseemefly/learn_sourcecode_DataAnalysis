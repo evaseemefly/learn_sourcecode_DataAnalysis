{
 "cells": [
  {
   "cell_type": "markdown",
   "metadata": {},
   "source": [
    "# 用 Matplotlib 绘图\n",
    "用 Matplotlib 创建柱状图，显示用 groupby 和查询功能做出的结论。"
   ]
  },
  {
   "cell_type": "code",
   "execution_count": 1,
   "metadata": {
    "collapsed": true
   },
   "outputs": [],
   "source": [
    "# 导入所需数据包并加载 `winequality_edited.csv`\n",
    "import pandas as pd\n",
    "import matplotlib.pyplot as plt\n",
    "% matplotlib inline\n",
    "\n",
    "df =pd.read_csv('winequality_edited_addcut.csv')"
   ]
  },
  {
   "cell_type": "markdown",
   "metadata": {},
   "source": [
    "matplotlib默认不支持中文，显示中文会出现乱码，需要进行如下设置  \n",
    "参考答案：https://www.zhihu.com/question/25404709"
   ]
  },
  {
   "cell_type": "code",
   "execution_count": 19,
   "metadata": {
    "collapsed": true
   },
   "outputs": [],
   "source": [
    "#用来正常显示中文标签\n",
    "plt.rcParams['font.sans-serif']=['SimHei']\n",
    "#用来正常显示负号\n",
    "plt.rcParams['axes.unicode_minus']=False"
   ]
  },
  {
   "cell_type": "markdown",
   "metadata": {},
   "source": [
    "### #1: 酒精含量高的酒是否评分较高？\n",
    "创建柱状图，用一个条柱表示酒精含量低的酒样本，另一个条柱表示酒精含量高的酒样本。第一个条柱已填充了数据。"
   ]
  },
  {
   "cell_type": "code",
   "execution_count": 2,
   "metadata": {
    "collapsed": true
   },
   "outputs": [],
   "source": [
    "# 用查询功能选择每个组，并获取其平均质量\n",
    "median = df['alcohol'].median()\n",
    "low = df.query('alcohol < {}'.format(median))\n",
    "high = df.query('alcohol >= {}'.format(median))\n",
    "\n",
    "mean_quality_low = low['quality'].mean()\n",
    "mean_quality_high = high['quality'].mean()"
   ]
  },
  {
   "cell_type": "code",
   "execution_count": 3,
   "metadata": {},
   "outputs": [
    {
     "data": {
      "image/png": "[encoded data removed]",
      "text/plain": [
       "<matplotlib.figure.Figure at 0x1f546962940>"
      ]
     },
     "metadata": {},
     "output_type": "display_data"
    }
   ],
   "source": [
    "# 用合适的标签创建柱状图\n",
    "locations = [1, 2]\n",
    "heights = [mean_quality_low, mean_quality_high]\n",
    "labels = ['Low', 'High']\n",
    "plt.bar(locations, heights, tick_label=labels)\n",
    "plt.title('Average Quality Ratings by Alcohol Content')\n",
    "plt.xlabel('Alcohol Content')\n",
    "plt.ylabel('Average Quality Rating');"
   ]
  },
  {
   "cell_type": "markdown",
   "metadata": {},
   "source": [
    "### #2: 口感较甜的酒是否评分较高？\n",
    "创建柱状图，用一个条柱表示残留糖分低的酒样本，另一个条柱表示残留糖分高的酒样本。"
   ]
  },
  {
   "cell_type": "code",
   "execution_count": 5,
   "metadata": {},
   "outputs": [],
   "source": [
    "# 用查询功能选择每个组，并获取其平均质量\n",
    "\n",
    "df.rename(columns={'residual sugar':'residual_sugar'},inplace=True)\n",
    "# 选择残留糖分小于中位数的样本\n",
    "low_sugar =df.query('residual_sugar < 3')\n",
    "# 选择残留糖分大于等于中位数的样本\n",
    "high_sugar =df.query('residual_sugar >= 3')\n",
    "\n",
    "# 获取低糖分组和高糖分组的平均质量评分\n",
    "low_sugar['quality'].mean()\n",
    "high_sugar['quality'].mean()"
   ]
  },
  {
   "cell_type": "markdown",
   "metadata": {},
   "source": [
    "### 使用 axis 函数指定坐标轴显示的范围：\n",
    "\n",
    "`plt.axis([xmin, xmax, ymin, ymax])`"
   ]
  },
  {
   "cell_type": "code",
   "execution_count": 20,
   "metadata": {},
   "outputs": [
    {
     "data": {
      "image/png": "[encoded data removed]",
      "text/plain": [
       "<matplotlib.figure.Figure at 0x1f5484b8b00>"
      ]
     },
     "metadata": {},
     "output_type": "display_data"
    }
   ],
   "source": [
    "# 用合适的标签创建柱状图\n",
    "plt.axis([0,3,5.7,5.9])\n",
    "locations = [1, 2]\n",
    "heights = [low_sugar['quality'].mean(),high_sugar['quality'].mean()]\n",
    "labels = ['Low', 'High']\n",
    "plt.bar(locations, heights, tick_label=labels)\n",
    "plt.title('口感甜腻程度与评分的关系')\n",
    "plt.xlabel('糖分')\n",
    "plt.ylabel('平均质量得分');"
   ]
  },
  {
   "cell_type": "markdown",
   "metadata": {},
   "source": [
    "### #3: 哪个酸度水平(acidity_levels)的平均评分最高？\n",
    "创建柱状图，四个酸度水平分别用一个条柱表示。"
   ]
  },
  {
   "cell_type": "code",
   "execution_count": 23,
   "metadata": {},
   "outputs": [
    {
     "name": "stdout",
     "output_type": "stream",
     "text": [
      "<class 'pandas.core.frame.DataFrame'>\n",
      "RangeIndex: 6497 entries, 0 to 6496\n",
      "Data columns (total 14 columns):\n",
      "fixed acidity           6497 non-null float64\n",
      "volatile acidity        6497 non-null float64\n",
      "citric acid             6497 non-null float64\n",
      "residual_sugar          6497 non-null float64\n",
      "chlorides               6497 non-null float64\n",
      "free sulfur dioxide     6497 non-null float64\n",
      "total sulfur dioxide    6497 non-null float64\n",
      "density                 6497 non-null float64\n",
      "pH                      6497 non-null float64\n",
      "sulphates               6497 non-null float64\n",
      "alcohol                 6497 non-null float64\n",
      "quality                 6497 non-null int64\n",
      "color                   6497 non-null object\n",
      "acidity_levels          6496 non-null object\n",
      "dtypes: float64(11), int64(1), object(2)\n",
      "memory usage: 710.7+ KB\n"
     ]
    }
   ],
   "source": [
    "df.info()"
   ]
  },
  {
   "cell_type": "code",
   "execution_count": 31,
   "metadata": {},
   "outputs": [
    {
     "data": {
      "text/plain": [
       "acidity_levels\n",
       "High               5.783343\n",
       "Low                5.859593\n",
       "Medium             5.850832\n",
       "Moderately High    5.784540\n",
       "Name: quality, dtype: float64"
      ]
     },
     "execution_count": 31,
     "metadata": {},
     "output_type": "execute_result"
    }
   ],
   "source": [
    "# 使用分组功能获取每个酸度水平的平均质量\n",
    "df_mean=df['quality'].groupby(df['acidity_levels']).mean()\n",
    "df_mean"
   ]
  },
  {
   "cell_type": "code",
   "execution_count": 33,
   "metadata": {
    "collapsed": true
   },
   "outputs": [],
   "source": [
    "acidity_High_value=df_mean[0]\n",
    "acidity_Low_value=df_mean[1]\n",
    "acidity_Medium_value=df_mean[2]\n",
    "acidity_ModeratelyHigh_value=df_mean[3]"
   ]
  },
  {
   "cell_type": "code",
   "execution_count": 36,
   "metadata": {},
   "outputs": [
    {
     "data": {
      "image/png": "[encoded data removed]",
      "text/plain": [
       "<matplotlib.figure.Figure at 0x1f5487f0780>"
      ]
     },
     "metadata": {},
     "output_type": "display_data"
    }
   ],
   "source": [
    "# 用合适的标签创建柱状图\n",
    "\n",
    "plt.axis([0,5,5.7,5.9])\n",
    "locations = [1, 2,3,4]\n",
    "heights = [acidity_High_value,acidity_Low_value,acidity_Medium_value,acidity_ModeratelyHigh_value]\n",
    "labels = ['Low', 'High','Medium','Moderately High']\n",
    "plt.bar(locations, heights, tick_label=labels)\n",
    "plt.title('酸度水平与评分的关系')\n",
    "plt.xlabel('酸度水平')\n",
    "plt.ylabel('平均质量得分');"
   ]
  },
  {
   "cell_type": "markdown",
   "metadata": {},
   "source": [
    "### 附加题：为 #3 中的数据创建线图\n",
    "可以使用 pyplot 的 [绘图](https://matplotlib.org/api/pyplot_api.html#matplotlib.pyplot.plot) 功能进行创建。"
   ]
  },
  {
   "cell_type": "markdown",
   "metadata": {},
   "source": [
    "将线图与柱状图相比较。如果用线图代替柱状图，会对数据结论产生什么影响？"
   ]
  }
 ],
 "metadata": {
  "kernelspec": {
   "display_name": "Python 3",
   "language": "python",
   "name": "python3"
  },
  "language_info": {
   "codemirror_mode": {
    "name": "ipython",
    "version": 3
   },
   "file_extension": ".py",
   "mimetype": "text/x-python",
   "name": "python",
   "nbconvert_exporter": "python",
   "pygments_lexer": "ipython3",
   "version": "3.6.2"
  }
 },
 "nbformat": 4,
 "nbformat_minor": 2
}
