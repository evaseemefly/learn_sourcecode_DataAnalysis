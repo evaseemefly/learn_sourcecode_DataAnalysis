{
 "cells": [
  {
   "cell_type": "markdown",
   "metadata": {},
   "source": [
    "# 清除示例 II\n",
    "我们先练习癌症数据缺失值和重复值的处理。"
   ]
  },
  {
   "cell_type": "code",
   "execution_count": 21,
   "metadata": {},
   "outputs": [],
   "source": [
    "import pandas as pd\n",
    "import numpy as np"
   ]
  },
  {
   "cell_type": "markdown",
   "metadata": {},
   "source": [
    "## 清除缺失值的具体步骤："
   ]
  },
  {
   "cell_type": "markdown",
   "metadata": {},
   "source": [
    "## 1 获取概览"
   ]
  },
  {
   "cell_type": "code",
   "execution_count": 22,
   "metadata": {},
   "outputs": [
    {
     "name": "stdout",
     "output_type": "stream",
     "text": [
      "<class 'pandas.core.frame.DataFrame'>\n",
      "RangeIndex: 569 entries, 0 to 568\n",
      "Data columns (total 32 columns):\n",
      "id                        569 non-null int64\n",
      "diagnosis                 569 non-null object\n",
      "radius_mean               569 non-null float64\n",
      "texture_mean              548 non-null float64\n",
      "perimeter_mean            569 non-null float64\n",
      "area_mean                 569 non-null float64\n",
      "smoothness_mean           521 non-null float64\n",
      "compactness_mean          569 non-null float64\n",
      "concavity_mean            569 non-null float64\n",
      "concave_points_mean       569 non-null float64\n",
      "symmetry_mean             504 non-null float64\n",
      "fractal_dimension_mean    569 non-null float64\n",
      "radius_SE                 569 non-null float64\n",
      "texture_SE                548 non-null float64\n",
      "perimeter_SE              569 non-null float64\n",
      "area_SE                   569 non-null float64\n",
      "smoothness_SE             521 non-null float64\n",
      "compactness_SE            569 non-null float64\n",
      "concavity_SE              569 non-null float64\n",
      "concave_points_SE         569 non-null float64\n",
      "symmetry_SE               504 non-null float64\n",
      "fractal_dimension_SE      569 non-null float64\n",
      "radius_max                569 non-null float64\n",
      "texture_max               548 non-null float64\n",
      "perimeter_max             569 non-null float64\n",
      "area_max                  569 non-null float64\n",
      "smoothness_max            521 non-null float64\n",
      "compactness_max           569 non-null float64\n",
      "concavity_max             569 non-null float64\n",
      "concave_points_max        569 non-null float64\n",
      "symmetry_max              504 non-null float64\n",
      "fractal_dimension_max     569 non-null float64\n",
      "dtypes: float64(30), int64(1), object(1)\n",
      "memory usage: 142.3+ KB\n"
     ]
    }
   ],
   "source": [
    "# 读入 `cancer_data.csv`\n",
    "df=pd.read_csv('cancer_data.csv')\n",
    "# 用 info() 检查哪些列有缺失值\n",
    "df.info()"
   ]
  },
  {
   "cell_type": "markdown",
   "metadata": {},
   "source": [
    "## 2 使用`mean()`的方式获取均值，并且对每一个存在空值的列使用`fillna`的方式用均值进行填充"
   ]
  },
  {
   "cell_type": "markdown",
   "metadata": {},
   "source": [
    "使用`df['列明'].mean()`的方式获取该列的均值  \n",
    "并通过`df['xx'].fillna(mean)`的方式向该列中的空值填充平均值  \n",
    "注意`.fillna`会生成一个新的df的列，默认是不会更改现有的df  \n",
    "可以使用`fillna(xx,inplace=True)`的方式替换"
   ]
  },
  {
   "cell_type": "markdown",
   "metadata": {},
   "source": [
    "### 解决办法1："
   ]
  },
  {
   "cell_type": "code",
   "execution_count": null,
   "metadata": {},
   "outputs": [],
   "source": [
    "# 用均值填充缺失值\n",
    "# 注意使用以下方式比较愚蠢\n",
    "# 不适用以下方式\n",
    "mean_texture=df['texture_mean'].mean()\n",
    "df['texture_mean'].fillna(mean_texture,inplace=True)\n",
    "mean_smoothness=df['smoothness_mean'].mean()\n",
    "df['smoothness_mean'].fillna(mean_smoothness,inplace=True)\n",
    "mean_symmetry=df['symmetry_mean'].mean()\n",
    "df['symmetry_mean'].fillna(mean_symmetry,inplace=True)\n",
    "\n",
    "df['texture_SE'].fillna(df['texture_SE'].mean(),inplace=True)\n",
    "df['symmetry_SE'].fillna(df['symmetry_SE'].mean(),inplace=True)\n",
    "df['texture_max'].fillna(df['texture_max'].mean(),inplace=True)\n",
    "\n",
    "df['smoothness_SE'].fillna(df['smoothness_SE'].mean(),inplace=True)\n",
    "df['smoothness_max'].fillna(df['smoothness_max'].mean(),inplace=True)\n",
    "df['symmetry_max'].fillna(df['symmetry_max'].mean(),inplace=True)\n",
    "\n",
    "# 用 info() 确认修改\n",
    "df.info()"
   ]
  },
  {
   "cell_type": "markdown",
   "metadata": {},
   "source": [
    "### 解决办法2"
   ]
  },
  {
   "cell_type": "markdown",
   "metadata": {},
   "source": [
    "下面比较优选的方式是  \n",
    "* 获取每一列为null的list  \n",
    "* 获取每一个包含null的bool集合  \n",
    "* 将bool集合转成list  \n",
    "* 对每一个包含null值得列进行均值填充"
   ]
  },
  {
   "cell_type": "code",
   "execution_count": 15,
   "metadata": {},
   "outputs": [
    {
     "data": {
      "text/plain": [
       "id                 0\n",
       "diagnosis          0\n",
       "radius_mean        0\n",
       "texture_mean      21\n",
       "perimeter_mean     0\n",
       "dtype: int64"
      ]
     },
     "execution_count": 15,
     "metadata": {},
     "output_type": "execute_result"
    }
   ],
   "source": [
    "df.isnull().sum().head()"
   ]
  },
  {
   "cell_type": "code",
   "execution_count": 17,
   "metadata": {},
   "outputs": [
    {
     "data": {
      "text/plain": [
       "id                False\n",
       "diagnosis         False\n",
       "radius_mean       False\n",
       "texture_mean       True\n",
       "perimeter_mean    False\n",
       "dtype: bool"
      ]
     },
     "execution_count": 17,
     "metadata": {},
     "output_type": "execute_result"
    }
   ],
   "source": [
    "(df.isnull().sum()>0).head()"
   ]
  },
  {
   "cell_type": "code",
   "execution_count": 18,
   "metadata": {},
   "outputs": [
    {
     "data": {
      "text/plain": [
       "Index(['texture_mean', 'smoothness_mean', 'symmetry_mean', 'texture_SE',\n",
       "       'smoothness_SE', 'symmetry_SE', 'texture_max', 'smoothness_max',\n",
       "       'symmetry_max'],\n",
       "      dtype='object')"
      ]
     },
     "execution_count": 18,
     "metadata": {},
     "output_type": "execute_result"
    }
   ],
   "source": [
    "df.columns[df.isnull().sum()>0]"
   ]
  },
  {
   "cell_type": "code",
   "execution_count": 19,
   "metadata": {},
   "outputs": [
    {
     "data": {
      "text/plain": [
       "['texture_mean',\n",
       " 'smoothness_mean',\n",
       " 'symmetry_mean',\n",
       " 'texture_SE',\n",
       " 'smoothness_SE',\n",
       " 'symmetry_SE',\n",
       " 'texture_max',\n",
       " 'smoothness_max',\n",
       " 'symmetry_max']"
      ]
     },
     "execution_count": 19,
     "metadata": {},
     "output_type": "execute_result"
    }
   ],
   "source": [
    "list(df.columns[df.isnull().sum()>0])"
   ]
  },
  {
   "cell_type": "code",
   "execution_count": 23,
   "metadata": {},
   "outputs": [
    {
     "name": "stdout",
     "output_type": "stream",
     "text": [
      "<class 'pandas.core.frame.DataFrame'>\n",
      "RangeIndex: 569 entries, 0 to 568\n",
      "Data columns (total 32 columns):\n",
      "id                        569 non-null int64\n",
      "diagnosis                 569 non-null object\n",
      "radius_mean               569 non-null float64\n",
      "texture_mean              569 non-null float64\n",
      "perimeter_mean            569 non-null float64\n",
      "area_mean                 569 non-null float64\n",
      "smoothness_mean           569 non-null float64\n",
      "compactness_mean          569 non-null float64\n",
      "concavity_mean            569 non-null float64\n",
      "concave_points_mean       569 non-null float64\n",
      "symmetry_mean             569 non-null float64\n",
      "fractal_dimension_mean    569 non-null float64\n",
      "radius_SE                 569 non-null float64\n",
      "texture_SE                569 non-null float64\n",
      "perimeter_SE              569 non-null float64\n",
      "area_SE                   569 non-null float64\n",
      "smoothness_SE             569 non-null float64\n",
      "compactness_SE            569 non-null float64\n",
      "concavity_SE              569 non-null float64\n",
      "concave_points_SE         569 non-null float64\n",
      "symmetry_SE               569 non-null float64\n",
      "fractal_dimension_SE      569 non-null float64\n",
      "radius_max                569 non-null float64\n",
      "texture_max               569 non-null float64\n",
      "perimeter_max             569 non-null float64\n",
      "area_max                  569 non-null float64\n",
      "smoothness_max            569 non-null float64\n",
      "compactness_max           569 non-null float64\n",
      "concavity_max             569 non-null float64\n",
      "concave_points_max        569 non-null float64\n",
      "symmetry_max              569 non-null float64\n",
      "fractal_dimension_max     569 non-null float64\n",
      "dtypes: float64(30), int64(1), object(1)\n",
      "memory usage: 142.3+ KB\n"
     ]
    }
   ],
   "source": [
    "for column in list(df.columns[df.isnull().sum()>0]):\n",
    "    mean_value=df[column].mean()\n",
    "    df[column].fillna(mean_value,inplace=True)\n",
    "df.info()"
   ]
  },
  {
   "cell_type": "markdown",
   "metadata": {},
   "source": [
    "## 消除重复值"
   ]
  },
  {
   "cell_type": "markdown",
   "metadata": {},
   "source": [
    "## 消除重复值的步骤：  \n",
    "### 1 通过`duplicated()`获取重复项"
   ]
  },
  {
   "cell_type": "markdown",
   "metadata": {},
   "source": [
    "在pandas中可以通过`duplicated()`获取重复的项  \n",
    "使用`drop_duplicates(inplace=True)`的方式剔除掉重复的项"
   ]
  },
  {
   "cell_type": "code",
   "execution_count": 5,
   "metadata": {},
   "outputs": [
    {
     "data": {
      "text/plain": [
       "0      False\n",
       "1      False\n",
       "2      False\n",
       "3      False\n",
       "4      False\n",
       "5      False\n",
       "6      False\n",
       "7      False\n",
       "8      False\n",
       "9      False\n",
       "10     False\n",
       "11     False\n",
       "12     False\n",
       "13     False\n",
       "14     False\n",
       "15     False\n",
       "16     False\n",
       "17     False\n",
       "18     False\n",
       "19     False\n",
       "20     False\n",
       "21     False\n",
       "22     False\n",
       "23     False\n",
       "24     False\n",
       "25     False\n",
       "26     False\n",
       "27     False\n",
       "28     False\n",
       "29     False\n",
       "       ...  \n",
       "539    False\n",
       "540    False\n",
       "541    False\n",
       "542    False\n",
       "543    False\n",
       "544    False\n",
       "545    False\n",
       "546    False\n",
       "547    False\n",
       "548    False\n",
       "549    False\n",
       "550    False\n",
       "551    False\n",
       "552    False\n",
       "553    False\n",
       "554    False\n",
       "555    False\n",
       "556    False\n",
       "557    False\n",
       "558     True\n",
       "559    False\n",
       "560    False\n",
       "561    False\n",
       "562    False\n",
       "563    False\n",
       "564    False\n",
       "565    False\n",
       "566    False\n",
       "567    False\n",
       "568    False\n",
       "Length: 569, dtype: bool"
      ]
     },
     "execution_count": 5,
     "metadata": {},
     "output_type": "execute_result"
    }
   ],
   "source": [
    "# 检查数据中的重复\n",
    "df.duplicated()"
   ]
  },
  {
   "cell_type": "code",
   "execution_count": 6,
   "metadata": {},
   "outputs": [],
   "source": [
    "# 丢弃重复\n",
    "df.drop_duplicates(inplace=True)"
   ]
  },
  {
   "cell_type": "code",
   "execution_count": 7,
   "metadata": {},
   "outputs": [
    {
     "data": {
      "text/plain": [
       "0      False\n",
       "1      False\n",
       "2      False\n",
       "3      False\n",
       "4      False\n",
       "5      False\n",
       "6      False\n",
       "7      False\n",
       "8      False\n",
       "9      False\n",
       "10     False\n",
       "11     False\n",
       "12     False\n",
       "13     False\n",
       "14     False\n",
       "15     False\n",
       "16     False\n",
       "17     False\n",
       "18     False\n",
       "19     False\n",
       "20     False\n",
       "21     False\n",
       "22     False\n",
       "23     False\n",
       "24     False\n",
       "25     False\n",
       "26     False\n",
       "27     False\n",
       "28     False\n",
       "29     False\n",
       "       ...  \n",
       "538    False\n",
       "539    False\n",
       "540    False\n",
       "541    False\n",
       "542    False\n",
       "543    False\n",
       "544    False\n",
       "545    False\n",
       "546    False\n",
       "547    False\n",
       "548    False\n",
       "549    False\n",
       "550    False\n",
       "551    False\n",
       "552    False\n",
       "553    False\n",
       "554    False\n",
       "555    False\n",
       "556    False\n",
       "557    False\n",
       "559    False\n",
       "560    False\n",
       "561    False\n",
       "562    False\n",
       "563    False\n",
       "564    False\n",
       "565    False\n",
       "566    False\n",
       "567    False\n",
       "568    False\n",
       "Length: 564, dtype: bool"
      ]
     },
     "execution_count": 7,
     "metadata": {},
     "output_type": "execute_result"
    }
   ],
   "source": [
    "# 再次检查数据中的重复，确认修改\n",
    "df.duplicated()"
   ]
  },
  {
   "cell_type": "markdown",
   "metadata": {},
   "source": [
    "## 3 重命名列\n",
    "由于之前修改了数据集，使其仅包括肿瘤特征的均值，因此每个特征末尾好像不需要 \"_mean\" 。而且，稍后输入分析还要多耗费时间。我们现在想一些要分配给列的新标签。"
   ]
  },
  {
   "cell_type": "code",
   "execution_count": 8,
   "metadata": {},
   "outputs": [
    {
     "data": {
      "text/plain": [
       "['id',\n",
       " 'diagnosis',\n",
       " 'radius',\n",
       " 'texture',\n",
       " 'perimeter',\n",
       " 'area',\n",
       " 'smoothness',\n",
       " 'compactness',\n",
       " 'concavity',\n",
       " 'concave_points',\n",
       " 'symmetry',\n",
       " 'fractal_dimension',\n",
       " 'radius_SE',\n",
       " 'texture_SE',\n",
       " 'perimeter_SE',\n",
       " 'area_SE',\n",
       " 'smoothness_SE',\n",
       " 'compactness_SE',\n",
       " 'concavity_SE',\n",
       " 'concave_points_SE',\n",
       " 'symmetry_SE',\n",
       " 'fractal_dimension_SE',\n",
       " 'radius_max',\n",
       " 'texture_max',\n",
       " 'perimeter_max',\n",
       " 'area_max',\n",
       " 'smoothness_max',\n",
       " 'compactness_max',\n",
       " 'concavity_max',\n",
       " 'concave_points_max',\n",
       " 'symmetry_max',\n",
       " 'fractal_dimension_max']"
      ]
     },
     "execution_count": 8,
     "metadata": {},
     "output_type": "execute_result"
    }
   ],
   "source": [
    "# 从列名称中移除 \"_mean\"\n",
    "new_labels = []\n",
    "for col in df.columns:\n",
    "    if '_mean' in col:\n",
    "        new_labels.append(col[:-5])  # 不包括最后 6 个字符\n",
    "    else:\n",
    "        new_labels.append(col)\n",
    "\n",
    "# 列的新标签\n",
    "new_labels"
   ]
  },
  {
   "cell_type": "code",
   "execution_count": 9,
   "metadata": {},
   "outputs": [
    {
     "data": {
      "text/html": [
       "<div>\n",
       "<style>\n",
       "    .dataframe thead tr:only-child th {\n",
       "        text-align: right;\n",
       "    }\n",
       "\n",
       "    .dataframe thead th {\n",
       "        text-align: left;\n",
       "    }\n",
       "\n",
       "    .dataframe tbody tr th {\n",
       "        vertical-align: top;\n",
       "    }\n",
       "</style>\n",
       "<table border=\"1\" class=\"dataframe\">\n",
       "  <thead>\n",
       "    <tr style=\"text-align: right;\">\n",
       "      <th></th>\n",
       "      <th>id</th>\n",
       "      <th>diagnosis</th>\n",
       "      <th>radius</th>\n",
       "      <th>texture</th>\n",
       "      <th>perimeter</th>\n",
       "      <th>area</th>\n",
       "      <th>smoothness</th>\n",
       "      <th>compactness</th>\n",
       "      <th>concavity</th>\n",
       "      <th>concave_points</th>\n",
       "      <th>...</th>\n",
       "      <th>radius_max</th>\n",
       "      <th>texture_max</th>\n",
       "      <th>perimeter_max</th>\n",
       "      <th>area_max</th>\n",
       "      <th>smoothness_max</th>\n",
       "      <th>compactness_max</th>\n",
       "      <th>concavity_max</th>\n",
       "      <th>concave_points_max</th>\n",
       "      <th>symmetry_max</th>\n",
       "      <th>fractal_dimension_max</th>\n",
       "    </tr>\n",
       "  </thead>\n",
       "  <tbody>\n",
       "    <tr>\n",
       "      <th>0</th>\n",
       "      <td>842302</td>\n",
       "      <td>M</td>\n",
       "      <td>17.99</td>\n",
       "      <td>19.293431</td>\n",
       "      <td>122.80</td>\n",
       "      <td>1001.0</td>\n",
       "      <td>0.118400</td>\n",
       "      <td>0.27760</td>\n",
       "      <td>0.3001</td>\n",
       "      <td>0.14710</td>\n",
       "      <td>...</td>\n",
       "      <td>25.38</td>\n",
       "      <td>25.660803</td>\n",
       "      <td>184.60</td>\n",
       "      <td>2019.0</td>\n",
       "      <td>0.16220</td>\n",
       "      <td>0.6656</td>\n",
       "      <td>0.7119</td>\n",
       "      <td>0.2654</td>\n",
       "      <td>0.4601</td>\n",
       "      <td>0.11890</td>\n",
       "    </tr>\n",
       "    <tr>\n",
       "      <th>1</th>\n",
       "      <td>842517</td>\n",
       "      <td>M</td>\n",
       "      <td>20.57</td>\n",
       "      <td>17.770000</td>\n",
       "      <td>132.90</td>\n",
       "      <td>1326.0</td>\n",
       "      <td>0.084740</td>\n",
       "      <td>0.07864</td>\n",
       "      <td>0.0869</td>\n",
       "      <td>0.07017</td>\n",
       "      <td>...</td>\n",
       "      <td>24.99</td>\n",
       "      <td>23.410000</td>\n",
       "      <td>158.80</td>\n",
       "      <td>1956.0</td>\n",
       "      <td>0.12380</td>\n",
       "      <td>0.1866</td>\n",
       "      <td>0.2416</td>\n",
       "      <td>0.1860</td>\n",
       "      <td>0.2750</td>\n",
       "      <td>0.08902</td>\n",
       "    </tr>\n",
       "    <tr>\n",
       "      <th>2</th>\n",
       "      <td>84300903</td>\n",
       "      <td>M</td>\n",
       "      <td>19.69</td>\n",
       "      <td>21.250000</td>\n",
       "      <td>130.00</td>\n",
       "      <td>1203.0</td>\n",
       "      <td>0.109600</td>\n",
       "      <td>0.15990</td>\n",
       "      <td>0.1974</td>\n",
       "      <td>0.12790</td>\n",
       "      <td>...</td>\n",
       "      <td>23.57</td>\n",
       "      <td>25.530000</td>\n",
       "      <td>152.50</td>\n",
       "      <td>1709.0</td>\n",
       "      <td>0.14440</td>\n",
       "      <td>0.4245</td>\n",
       "      <td>0.4504</td>\n",
       "      <td>0.2430</td>\n",
       "      <td>0.3613</td>\n",
       "      <td>0.08758</td>\n",
       "    </tr>\n",
       "    <tr>\n",
       "      <th>3</th>\n",
       "      <td>84348301</td>\n",
       "      <td>M</td>\n",
       "      <td>11.42</td>\n",
       "      <td>20.380000</td>\n",
       "      <td>77.58</td>\n",
       "      <td>386.1</td>\n",
       "      <td>0.096087</td>\n",
       "      <td>0.28390</td>\n",
       "      <td>0.2414</td>\n",
       "      <td>0.10520</td>\n",
       "      <td>...</td>\n",
       "      <td>14.91</td>\n",
       "      <td>26.500000</td>\n",
       "      <td>98.87</td>\n",
       "      <td>567.7</td>\n",
       "      <td>0.13209</td>\n",
       "      <td>0.8663</td>\n",
       "      <td>0.6869</td>\n",
       "      <td>0.2575</td>\n",
       "      <td>0.6638</td>\n",
       "      <td>0.17300</td>\n",
       "    </tr>\n",
       "    <tr>\n",
       "      <th>4</th>\n",
       "      <td>84358402</td>\n",
       "      <td>M</td>\n",
       "      <td>20.29</td>\n",
       "      <td>14.340000</td>\n",
       "      <td>135.10</td>\n",
       "      <td>1297.0</td>\n",
       "      <td>0.100300</td>\n",
       "      <td>0.13280</td>\n",
       "      <td>0.1980</td>\n",
       "      <td>0.10430</td>\n",
       "      <td>...</td>\n",
       "      <td>22.54</td>\n",
       "      <td>16.670000</td>\n",
       "      <td>152.20</td>\n",
       "      <td>1575.0</td>\n",
       "      <td>0.13740</td>\n",
       "      <td>0.2050</td>\n",
       "      <td>0.4000</td>\n",
       "      <td>0.1625</td>\n",
       "      <td>0.2364</td>\n",
       "      <td>0.07678</td>\n",
       "    </tr>\n",
       "  </tbody>\n",
       "</table>\n",
       "<p>5 rows × 32 columns</p>\n",
       "</div>"
      ],
      "text/plain": [
       "         id diagnosis  radius    texture  perimeter    area  smoothness  \\\n",
       "0    842302         M   17.99  19.293431     122.80  1001.0    0.118400   \n",
       "1    842517         M   20.57  17.770000     132.90  1326.0    0.084740   \n",
       "2  84300903         M   19.69  21.250000     130.00  1203.0    0.109600   \n",
       "3  84348301         M   11.42  20.380000      77.58   386.1    0.096087   \n",
       "4  84358402         M   20.29  14.340000     135.10  1297.0    0.100300   \n",
       "\n",
       "   compactness  concavity  concave_points          ...            radius_max  \\\n",
       "0      0.27760     0.3001         0.14710          ...                 25.38   \n",
       "1      0.07864     0.0869         0.07017          ...                 24.99   \n",
       "2      0.15990     0.1974         0.12790          ...                 23.57   \n",
       "3      0.28390     0.2414         0.10520          ...                 14.91   \n",
       "4      0.13280     0.1980         0.10430          ...                 22.54   \n",
       "\n",
       "   texture_max  perimeter_max  area_max  smoothness_max  compactness_max  \\\n",
       "0    25.660803         184.60    2019.0         0.16220           0.6656   \n",
       "1    23.410000         158.80    1956.0         0.12380           0.1866   \n",
       "2    25.530000         152.50    1709.0         0.14440           0.4245   \n",
       "3    26.500000          98.87     567.7         0.13209           0.8663   \n",
       "4    16.670000         152.20    1575.0         0.13740           0.2050   \n",
       "\n",
       "   concavity_max  concave_points_max  symmetry_max  fractal_dimension_max  \n",
       "0         0.7119              0.2654        0.4601                0.11890  \n",
       "1         0.2416              0.1860        0.2750                0.08902  \n",
       "2         0.4504              0.2430        0.3613                0.08758  \n",
       "3         0.6869              0.2575        0.6638                0.17300  \n",
       "4         0.4000              0.1625        0.2364                0.07678  \n",
       "\n",
       "[5 rows x 32 columns]"
      ]
     },
     "execution_count": 9,
     "metadata": {},
     "output_type": "execute_result"
    }
   ],
   "source": [
    "# 为数据框中的列分配新标签\n",
    "df.columns = new_labels\n",
    "\n",
    "# 显示数据框的前几行，确认更改\n",
    "df.head()"
   ]
  },
  {
   "cell_type": "code",
   "execution_count": 10,
   "metadata": {},
   "outputs": [],
   "source": [
    "# 将其保存，供稍后使用\n",
    "df.to_csv('cancer_data_edited.csv', index=False)"
   ]
  },
  {
   "cell_type": "markdown",
   "metadata": {},
   "source": [
    "### 备注"
   ]
  },
  {
   "cell_type": "markdown",
   "metadata": {},
   "source": [
    "使用`new_df=pd.to_datetime(df['xx'])`的方式将指定列转为datetime"
   ]
  },
  {
   "cell_type": "markdown",
   "metadata": {},
   "source": [
    "注意对于已经转换为date的列，若通过to_csv的方式转换后，再次读取csv文件**该date类型的列还是str类型（obj）**  \n",
    "需要再次转换"
   ]
  }
 ],
 "metadata": {
  "kernelspec": {
   "display_name": "Python 3",
   "language": "python",
   "name": "python3"
  },
  "language_info": {
   "codemirror_mode": {
    "name": "ipython",
    "version": 3
   },
   "file_extension": ".py",
   "mimetype": "text/x-python",
   "name": "python",
   "nbconvert_exporter": "python",
   "pygments_lexer": "ipython3",
   "version": "3.6.3"
  }
 },
 "nbformat": 4,
 "nbformat_minor": 2
}
