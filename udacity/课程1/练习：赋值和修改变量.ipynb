{
 "cells": [
  {
   "cell_type": "code",
   "execution_count": 4,
   "metadata": {},
   "outputs": [
    {
     "name": "stdout",
     "output_type": "stream",
     "text": [
      "500000.0\n",
      "443637500.0\n"
     ]
    }
   ],
   "source": [
    "# The current volume of a water reservoir (in cubic metres)\n",
    "# 蓄水池的现时容量(以立方米计算)\n",
    "reservoir_volume = 4.445e8\n",
    "# The amount of rainfall from a storm (in cubic metres)\n",
    "# 暴风雨的降雨量(立方米)\n",
    "rainfall = 5e6\n",
    "\n",
    "# decrease the rainfall variable by 10% to account for runoff\n",
    "# 降雨量减少10%，用于径流。\n",
    "runoff=rainfall*0.1\n",
    "print(runoff)\n",
    "# add the rainfall variable to the reservoir_volume variable\n",
    "# 向reservation oir_volume变量添加雨量变量\n",
    "reservoir_volume+runoff\n",
    "# increase reservoir_volume by 5% to account for stormwater that flows\n",
    "# 将储水量增加5%，以弥补流动的雨水\n",
    "(reservoir_volume+runoff)*(0.05+1)\n",
    "\n",
    "# into the reservoir in the days following the storm\n",
    "# 在暴风雨过后的几天里进入了水库\n",
    "# decrease reservoir_volume by 5% to account for evaporation\n",
    "# 减少蓄水量5%，以减少蒸发\n",
    "(reservoir_volume+runoff)*(0.05+1)*0.95\n",
    "# subtract 2.5e5 cubic metres from reservoir_volume to account for water\n",
    "# that's piped to arid regions.\n",
    "# 将蓄水量减去2.5e5立方米\n",
    "# 它被输送到干旱地区。\n",
    "reservoir_volume=(reservoir_volume+runoff)*(0.05+1)*0.95-2.5e5\n",
    "# print the new value of the reservoir_volume variable\n",
    "print(reservoir_volume)"
   ]
  },
  {
   "cell_type": "code",
   "execution_count": null,
   "metadata": {
    "collapsed": true
   },
   "outputs": [],
   "source": []
  }
 ],
 "metadata": {
  "kernelspec": {
   "display_name": "Python 3",
   "language": "python",
   "name": "python3"
  },
  "language_info": {
   "codemirror_mode": {
    "name": "ipython",
    "version": 3
   },
   "file_extension": ".py",
   "mimetype": "text/x-python",
   "name": "python",
   "nbconvert_exporter": "python",
   "pygments_lexer": "ipython3",
   "version": "3.6.2"
  }
 },
 "nbformat": 4,
 "nbformat_minor": 2
}
