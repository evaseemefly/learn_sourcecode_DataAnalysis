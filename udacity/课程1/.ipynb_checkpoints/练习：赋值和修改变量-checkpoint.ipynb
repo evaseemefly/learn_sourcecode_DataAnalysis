{
 "cells": [
  {
   "cell_type": "code",
   "execution_count": 8,
   "metadata": {},
   "outputs": [
    {
     "data": {
      "text/plain": [
       "5000000.0"
      ]
     },
     "execution_count": 8,
     "metadata": {},
     "output_type": "execute_result"
    }
   ],
   "source": [
    "# The current volume of a water reservoir (in cubic metres)\n",
    "# 蓄水池的现时容量(以立方米计算)\n",
    "reservoir_volume = 4.445e8\n",
    "# The amount of rainfall from a storm (in cubic metres)\n",
    "# 暴风雨的降雨量(立方米)\n",
    "rainfall = 5e6\n",
    "rainfall"
   ]
  },
  {
   "cell_type": "code",
   "execution_count": 9,
   "metadata": {},
   "outputs": [
    {
     "data": {
      "text/plain": [
       "4500000.0"
      ]
     },
     "execution_count": 9,
     "metadata": {},
     "output_type": "execute_result"
    }
   ],
   "source": [
    "# decrease the rainfall variable by 10% to account for runoff\n",
    "\n",
    "# 降雨量减少10%，用于径流。\n",
    "# runoff=rainfall*0.1\n",
    "# print(runoff)\n",
    "rainfall*=.9\n",
    "rainfall"
   ]
  },
  {
   "cell_type": "code",
   "execution_count": 10,
   "metadata": {},
   "outputs": [
    {
     "data": {
      "text/plain": [
       "449000000.0"
      ]
     },
     "execution_count": 10,
     "metadata": {},
     "output_type": "execute_result"
    }
   ],
   "source": [
    "# add the rainfall variable to the reservoir_volume variable\n",
    "# 向reservation oir_volume变量添加雨量变量\n",
    "reservoir_volume+=rainfall\n",
    "reservoir_volume"
   ]
  },
  {
   "cell_type": "code",
   "execution_count": 11,
   "metadata": {},
   "outputs": [
    {
     "data": {
      "text/plain": [
       "471450000.0"
      ]
     },
     "execution_count": 11,
     "metadata": {},
     "output_type": "execute_result"
    }
   ],
   "source": [
    "# increase reservoir_volume by 5% to account for stormwater that flows\n",
    "# 将储水量增加5%，以弥补流动的雨水\n",
    "# (reservoir_volume+runoff)*(0.05+1)\n",
    "# 改进后\n",
    "reservoir_volume*=1.05\n",
    "reservoir_volume"
   ]
  },
  {
   "cell_type": "code",
   "execution_count": 12,
   "metadata": {
    "collapsed": true
   },
   "outputs": [],
   "source": [
    "# into the reservoir in the days following the storm\n",
    "# 在暴风雨过后的几天里进入了水库\n",
    "# decrease reservoir_volume by 5% to account for evaporation\n",
    "# 减少蓄水量5%，以减少蒸发\n",
    "#(reservoir_volume+runoff)*(0.05+1)*0.95\n",
    "reservoir_volume*=0.95"
   ]
  },
  {
   "cell_type": "code",
   "execution_count": 13,
   "metadata": {},
   "outputs": [
    {
     "data": {
      "text/plain": [
       "447877500.0"
      ]
     },
     "execution_count": 13,
     "metadata": {},
     "output_type": "execute_result"
    }
   ],
   "source": [
    "reservoir_volume"
   ]
  },
  {
   "cell_type": "code",
   "execution_count": 14,
   "metadata": {},
   "outputs": [
    {
     "data": {
      "text/plain": [
       "447627500.0"
      ]
     },
     "execution_count": 14,
     "metadata": {},
     "output_type": "execute_result"
    }
   ],
   "source": [
    "# subtract 2.5e5 cubic metres from reservoir_volume to account for water\n",
    "# that's piped to arid regions.\n",
    "# 将蓄水量减去2.5e5立方米\n",
    "# 它被输送到干旱地区。\n",
    "reservoir_volume-=2.5e5\n",
    "# print the new value of the reservoir_volume variable\n",
    "reservoir_volume"
   ]
  },
  {
   "cell_type": "code",
   "execution_count": null,
   "metadata": {
    "collapsed": true
   },
   "outputs": [],
   "source": []
  },
  {
   "cell_type": "code",
   "execution_count": null,
   "metadata": {
    "collapsed": true
   },
   "outputs": [],
   "source": []
  }
 ],
 "metadata": {
  "kernelspec": {
   "display_name": "Python 3",
   "language": "python",
   "name": "python3"
  },
  "language_info": {
   "codemirror_mode": {
    "name": "ipython",
    "version": 3
   },
   "file_extension": ".py",
   "mimetype": "text/x-python",
   "name": "python",
   "nbconvert_exporter": "python",
   "pygments_lexer": "ipython3",
   "version": "3.6.2"
  }
 },
 "nbformat": 4,
 "nbformat_minor": 2
}
