{
 "cells": [
  {
   "cell_type": "code",
   "execution_count": 1,
   "metadata": {
    "collapsed": true
   },
   "outputs": [],
   "source": [
    "import pandas as pd"
   ]
  },
  {
   "cell_type": "markdown",
   "metadata": {},
   "source": [
    "** 项目概述 **"
   ]
  },
  {
   "cell_type": "markdown",
   "metadata": {},
   "source": [
    "包括加载数据集并根据指定月份和星期名进行筛选。  \n",
    "在下面的测试中，你将实现 load_data() 函数，你也可以直接在项目中使用这个函数。共有以下四个步骤：  \n",
    "\n",
    "    加载指定城市的数据集。索引 global CITY_DATA 字典对象来获取指定城市名对应的文件名。  \n",
    "    创建 month 以及 day_of_week 列。将 \"Start Time\" 列转换为 datetime，并使用 datetime 模块分列提取 month number（月份数）和 weekday name （星期名）。  \n",
    "    根据月份筛选。由于 month 参数是以月份名称给出的，你首先需要将其转换为对应的月份数字。接着，选择包含指定月份的 dataframe 行，并重新为 dataframe 赋值。  \n",
    "    根据星期名筛选。选择包含指定星期名的 dataframe 行，并重新为其分配 dataframe。  （注意：请使用 title() 方法将 day 参数首字母大写，与 day_of_week 列中使用的首字母大写对应。）\n"
   ]
  },
  {
   "cell_type": "code",
   "execution_count": null,
   "metadata": {
    "collapsed": true
   },
   "outputs": [],
   "source": []
  }
 ],
 "metadata": {
  "kernelspec": {
   "display_name": "Python 3",
   "language": "python",
   "name": "python3"
  },
  "language_info": {
   "codemirror_mode": {
    "name": "ipython",
    "version": 3
   },
   "file_extension": ".py",
   "mimetype": "text/x-python",
   "name": "python",
   "nbconvert_exporter": "python",
   "pygments_lexer": "ipython3",
   "version": "3.6.3"
  }
 },
 "nbformat": 4,
 "nbformat_minor": 2
}
