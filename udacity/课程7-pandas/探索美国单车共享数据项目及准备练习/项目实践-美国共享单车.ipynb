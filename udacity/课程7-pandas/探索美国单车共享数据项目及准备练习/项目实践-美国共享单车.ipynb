{
 "cells": [
  {
   "cell_type": "code",
   "execution_count": 1,
   "metadata": {
    "collapsed": true
   },
   "outputs": [],
   "source": [
    "import pandas as pd\n",
    "import numpy as np"
   ]
  },
  {
   "cell_type": "code",
   "execution_count": 3,
   "metadata": {},
   "outputs": [],
   "source": [
    "df=pd.read_csv('chicago.csv')"
   ]
  },
  {
   "cell_type": "code",
   "execution_count": 4,
   "metadata": {},
   "outputs": [
    {
     "data": {
      "text/html": [
       "<div>\n",
       "<style>\n",
       "    .dataframe thead tr:only-child th {\n",
       "        text-align: right;\n",
       "    }\n",
       "\n",
       "    .dataframe thead th {\n",
       "        text-align: left;\n",
       "    }\n",
       "\n",
       "    .dataframe tbody tr th {\n",
       "        vertical-align: top;\n",
       "    }\n",
       "</style>\n",
       "<table border=\"1\" class=\"dataframe\">\n",
       "  <thead>\n",
       "    <tr style=\"text-align: right;\">\n",
       "      <th></th>\n",
       "      <th>Start Time</th>\n",
       "      <th>End Time</th>\n",
       "      <th>Trip Duration</th>\n",
       "      <th>Start Station</th>\n",
       "      <th>End Station</th>\n",
       "      <th>User Type</th>\n",
       "      <th>Gender</th>\n",
       "      <th>Birth Year</th>\n",
       "    </tr>\n",
       "  </thead>\n",
       "  <tbody>\n",
       "    <tr>\n",
       "      <th>0</th>\n",
       "      <td>2017-05-29 18:36:27</td>\n",
       "      <td>2017-05-29 18:49:27</td>\n",
       "      <td>780</td>\n",
       "      <td>Columbus Dr &amp; Randolph St</td>\n",
       "      <td>Federal St &amp; Polk St</td>\n",
       "      <td>Subscriber</td>\n",
       "      <td>Male</td>\n",
       "      <td>1991.0</td>\n",
       "    </tr>\n",
       "    <tr>\n",
       "      <th>1</th>\n",
       "      <td>2017-06-12 19:00:33</td>\n",
       "      <td>2017-06-12 19:24:22</td>\n",
       "      <td>1429</td>\n",
       "      <td>Kingsbury St &amp; Erie St</td>\n",
       "      <td>Orleans St &amp; Merchandise Mart Plaza</td>\n",
       "      <td>Customer</td>\n",
       "      <td>NaN</td>\n",
       "      <td>NaN</td>\n",
       "    </tr>\n",
       "    <tr>\n",
       "      <th>2</th>\n",
       "      <td>2017-02-13 17:02:02</td>\n",
       "      <td>2017-02-13 17:20:10</td>\n",
       "      <td>1088</td>\n",
       "      <td>Canal St &amp; Madison St</td>\n",
       "      <td>Paulina Ave &amp; North Ave</td>\n",
       "      <td>Subscriber</td>\n",
       "      <td>Female</td>\n",
       "      <td>1982.0</td>\n",
       "    </tr>\n",
       "    <tr>\n",
       "      <th>3</th>\n",
       "      <td>2017-04-24 18:39:45</td>\n",
       "      <td>2017-04-24 18:54:59</td>\n",
       "      <td>914</td>\n",
       "      <td>Spaulding Ave &amp; Armitage Ave</td>\n",
       "      <td>California Ave &amp; Milwaukee Ave</td>\n",
       "      <td>Subscriber</td>\n",
       "      <td>Male</td>\n",
       "      <td>1966.0</td>\n",
       "    </tr>\n",
       "    <tr>\n",
       "      <th>4</th>\n",
       "      <td>2017-01-26 15:36:07</td>\n",
       "      <td>2017-01-26 15:43:21</td>\n",
       "      <td>434</td>\n",
       "      <td>Clark St &amp; Randolph St</td>\n",
       "      <td>Financial Pl &amp; Congress Pkwy</td>\n",
       "      <td>Subscriber</td>\n",
       "      <td>Female</td>\n",
       "      <td>1983.0</td>\n",
       "    </tr>\n",
       "  </tbody>\n",
       "</table>\n",
       "</div>"
      ],
      "text/plain": [
       "            Start Time             End Time  Trip Duration  \\\n",
       "0  2017-05-29 18:36:27  2017-05-29 18:49:27            780   \n",
       "1  2017-06-12 19:00:33  2017-06-12 19:24:22           1429   \n",
       "2  2017-02-13 17:02:02  2017-02-13 17:20:10           1088   \n",
       "3  2017-04-24 18:39:45  2017-04-24 18:54:59            914   \n",
       "4  2017-01-26 15:36:07  2017-01-26 15:43:21            434   \n",
       "\n",
       "                  Start Station                          End Station  \\\n",
       "0     Columbus Dr & Randolph St                 Federal St & Polk St   \n",
       "1        Kingsbury St & Erie St  Orleans St & Merchandise Mart Plaza   \n",
       "2         Canal St & Madison St              Paulina Ave & North Ave   \n",
       "3  Spaulding Ave & Armitage Ave       California Ave & Milwaukee Ave   \n",
       "4        Clark St & Randolph St         Financial Pl & Congress Pkwy   \n",
       "\n",
       "    User Type  Gender  Birth Year  \n",
       "0  Subscriber    Male      1991.0  \n",
       "1    Customer     NaN         NaN  \n",
       "2  Subscriber  Female      1982.0  \n",
       "3  Subscriber    Male      1966.0  \n",
       "4  Subscriber  Female      1983.0  "
      ]
     },
     "execution_count": 4,
     "metadata": {},
     "output_type": "execute_result"
    }
   ],
   "source": [
    "df.head()"
   ]
  },
  {
   "cell_type": "code",
   "execution_count": 7,
   "metadata": {},
   "outputs": [
    {
     "data": {
      "text/plain": [
       "Index(['Start Time', 'End Time', 'Trip Duration', 'Start Station',\n",
       "       'End Station', 'User Type', 'Gender', 'Birth Year'],\n",
       "      dtype='object')"
      ]
     },
     "execution_count": 7,
     "metadata": {},
     "output_type": "execute_result"
    }
   ],
   "source": [
    "df.columns"
   ]
  },
  {
   "cell_type": "code",
   "execution_count": 8,
   "metadata": {},
   "outputs": [
    {
     "data": {
      "text/html": [
       "<div>\n",
       "<style>\n",
       "    .dataframe thead tr:only-child th {\n",
       "        text-align: right;\n",
       "    }\n",
       "\n",
       "    .dataframe thead th {\n",
       "        text-align: left;\n",
       "    }\n",
       "\n",
       "    .dataframe tbody tr th {\n",
       "        vertical-align: top;\n",
       "    }\n",
       "</style>\n",
       "<table border=\"1\" class=\"dataframe\">\n",
       "  <thead>\n",
       "    <tr style=\"text-align: right;\">\n",
       "      <th></th>\n",
       "      <th>Trip Duration</th>\n",
       "      <th>Birth Year</th>\n",
       "    </tr>\n",
       "  </thead>\n",
       "  <tbody>\n",
       "    <tr>\n",
       "      <th>count</th>\n",
       "      <td>400.000000</td>\n",
       "      <td>330.000000</td>\n",
       "    </tr>\n",
       "    <tr>\n",
       "      <th>mean</th>\n",
       "      <td>938.215000</td>\n",
       "      <td>1980.533333</td>\n",
       "    </tr>\n",
       "    <tr>\n",
       "      <th>std</th>\n",
       "      <td>2466.972184</td>\n",
       "      <td>11.723011</td>\n",
       "    </tr>\n",
       "    <tr>\n",
       "      <th>min</th>\n",
       "      <td>97.000000</td>\n",
       "      <td>1949.000000</td>\n",
       "    </tr>\n",
       "    <tr>\n",
       "      <th>25%</th>\n",
       "      <td>407.000000</td>\n",
       "      <td>1973.000000</td>\n",
       "    </tr>\n",
       "    <tr>\n",
       "      <th>50%</th>\n",
       "      <td>634.000000</td>\n",
       "      <td>1984.000000</td>\n",
       "    </tr>\n",
       "    <tr>\n",
       "      <th>75%</th>\n",
       "      <td>997.750000</td>\n",
       "      <td>1989.000000</td>\n",
       "    </tr>\n",
       "    <tr>\n",
       "      <th>max</th>\n",
       "      <td>47551.000000</td>\n",
       "      <td>1999.000000</td>\n",
       "    </tr>\n",
       "  </tbody>\n",
       "</table>\n",
       "</div>"
      ],
      "text/plain": [
       "       Trip Duration   Birth Year\n",
       "count     400.000000   330.000000\n",
       "mean      938.215000  1980.533333\n",
       "std      2466.972184    11.723011\n",
       "min        97.000000  1949.000000\n",
       "25%       407.000000  1973.000000\n",
       "50%       634.000000  1984.000000\n",
       "75%       997.750000  1989.000000\n",
       "max     47551.000000  1999.000000"
      ]
     },
     "execution_count": 8,
     "metadata": {},
     "output_type": "execute_result"
    }
   ],
   "source": [
    "df.describe()"
   ]
  },
  {
   "cell_type": "code",
   "execution_count": 9,
   "metadata": {},
   "outputs": [
    {
     "name": "stdout",
     "output_type": "stream",
     "text": [
      "<class 'pandas.core.frame.DataFrame'>\n",
      "RangeIndex: 400 entries, 0 to 399\n",
      "Data columns (total 8 columns):\n",
      "Start Time       400 non-null object\n",
      "End Time         400 non-null object\n",
      "Trip Duration    400 non-null int64\n",
      "Start Station    400 non-null object\n",
      "End Station      400 non-null object\n",
      "User Type        400 non-null object\n",
      "Gender           330 non-null object\n",
      "Birth Year       330 non-null float64\n",
      "dtypes: float64(1), int64(1), object(6)\n",
      "memory usage: 25.1+ KB\n"
     ]
    }
   ],
   "source": [
    "df.info()"
   ]
  },
  {
   "cell_type": "code",
   "execution_count": 11,
   "metadata": {},
   "outputs": [
    {
     "data": {
      "text/plain": [
       "Streeter Dr & Grand Ave                10\n",
       "Orleans St & Merchandise Mart Plaza     9\n",
       "Clinton St & Washington Blvd            8\n",
       "Dusable Harbor                          7\n",
       "Kingsbury St & Kinzie St                6\n",
       "Name: Start Station, dtype: int64"
      ]
     },
     "execution_count": 11,
     "metadata": {},
     "output_type": "execute_result"
    }
   ],
   "source": [
    "df['Start Station'].value_counts().head()"
   ]
  },
  {
   "cell_type": "code",
   "execution_count": 12,
   "metadata": {},
   "outputs": [
    {
     "data": {
      "text/plain": [
       "array(['Columbus Dr & Randolph St', 'Kingsbury St & Erie St',\n",
       "       'Canal St & Madison St', 'Spaulding Ave & Armitage Ave',\n",
       "       'Clark St & Randolph St', 'Ogden Ave & Race Ave',\n",
       "       'Clinton St & Washington Blvd', 'Canal St & Adams St',\n",
       "       'Wentworth Ave & Archer Ave', 'State St & Kinzie St',\n",
       "       'Clark St & Lake St', 'Larrabee St & Division St',\n",
       "       'Ashland Ave & Division St', 'LaSalle St & Washington St',\n",
       "       'Sheffield Ave & Webster Ave',\n",
       "       'Orleans St & Merchandise Mart Plaza',\n",
       "       'Southport Ave & Irving Park Rd', 'Central St & Girard Ave',\n",
       "       'Kingsbury St & Kinzie St', 'State St & Pearson St',\n",
       "       'Clinton St & 18th St', 'Loomis St & Jackson Blvd',\n",
       "       'Paulina Ave & North Ave', 'Wabash Ave & 16th St',\n",
       "       'Adler Planetarium', 'California Ave & Milwaukee Ave',\n",
       "       'Sedgwick St & North Ave', 'Oakley Ave & Irving Park Rd',\n",
       "       'Streeter Dr & Grand Ave', 'Franklin St & Lake St',\n",
       "       'Clinton St & Roosevelt Rd', 'Theater on the Lake',\n",
       "       'Broadway & Berwyn Ave', 'Clark St & Winnemac Ave',\n",
       "       'Wells St & Concord Ln', 'LaSalle St & Jackson Blvd',\n",
       "       'Desplaines St & Jackson Blvd', 'Peoria St & Jackson Blvd',\n",
       "       'Milwaukee Ave & Rockwell St', 'Michigan Ave & Lake St',\n",
       "       'Clark St & Wellington Ave', 'Shedd Aquarium',\n",
       "       'Michigan Ave & 8th St', 'Ashland Ave & 21st St',\n",
       "       'Damen Ave & Charleston St', 'Wabash Ave & Grand Ave',\n",
       "       'Cornell Ave & Hyde Park Blvd', 'Michigan Ave & 18th St',\n",
       "       'Clinton St & Lake St', 'Clark St & Chicago Ave',\n",
       "       'Southport Ave & Belmont Ave', 'Ellis Ave & 55th St',\n",
       "       'Lincoln Ave & Fullerton Ave', 'Rush St & Cedar St',\n",
       "       'Lake Shore Dr & North Blvd', 'Wabash Ave & 8th St',\n",
       "       'Broadway & Waveland Ave', 'Dearborn Pkwy & Delaware Pl',\n",
       "       'Sheridan Rd & Irving Park Rd', 'Lincoln Ave & Belmont Ave',\n",
       "       'Lincoln Ave & Diversey Pkwy', 'Cityfront Plaza Dr & Pioneer Ct',\n",
       "       'Wood St & Division St', 'Wells St & Huron St',\n",
       "       'Field Blvd & South Water St', 'Morgan St & Polk St',\n",
       "       'Halsted St & Roscoe St', 'Wacker Dr & Washington St',\n",
       "       'Sheridan Rd & Lawrence Ave', 'Damen Ave & Grand Ave',\n",
       "       'Marshfield Ave & Cortland St', 'Campbell Ave & Fullerton Ave',\n",
       "       'Wilton Ave & Belmont Ave', 'Clinton St & Madison St',\n",
       "       'Desplaines St & Kinzie St', 'Cottage Grove Ave & 71st St',\n",
       "       'Sheffield Ave & Wrightwood Ave', 'McClurg Ct & Illinois St',\n",
       "       'Stetson Ave & South Water St', 'Burnham Harbor',\n",
       "       'Ravenswood Ave & Berteau Ave', 'Dusable Harbor',\n",
       "       'Damen Ave & Augusta Blvd', 'Lakefront Trail & Bryn Mawr Ave',\n",
       "       'Wabash Ave & Adams St', 'Franklin St & Monroe St',\n",
       "       'Dearborn St & Erie St', 'Morgan St & 18th St',\n",
       "       'Indiana Ave & Roosevelt Rd', 'Halsted St & Polk St',\n",
       "       'Green St & Madison St', 'Lake Shore Dr & Monroe St',\n",
       "       'Buckingham Fountain', 'Eckhart Park',\n",
       "       'Halsted St & Wrightwood Ave', 'Larrabee St & Webster Ave',\n",
       "       'Broadway & Granville Ave', 'Greenview Ave & Fullerton Ave',\n",
       "       'Forest Ave & Chicago Ave', 'Michigan Ave & Oak St',\n",
       "       'Clifton Ave & Armitage Ave', 'Clinton St & Jackson Blvd',\n",
       "       'Sheffield Ave & Fullerton Ave', 'Michigan Ave & Congress Pkwy',\n",
       "       'Sheridan Rd & Loyola Ave', 'Wabash Ave & Roosevelt Rd',\n",
       "       'Pine Grove Ave & Irving Park Rd', 'St. Clair St & Erie St',\n",
       "       'Wentworth Ave & 33rd St', 'Bissell St & Armitage Ave',\n",
       "       'Ogden Ave & Chicago Ave', 'Franklin St & Chicago Ave',\n",
       "       'Southport Ave & Waveland Ave', 'Clark St & Lincoln Ave',\n",
       "       'State St & Randolph St', 'State St & Harrison St',\n",
       "       'Glenwood Ave & Morse Ave', 'Franklin St & Jackson Blvd',\n",
       "       'Lake Shore Dr & Belmont Ave', 'Clark St & Elm St',\n",
       "       'Daley Center Plaza', 'LaSalle St & Adams St',\n",
       "       'Wells St & Evergreen Ave', 'Sangamon St & Washington Blvd (*)',\n",
       "       'Southport Ave & Roscoe St', 'Michigan Ave & Washington St',\n",
       "       'Loomis St & Lexington St', 'Wells St & Walton St',\n",
       "       'Rush St & Superior St', 'Ritchie Ct & Banks St',\n",
       "       'Chicago Ave & Sheridan Rd', 'Wilton Ave & Diversey Pkwy',\n",
       "       'Canal St & Taylor St', 'MLK Jr Dr & 29th St',\n",
       "       'Sedgwick St & Huron St', 'Federal St & Polk St',\n",
       "       'Hampden Ct & Diversey Pkwy', 'Calumet Ave & 33rd St',\n",
       "       'Logan Blvd & Elston Ave', 'Western Ave & Congress Pkwy',\n",
       "       'University Ave & 57th St', 'Morgan St & Lake St',\n",
       "       'Sheffield Ave & Willow St', 'Lake Shore Dr & Ohio St',\n",
       "       'Washtenaw Ave & Lawrence Ave', 'Ashland Ave & Lake St',\n",
       "       'Broadway & Cornelia Ave', 'Rush St & Hubbard St',\n",
       "       'Shore Dr & 55th St', 'Southport Ave & Wrightwood Ave',\n",
       "       'Damen Ave & Cortland St', 'Ada St & Washington Blvd',\n",
       "       'Marion St & South Blvd', 'Ellis Ave & 58th St',\n",
       "       'Michigan Ave & 14th St', 'Racine Ave (May St) & Fulton St',\n",
       "       'Orleans St & Elm St (*)', 'Broadway & Belmont Ave',\n",
       "       'Leavitt St & Armitage Ave', 'Halsted St & Diversey Pkwy',\n",
       "       'Damen Ave & Division St', 'Broadway & Barry Ave',\n",
       "       'Damen Ave & Pierce Ave', 'Green St & Randolph St',\n",
       "       'Sedgwick St & Webster Ave', 'Ravenswood Ave & Balmoral Ave',\n",
       "       'Montrose Harbor', 'Western Ave & Walton St',\n",
       "       'Western Ave & Winnebago Ave', 'Ashland Ave & Belle Plaine Ave',\n",
       "       'Western Ave & Division St', 'Wood St & Milwaukee Ave',\n",
       "       'Milwaukee Ave & Wabansia Ave', 'Milwaukee Ave & Grand Ave',\n",
       "       'Kedzie Ave & Palmer Ct', 'Spaulding Ave & Division St',\n",
       "       'Troy St & North Ave', 'Sheffield Ave & Waveland Ave',\n",
       "       'Clark St & Schreiber Ave', 'Lake Park Ave & 53rd St',\n",
       "       'Calumet Ave & 21st St', 'Jefferson St & Monroe St',\n",
       "       'LaSalle St & Illinois St', 'Wells St & Elm St',\n",
       "       'Rockwell St & Eastwood Ave', 'Michigan Ave & Jackson Blvd',\n",
       "       'Fort Dearborn Dr & 31st St', 'Michigan Ave & Pearson St',\n",
       "       'Dearborn St & Monroe St', 'Francisco Ave & Foster Ave',\n",
       "       'Richmond St & Diversey Ave', 'Orleans St & Ohio St',\n",
       "       'Halsted St & Dickens Ave', 'Southport Ave & Wellington Ave',\n",
       "       'Wolcott Ave & Polk St', 'Millennium Park', 'Kimbark Ave & 53rd St',\n",
       "       'Normal Ave & Archer Ave', 'Dearborn St & Adams St',\n",
       "       'Campbell Ave & Montrose Ave', 'Racine Ave & Fullerton Ave',\n",
       "       'Cannon Dr & Fullerton Ave', 'Wabash Ave & Wacker Pl',\n",
       "       'Benson Ave & Church St', 'Wabash Ave & Cermak Rd',\n",
       "       'Kedzie Ave & 21st St', 'Broadway & Wilson Ave',\n",
       "       'Larrabee St & Kingsbury St'], dtype=object)"
      ]
     },
     "execution_count": 12,
     "metadata": {},
     "output_type": "execute_result"
    }
   ],
   "source": [
    "df['Start Station'].unique()"
   ]
  },
  {
   "cell_type": "code",
   "execution_count": null,
   "metadata": {
    "collapsed": true
   },
   "outputs": [],
   "source": []
  }
 ],
 "metadata": {
  "kernelspec": {
   "display_name": "Python 3",
   "language": "python",
   "name": "python3"
  },
  "language_info": {
   "codemirror_mode": {
    "name": "ipython",
    "version": 3
   },
   "file_extension": ".py",
   "mimetype": "text/x-python",
   "name": "python",
   "nbconvert_exporter": "python",
   "pygments_lexer": "ipython3",
   "version": "3.6.3"
  }
 },
 "nbformat": 4,
 "nbformat_minor": 2
}
