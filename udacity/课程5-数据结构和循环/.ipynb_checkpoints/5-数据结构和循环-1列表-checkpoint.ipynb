{
 "cells": [
  {
   "cell_type": "code",
   "execution_count": 9,
   "metadata": {},
   "outputs": [],
   "source": [
    "def how_many_days(month_number):\n",
    "    \"\"\"Returns the number of days in a month.\n",
    "    WARNING: This function doesn't account for leap years!\n",
    "    \"\"\"\n",
    "    days_in_month = [31,28,31,30,31,30,31,31,30,31,30,31]\n",
    "    #todo: return the correct value \n",
    "    return days_in_month[month_number-1]"
   ]
  },
  {
   "cell_type": "code",
   "execution_count": 10,
   "metadata": {},
   "outputs": [
    {
     "name": "stdout",
     "output_type": "stream",
     "text": [
      "31\n"
     ]
    }
   ],
   "source": [
    "# This test case should print 31, the number of days in the eighth month, August\n",
    "print(how_many_days(8))"
   ]
  },
  {
   "cell_type": "markdown",
   "metadata": {},
   "source": [
    "### 切片"
   ]
  },
  {
   "cell_type": "code",
   "execution_count": 11,
   "metadata": {
    "collapsed": true
   },
   "outputs": [],
   "source": [
    "months = ['January', 'February', 'March', 'April', 'May', 'June', 'July', 'August', 'September', 'October', 'November', 'December']"
   ]
  },
  {
   "cell_type": "code",
   "execution_count": 12,
   "metadata": {},
   "outputs": [
    {
     "data": {
      "text/plain": [
       "['January', 'February']"
      ]
     },
     "execution_count": 12,
     "metadata": {},
     "output_type": "execute_result"
    }
   ],
   "source": [
    "months[0:2]"
   ]
  },
  {
   "cell_type": "markdown",
   "metadata": {},
   "source": [
    "** 练习：列表切片 **  \n",
    "\n",
    "找到最近的三个日期  \n",
    "切片[start:end:step]"
   ]
  },
  {
   "cell_type": "code",
   "execution_count": 19,
   "metadata": {
    "collapsed": true
   },
   "outputs": [],
   "source": [
    "eclipse_dates = ['June 21, 2001', 'December 4, 2002', 'November 23, 2003',\n",
    "                 'March 29, 2006', 'August 1, 2008', 'July 22, 2009',\n",
    "                 'July 11, 2010', 'November 13, 2012', 'March 20, 2015',\n",
    "                 'March 9, 2016']"
   ]
  },
  {
   "cell_type": "code",
   "execution_count": 20,
   "metadata": {},
   "outputs": [
    {
     "data": {
      "text/plain": [
       "['March 9, 2016', 'March 20, 2015', 'November 13, 2012']"
      ]
     },
     "execution_count": 20,
     "metadata": {},
     "output_type": "execute_result"
    }
   ],
   "source": [
    "eclipse_dates[::-1][:3]"
   ]
  },
  {
   "cell_type": "markdown",
   "metadata": {},
   "source": [
    "** 练习：中位数**"
   ]
  },
  {
   "cell_type": "code",
   "execution_count": 38,
   "metadata": {
    "collapsed": true
   },
   "outputs": [],
   "source": [
    "import math"
   ]
  },
  {
   "cell_type": "code",
   "execution_count": 51,
   "metadata": {
    "collapsed": true
   },
   "outputs": [],
   "source": [
    "def median(numbers):\n",
    "    numbers.sort() #The sort method sorts a list directly, rather than returning a new sorted list\n",
    "    count=math.ceil(len(numbers)/2)\n",
    "    print(count)\n",
    "#     count=len(middle_index/2)\n",
    "    middle_index = count    \n",
    "    #此处需要判断len是否可以被2整除\n",
    "    if(len(numbers)%2)==0:\n",
    "        avg=numbers[middle_index:2]\n",
    "    else:\n",
    "        avg=numbers[middle_index] \n",
    "    return avg"
   ]
  },
  {
   "cell_type": "code",
   "execution_count": 52,
   "metadata": {},
   "outputs": [
    {
     "data": {
      "text/plain": [
       "0"
      ]
     },
     "execution_count": 52,
     "metadata": {},
     "output_type": "execute_result"
    }
   ],
   "source": [
    "4%2"
   ]
  },
  {
   "cell_type": "code",
   "execution_count": 53,
   "metadata": {},
   "outputs": [
    {
     "name": "stdout",
     "output_type": "stream",
     "text": [
      "2\n",
      "expected result: 2, actual result: 3\n",
      "2\n",
      "expected result: 2.5, actual result: []\n",
      "4\n",
      "expected result: 65, actual result: 88\n"
     ]
    }
   ],
   "source": [
    "test1 = median([1,2,3])\n",
    "print(\"expected result: 2, actual result: {}\".format(test1))\n",
    "\n",
    "test2 = median([1,2,3,4])\n",
    "print(\"expected result: 2.5, actual result: {}\".format(test2))\n",
    "\n",
    "test3 = median([53, 12, 65, 7, 420, 317, 88])\n",
    "print(\"expected result: 65, actual result: {}\".format(test3))"
   ]
  },
  {
   "cell_type": "code",
   "execution_count": null,
   "metadata": {
    "collapsed": true
   },
   "outputs": [],
   "source": []
  }
 ],
 "metadata": {
  "kernelspec": {
   "display_name": "Python 3",
   "language": "python",
   "name": "python3"
  },
  "language_info": {
   "codemirror_mode": {
    "name": "ipython",
    "version": 3
   },
   "file_extension": ".py",
   "mimetype": "text/x-python",
   "name": "python",
   "nbconvert_exporter": "python",
   "pygments_lexer": "ipython3",
   "version": "3.6.3"
  }
 },
 "nbformat": 4,
 "nbformat_minor": 2
}
