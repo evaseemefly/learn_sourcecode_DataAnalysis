{
 "cells": [
  {
   "cell_type": "code",
   "execution_count": 13,
   "metadata": {},
   "outputs": [],
   "source": [
    "def list_sum(input_list):\n",
    "    sum = 0\n",
    "    # todo: Write a for loop that adds the elements\n",
    "    # of input_list to the sum variable\n",
    "    for temp in input_list:\n",
    "        sum+=temp\n",
    "    return sum"
   ]
  },
  {
   "cell_type": "code",
   "execution_count": 14,
   "metadata": {},
   "outputs": [
    {
     "name": "stdout",
     "output_type": "stream",
     "text": [
      "expected result: 6, actual result: 6\n",
      "expected result: 0, actual result: 0\n"
     ]
    }
   ],
   "source": [
    "\n",
    "\n",
    "#These test cases check that list_sum works correctly\n",
    "test1 = list_sum([1, 2, 3])\n",
    "print(\"expected result: 6, actual result: {}\".format(test1))\n",
    "\n",
    "test2 = list_sum([-1, 0, 1])\n",
    "print(\"expected result: 0, actual result: {}\".format(test2))"
   ]
  },
  {
   "cell_type": "markdown",
   "metadata": {},
   "source": [
    "## 2 标签计算器  \n",
    "请在下面的练习中编写函数 tag_count，其参数以字符串列表的形式列出。  \n",
    "该函数应该返回字符串中有多少个 XML 标签。XML 是类似于 HTML 的数据语言，它以左尖括号 \"<\" 开始，以右尖括号 \">\" 结尾。  \n",
    "你可以通过检查列表中的字符串是否以 \"<\" 开始，以 \">\" 结尾来判断它是否为 XML 标签。  \n",
    "\n",
    "你可以假设作为输入的字符串列表不包含空字符串。"
   ]
  },
  {
   "cell_type": "code",
   "execution_count": 10,
   "metadata": {},
   "outputs": [],
   "source": [
    "\"\"\"Write a function, `tag_count`, that takes as its argument a list\n",
    "of strings. It should return a count of how many of those strings\n",
    "are XML tags. You can tell if a string is an XML tag if it begins\n",
    "with a left angle bracket \"<\" and ends with a right angle bracket \">\".\n",
    "\"\"\"\n",
    "#TODO: Define the tag_count function\n",
    "def tag_count(list1):\n",
    "    count=0\n",
    "    # Your code goes here!\n",
    "    for item in list1:\n",
    "        # 判断首字母是<，末尾是>\n",
    "        if item[0]=='<' and item[-1]=='>':\n",
    "            count+=1\n",
    "    return count"
   ]
  },
  {
   "cell_type": "code",
   "execution_count": 11,
   "metadata": {},
   "outputs": [
    {
     "name": "stdout",
     "output_type": "stream",
     "text": [
      "Expected result: 2, Actual result: 2\n"
     ]
    }
   ],
   "source": [
    "# Test for the tag_count function:\n",
    "list1 = ['<greeting>', 'Hello World!', '</greeting>']\n",
    "count = tag_count(list1)\n",
    "print(\"Expected result: 2, Actual result: {}\".format(count))"
   ]
  },
  {
   "cell_type": "markdown",
   "metadata": {},
   "source": [
    "** demo **"
   ]
  },
  {
   "cell_type": "code",
   "execution_count": 12,
   "metadata": {},
   "outputs": [
    {
     "name": "stdout",
     "output_type": "stream",
     "text": [
      "['charlotte hippopotamus turner', 'oliver st. john-mollusc', 'nigel incubator-jones', 'philip diplodocus mallory']\n"
     ]
    }
   ],
   "source": [
    "names = ['charlotte hippopotamus turner', 'oliver st. john-mollusc', 'nigel incubator-jones', 'philip diplodocus mallory']\n",
    "\n",
    "for name in names:\n",
    "    name = name.title()\n",
    "\n",
    "print(names)"
   ]
  },
  {
   "cell_type": "code",
   "execution_count": null,
   "metadata": {
    "collapsed": true
   },
   "outputs": [],
   "source": []
  }
 ],
 "metadata": {
  "kernelspec": {
   "display_name": "Python 3",
   "language": "python",
   "name": "python3"
  },
  "language_info": {
   "codemirror_mode": {
    "name": "ipython",
    "version": 3
   },
   "file_extension": ".py",
   "mimetype": "text/x-python",
   "name": "python",
   "nbconvert_exporter": "python",
   "pygments_lexer": "ipython3",
   "version": "3.6.3"
  }
 },
 "nbformat": 4,
 "nbformat_minor": 2
}
