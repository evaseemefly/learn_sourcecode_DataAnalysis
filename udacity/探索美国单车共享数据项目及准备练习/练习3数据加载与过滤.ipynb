{
 "cells": [
  {
   "cell_type": "code",
   "execution_count": 2,
   "metadata": {
    "collapsed": true
   },
   "outputs": [],
   "source": [
    "import pandas as pd"
   ]
  },
  {
   "cell_type": "markdown",
   "metadata": {},
   "source": [
    "** 项目概述 **"
   ]
  },
  {
   "cell_type": "markdown",
   "metadata": {},
   "source": [
    "包括加载数据集并根据指定月份和星期名进行筛选。  \n",
    "在下面的测试中，你将实现 load_data() 函数，你也可以直接在项目中使用这个函数。共有以下四个步骤：  \n",
    "\n",
    "    加载指定城市的数据集。索引 global CITY_DATA 字典对象来获取指定城市名对应的文件名。  \n",
    "    创建 month 以及 day_of_week 列。将 \"Start Time\" 列转换为 datetime，并使用 datetime 模块分列提取 month number（月份数）和 weekday name （星期名）。  \n",
    "    根据月份筛选。由于 month 参数是以月份名称给出的，你首先需要将其转换为对应的月份数字。接着，选择包含指定月份的 dataframe 行，并重新为 dataframe 赋值。  \n",
    "    根据星期名筛选。选择包含指定星期名的 dataframe 行，并重新为其分配 dataframe。  （注意：请使用 title() 方法将 day 参数首字母大写，与 day_of_week 列中使用的首字母大写对应。）\n"
   ]
  },
  {
   "cell_type": "code",
   "execution_count": 3,
   "metadata": {
    "collapsed": true
   },
   "outputs": [],
   "source": [
    "filename = 'chicago.csv'\n",
    "\n",
    "# load data file into a dataframe\n",
    "df = pd.read_csv(filename)"
   ]
  },
  {
   "cell_type": "code",
   "execution_count": 4,
   "metadata": {},
   "outputs": [
    {
     "data": {
      "text/html": [
       "<div>\n",
       "<style>\n",
       "    .dataframe thead tr:only-child th {\n",
       "        text-align: right;\n",
       "    }\n",
       "\n",
       "    .dataframe thead th {\n",
       "        text-align: left;\n",
       "    }\n",
       "\n",
       "    .dataframe tbody tr th {\n",
       "        vertical-align: top;\n",
       "    }\n",
       "</style>\n",
       "<table border=\"1\" class=\"dataframe\">\n",
       "  <thead>\n",
       "    <tr style=\"text-align: right;\">\n",
       "      <th></th>\n",
       "      <th>Start Time</th>\n",
       "      <th>End Time</th>\n",
       "      <th>Trip Duration</th>\n",
       "      <th>Start Station</th>\n",
       "      <th>End Station</th>\n",
       "      <th>User Type</th>\n",
       "      <th>Gender</th>\n",
       "      <th>Birth Year</th>\n",
       "    </tr>\n",
       "  </thead>\n",
       "  <tbody>\n",
       "    <tr>\n",
       "      <th>0</th>\n",
       "      <td>2017-05-29 18:36:27</td>\n",
       "      <td>2017-05-29 18:49:27</td>\n",
       "      <td>780</td>\n",
       "      <td>Columbus Dr &amp; Randolph St</td>\n",
       "      <td>Federal St &amp; Polk St</td>\n",
       "      <td>Subscriber</td>\n",
       "      <td>Male</td>\n",
       "      <td>1991.0</td>\n",
       "    </tr>\n",
       "    <tr>\n",
       "      <th>1</th>\n",
       "      <td>2017-06-12 19:00:33</td>\n",
       "      <td>2017-06-12 19:24:22</td>\n",
       "      <td>1429</td>\n",
       "      <td>Kingsbury St &amp; Erie St</td>\n",
       "      <td>Orleans St &amp; Merchandise Mart Plaza</td>\n",
       "      <td>Customer</td>\n",
       "      <td>NaN</td>\n",
       "      <td>NaN</td>\n",
       "    </tr>\n",
       "    <tr>\n",
       "      <th>2</th>\n",
       "      <td>2017-02-13 17:02:02</td>\n",
       "      <td>2017-02-13 17:20:10</td>\n",
       "      <td>1088</td>\n",
       "      <td>Canal St &amp; Madison St</td>\n",
       "      <td>Paulina Ave &amp; North Ave</td>\n",
       "      <td>Subscriber</td>\n",
       "      <td>Female</td>\n",
       "      <td>1982.0</td>\n",
       "    </tr>\n",
       "    <tr>\n",
       "      <th>3</th>\n",
       "      <td>2017-04-24 18:39:45</td>\n",
       "      <td>2017-04-24 18:54:59</td>\n",
       "      <td>914</td>\n",
       "      <td>Spaulding Ave &amp; Armitage Ave</td>\n",
       "      <td>California Ave &amp; Milwaukee Ave</td>\n",
       "      <td>Subscriber</td>\n",
       "      <td>Male</td>\n",
       "      <td>1966.0</td>\n",
       "    </tr>\n",
       "    <tr>\n",
       "      <th>4</th>\n",
       "      <td>2017-01-26 15:36:07</td>\n",
       "      <td>2017-01-26 15:43:21</td>\n",
       "      <td>434</td>\n",
       "      <td>Clark St &amp; Randolph St</td>\n",
       "      <td>Financial Pl &amp; Congress Pkwy</td>\n",
       "      <td>Subscriber</td>\n",
       "      <td>Female</td>\n",
       "      <td>1983.0</td>\n",
       "    </tr>\n",
       "  </tbody>\n",
       "</table>\n",
       "</div>"
      ],
      "text/plain": [
       "            Start Time             End Time  Trip Duration  \\\n",
       "0  2017-05-29 18:36:27  2017-05-29 18:49:27            780   \n",
       "1  2017-06-12 19:00:33  2017-06-12 19:24:22           1429   \n",
       "2  2017-02-13 17:02:02  2017-02-13 17:20:10           1088   \n",
       "3  2017-04-24 18:39:45  2017-04-24 18:54:59            914   \n",
       "4  2017-01-26 15:36:07  2017-01-26 15:43:21            434   \n",
       "\n",
       "                  Start Station                          End Station  \\\n",
       "0     Columbus Dr & Randolph St                 Federal St & Polk St   \n",
       "1        Kingsbury St & Erie St  Orleans St & Merchandise Mart Plaza   \n",
       "2         Canal St & Madison St              Paulina Ave & North Ave   \n",
       "3  Spaulding Ave & Armitage Ave       California Ave & Milwaukee Ave   \n",
       "4        Clark St & Randolph St         Financial Pl & Congress Pkwy   \n",
       "\n",
       "    User Type  Gender  Birth Year  \n",
       "0  Subscriber    Male      1991.0  \n",
       "1    Customer     NaN         NaN  \n",
       "2  Subscriber  Female      1982.0  \n",
       "3  Subscriber    Male      1966.0  \n",
       "4  Subscriber  Female      1983.0  "
      ]
     },
     "execution_count": 4,
     "metadata": {},
     "output_type": "execute_result"
    }
   ],
   "source": [
    "df.head()"
   ]
  },
  {
   "cell_type": "code",
   "execution_count": 4,
   "metadata": {
    "collapsed": true
   },
   "outputs": [],
   "source": [
    "import pandas as pd\n",
    "import datetime\n",
    "\n",
    "CITY_DATA = { 'chicago': 'chicago.csv',\n",
    "              'new york city': 'new_york_city.csv',\n",
    "              'washington': 'washington.csv' }"
   ]
  },
  {
   "cell_type": "code",
   "execution_count": 5,
   "metadata": {},
   "outputs": [
    {
     "data": {
      "text/plain": [
       "0    2017-05-29 18:36:27\n",
       "1    2017-06-12 19:00:33\n",
       "2    2017-02-13 17:02:02\n",
       "3    2017-04-24 18:39:45\n",
       "4    2017-01-26 15:36:07\n",
       "Name: Start Time, dtype: object"
      ]
     },
     "execution_count": 5,
     "metadata": {},
     "output_type": "execute_result"
    }
   ],
   "source": [
    "df['Start Time'].head()"
   ]
  },
  {
   "cell_type": "code",
   "execution_count": 6,
   "metadata": {},
   "outputs": [
    {
     "data": {
      "text/plain": [
       "'2017-05-29 18:36:27'"
      ]
     },
     "execution_count": 6,
     "metadata": {},
     "output_type": "execute_result"
    }
   ],
   "source": [
    "df['Start Time'][0]"
   ]
  },
  {
   "cell_type": "code",
   "execution_count": 7,
   "metadata": {},
   "outputs": [
    {
     "data": {
      "text/plain": [
       "str"
      ]
     },
     "execution_count": 7,
     "metadata": {},
     "output_type": "execute_result"
    }
   ],
   "source": [
    "type(df['Start Time'][0])"
   ]
  },
  {
   "cell_type": "markdown",
   "metadata": {},
   "source": [
    "** 将时间转为datetime **"
   ]
  },
  {
   "cell_type": "markdown",
   "metadata": {},
   "source": [
    "** 注意：datetime与timestamp均有year，month，day等属性**"
   ]
  },
  {
   "cell_type": "code",
   "execution_count": 8,
   "metadata": {},
   "outputs": [
    {
     "data": {
      "text/plain": [
       "datetime.datetime(2017, 5, 29, 18, 36, 27)"
      ]
     },
     "execution_count": 8,
     "metadata": {},
     "output_type": "execute_result"
    }
   ],
   "source": [
    "dt_target=datetime.datetime.strptime(df['Start Time'][0],'%Y-%m-%d %H:%M:%S')\n",
    "dt_target"
   ]
  },
  {
   "cell_type": "code",
   "execution_count": 9,
   "metadata": {},
   "outputs": [
    {
     "data": {
      "text/plain": [
       "2017"
      ]
     },
     "execution_count": 9,
     "metadata": {},
     "output_type": "execute_result"
    }
   ],
   "source": [
    "dt_target.year"
   ]
  },
  {
   "cell_type": "code",
   "execution_count": 10,
   "metadata": {},
   "outputs": [
    {
     "data": {
      "text/plain": [
       "'2017-05-29 18:36:27'"
      ]
     },
     "execution_count": 10,
     "metadata": {},
     "output_type": "execute_result"
    }
   ],
   "source": [
    "df['Start Time'][0]"
   ]
  },
  {
   "cell_type": "code",
   "execution_count": 11,
   "metadata": {},
   "outputs": [
    {
     "data": {
      "text/plain": [
       "str"
      ]
     },
     "execution_count": 11,
     "metadata": {},
     "output_type": "execute_result"
    }
   ],
   "source": [
    "type(df['Start Time'][0])"
   ]
  },
  {
   "cell_type": "markdown",
   "metadata": {},
   "source": [
    "** 使用pd.to_datetime将每一个str类型（series）的dt转成timestamp**"
   ]
  },
  {
   "cell_type": "code",
   "execution_count": 12,
   "metadata": {
    "collapsed": true
   },
   "outputs": [],
   "source": [
    "ts=pd.to_datetime(df['Start Time'][0])"
   ]
  },
  {
   "cell_type": "code",
   "execution_count": 13,
   "metadata": {},
   "outputs": [
    {
     "data": {
      "text/plain": [
       "pandas._libs.tslib.Timestamp"
      ]
     },
     "execution_count": 13,
     "metadata": {},
     "output_type": "execute_result"
    }
   ],
   "source": [
    "type(ts)"
   ]
  },
  {
   "cell_type": "code",
   "execution_count": 15,
   "metadata": {},
   "outputs": [
    {
     "data": {
      "text/plain": [
       "Timestamp('2017-05-29 18:36:27')"
      ]
     },
     "execution_count": 15,
     "metadata": {},
     "output_type": "execute_result"
    }
   ],
   "source": [
    "ts"
   ]
  },
  {
   "cell_type": "code",
   "execution_count": 16,
   "metadata": {},
   "outputs": [
    {
     "data": {
      "text/plain": [
       "2017"
      ]
     },
     "execution_count": 16,
     "metadata": {},
     "output_type": "execute_result"
    }
   ],
   "source": [
    "ts.year"
   ]
  },
  {
   "cell_type": "code",
   "execution_count": 17,
   "metadata": {},
   "outputs": [
    {
     "data": {
      "text/plain": [
       "5"
      ]
     },
     "execution_count": 17,
     "metadata": {},
     "output_type": "execute_result"
    }
   ],
   "source": [
    "ts.month"
   ]
  },
  {
   "cell_type": "code",
   "execution_count": 18,
   "metadata": {},
   "outputs": [
    {
     "data": {
      "text/plain": [
       "0"
      ]
     },
     "execution_count": 18,
     "metadata": {},
     "output_type": "execute_result"
    }
   ],
   "source": [
    "ts.weekday()"
   ]
  },
  {
   "cell_type": "code",
   "execution_count": 19,
   "metadata": {},
   "outputs": [
    {
     "data": {
      "text/plain": [
       "18"
      ]
     },
     "execution_count": 19,
     "metadata": {},
     "output_type": "execute_result"
    }
   ],
   "source": [
    "ts.hour"
   ]
  },
  {
   "cell_type": "markdown",
   "metadata": {},
   "source": [
    "### 筛选df数据（获取指定月份的数据）"
   ]
  },
  {
   "cell_type": "code",
   "execution_count": 21,
   "metadata": {
    "collapsed": true
   },
   "outputs": [],
   "source": [
    "df['month']=ts.month"
   ]
  },
  {
   "cell_type": "code",
   "execution_count": 33,
   "metadata": {
    "collapsed": true
   },
   "outputs": [],
   "source": [
    "df['Start Time']=pd.to_datetime(df['Start Time'])"
   ]
  },
  {
   "cell_type": "code",
   "execution_count": 34,
   "metadata": {},
   "outputs": [
    {
     "data": {
      "text/plain": [
       "0   2017-05-29 18:36:27\n",
       "1   2017-06-12 19:00:33\n",
       "2   2017-02-13 17:02:02\n",
       "3   2017-04-24 18:39:45\n",
       "4   2017-01-26 15:36:07\n",
       "Name: Start Time, dtype: datetime64[ns]"
      ]
     },
     "execution_count": 34,
     "metadata": {},
     "output_type": "execute_result"
    }
   ],
   "source": [
    "df['Start Time'].head()"
   ]
  },
  {
   "cell_type": "code",
   "execution_count": 35,
   "metadata": {},
   "outputs": [
    {
     "data": {
      "text/plain": [
       "pandas._libs.tslib.Timestamp"
      ]
     },
     "execution_count": 35,
     "metadata": {},
     "output_type": "execute_result"
    }
   ],
   "source": [
    "type(df['Start Time'][0])"
   ]
  },
  {
   "cell_type": "code",
   "execution_count": 37,
   "metadata": {
    "collapsed": true
   },
   "outputs": [],
   "source": [
    "# df['Start Time'].dt.month"
   ]
  },
  {
   "cell_type": "code",
   "execution_count": 23,
   "metadata": {},
   "outputs": [
    {
     "data": {
      "text/html": [
       "<div>\n",
       "<style>\n",
       "    .dataframe thead tr:only-child th {\n",
       "        text-align: right;\n",
       "    }\n",
       "\n",
       "    .dataframe thead th {\n",
       "        text-align: left;\n",
       "    }\n",
       "\n",
       "    .dataframe tbody tr th {\n",
       "        vertical-align: top;\n",
       "    }\n",
       "</style>\n",
       "<table border=\"1\" class=\"dataframe\">\n",
       "  <thead>\n",
       "    <tr style=\"text-align: right;\">\n",
       "      <th></th>\n",
       "      <th>Start Time</th>\n",
       "      <th>End Time</th>\n",
       "      <th>Trip Duration</th>\n",
       "      <th>Start Station</th>\n",
       "      <th>End Station</th>\n",
       "      <th>User Type</th>\n",
       "      <th>Gender</th>\n",
       "      <th>Birth Year</th>\n",
       "      <th>month</th>\n",
       "    </tr>\n",
       "  </thead>\n",
       "  <tbody>\n",
       "    <tr>\n",
       "      <th>0</th>\n",
       "      <td>2017-05-29 18:36:27</td>\n",
       "      <td>2017-05-29 18:49:27</td>\n",
       "      <td>780</td>\n",
       "      <td>Columbus Dr &amp; Randolph St</td>\n",
       "      <td>Federal St &amp; Polk St</td>\n",
       "      <td>Subscriber</td>\n",
       "      <td>Male</td>\n",
       "      <td>1991.0</td>\n",
       "      <td>5</td>\n",
       "    </tr>\n",
       "    <tr>\n",
       "      <th>1</th>\n",
       "      <td>2017-06-12 19:00:33</td>\n",
       "      <td>2017-06-12 19:24:22</td>\n",
       "      <td>1429</td>\n",
       "      <td>Kingsbury St &amp; Erie St</td>\n",
       "      <td>Orleans St &amp; Merchandise Mart Plaza</td>\n",
       "      <td>Customer</td>\n",
       "      <td>NaN</td>\n",
       "      <td>NaN</td>\n",
       "      <td>5</td>\n",
       "    </tr>\n",
       "    <tr>\n",
       "      <th>2</th>\n",
       "      <td>2017-02-13 17:02:02</td>\n",
       "      <td>2017-02-13 17:20:10</td>\n",
       "      <td>1088</td>\n",
       "      <td>Canal St &amp; Madison St</td>\n",
       "      <td>Paulina Ave &amp; North Ave</td>\n",
       "      <td>Subscriber</td>\n",
       "      <td>Female</td>\n",
       "      <td>1982.0</td>\n",
       "      <td>5</td>\n",
       "    </tr>\n",
       "    <tr>\n",
       "      <th>3</th>\n",
       "      <td>2017-04-24 18:39:45</td>\n",
       "      <td>2017-04-24 18:54:59</td>\n",
       "      <td>914</td>\n",
       "      <td>Spaulding Ave &amp; Armitage Ave</td>\n",
       "      <td>California Ave &amp; Milwaukee Ave</td>\n",
       "      <td>Subscriber</td>\n",
       "      <td>Male</td>\n",
       "      <td>1966.0</td>\n",
       "      <td>5</td>\n",
       "    </tr>\n",
       "    <tr>\n",
       "      <th>4</th>\n",
       "      <td>2017-01-26 15:36:07</td>\n",
       "      <td>2017-01-26 15:43:21</td>\n",
       "      <td>434</td>\n",
       "      <td>Clark St &amp; Randolph St</td>\n",
       "      <td>Financial Pl &amp; Congress Pkwy</td>\n",
       "      <td>Subscriber</td>\n",
       "      <td>Female</td>\n",
       "      <td>1983.0</td>\n",
       "      <td>5</td>\n",
       "    </tr>\n",
       "    <tr>\n",
       "      <th>5</th>\n",
       "      <td>2017-06-21 09:43:54</td>\n",
       "      <td>2017-06-21 10:01:31</td>\n",
       "      <td>1057</td>\n",
       "      <td>Ogden Ave &amp; Race Ave</td>\n",
       "      <td>Franklin St &amp; Monroe St</td>\n",
       "      <td>Subscriber</td>\n",
       "      <td>Female</td>\n",
       "      <td>1981.0</td>\n",
       "      <td>5</td>\n",
       "    </tr>\n",
       "    <tr>\n",
       "      <th>6</th>\n",
       "      <td>2017-04-24 08:33:31</td>\n",
       "      <td>2017-04-24 08:38:47</td>\n",
       "      <td>316</td>\n",
       "      <td>Clinton St &amp; Washington Blvd</td>\n",
       "      <td>Morgan St &amp; Lake St</td>\n",
       "      <td>Subscriber</td>\n",
       "      <td>Male</td>\n",
       "      <td>1986.0</td>\n",
       "      <td>5</td>\n",
       "    </tr>\n",
       "    <tr>\n",
       "      <th>7</th>\n",
       "      <td>2017-03-21 07:23:58</td>\n",
       "      <td>2017-03-21 07:33:17</td>\n",
       "      <td>559</td>\n",
       "      <td>Canal St &amp; Adams St</td>\n",
       "      <td>Michigan Ave &amp; Lake St</td>\n",
       "      <td>Subscriber</td>\n",
       "      <td>Male</td>\n",
       "      <td>1969.0</td>\n",
       "      <td>5</td>\n",
       "    </tr>\n",
       "    <tr>\n",
       "      <th>8</th>\n",
       "      <td>2017-01-14 12:16:20</td>\n",
       "      <td>2017-01-14 12:58:17</td>\n",
       "      <td>2517</td>\n",
       "      <td>Wentworth Ave &amp; Archer Ave</td>\n",
       "      <td>Franklin St &amp; Jackson Blvd</td>\n",
       "      <td>Customer</td>\n",
       "      <td>NaN</td>\n",
       "      <td>NaN</td>\n",
       "      <td>5</td>\n",
       "    </tr>\n",
       "    <tr>\n",
       "      <th>9</th>\n",
       "      <td>2017-04-06 09:15:52</td>\n",
       "      <td>2017-04-06 09:22:11</td>\n",
       "      <td>379</td>\n",
       "      <td>Canal St &amp; Madison St</td>\n",
       "      <td>Clark St &amp; Lake St</td>\n",
       "      <td>Subscriber</td>\n",
       "      <td>Male</td>\n",
       "      <td>1982.0</td>\n",
       "      <td>5</td>\n",
       "    </tr>\n",
       "    <tr>\n",
       "      <th>10</th>\n",
       "      <td>2017-06-13 17:02:44</td>\n",
       "      <td>2017-06-13 17:08:17</td>\n",
       "      <td>333</td>\n",
       "      <td>State St &amp; Kinzie St</td>\n",
       "      <td>Stetson Ave &amp; South Water St</td>\n",
       "      <td>Subscriber</td>\n",
       "      <td>Male</td>\n",
       "      <td>1963.0</td>\n",
       "      <td>5</td>\n",
       "    </tr>\n",
       "    <tr>\n",
       "      <th>11</th>\n",
       "      <td>2017-03-09 09:15:39</td>\n",
       "      <td>2017-03-09 09:18:56</td>\n",
       "      <td>197</td>\n",
       "      <td>Clark St &amp; Lake St</td>\n",
       "      <td>Rush St &amp; Hubbard St</td>\n",
       "      <td>Subscriber</td>\n",
       "      <td>Male</td>\n",
       "      <td>1986.0</td>\n",
       "      <td>5</td>\n",
       "    </tr>\n",
       "    <tr>\n",
       "      <th>12</th>\n",
       "      <td>2017-03-22 06:54:00</td>\n",
       "      <td>2017-03-22 06:59:02</td>\n",
       "      <td>302</td>\n",
       "      <td>Larrabee St &amp; Division St</td>\n",
       "      <td>Clark St &amp; Elm St</td>\n",
       "      <td>Subscriber</td>\n",
       "      <td>Female</td>\n",
       "      <td>1990.0</td>\n",
       "      <td>5</td>\n",
       "    </tr>\n",
       "    <tr>\n",
       "      <th>13</th>\n",
       "      <td>2017-02-21 17:51:52</td>\n",
       "      <td>2017-02-21 17:55:03</td>\n",
       "      <td>191</td>\n",
       "      <td>Ashland Ave &amp; Division St</td>\n",
       "      <td>Damen Ave &amp; Division St</td>\n",
       "      <td>Subscriber</td>\n",
       "      <td>Male</td>\n",
       "      <td>1979.0</td>\n",
       "      <td>5</td>\n",
       "    </tr>\n",
       "    <tr>\n",
       "      <th>14</th>\n",
       "      <td>2017-03-13 13:19:26</td>\n",
       "      <td>2017-03-13 13:27:35</td>\n",
       "      <td>489</td>\n",
       "      <td>LaSalle St &amp; Washington St</td>\n",
       "      <td>Sangamon St &amp; Washington Blvd (*)</td>\n",
       "      <td>Subscriber</td>\n",
       "      <td>Male</td>\n",
       "      <td>1972.0</td>\n",
       "      <td>5</td>\n",
       "    </tr>\n",
       "    <tr>\n",
       "      <th>15</th>\n",
       "      <td>2017-04-04 23:12:25</td>\n",
       "      <td>2017-04-04 23:25:56</td>\n",
       "      <td>811</td>\n",
       "      <td>Sheffield Ave &amp; Webster Ave</td>\n",
       "      <td>Halsted St &amp; Roscoe St</td>\n",
       "      <td>Subscriber</td>\n",
       "      <td>Male</td>\n",
       "      <td>1990.0</td>\n",
       "      <td>5</td>\n",
       "    </tr>\n",
       "    <tr>\n",
       "      <th>16</th>\n",
       "      <td>2017-04-05 19:28:40</td>\n",
       "      <td>2017-04-05 19:35:59</td>\n",
       "      <td>439</td>\n",
       "      <td>Orleans St &amp; Merchandise Mart Plaza</td>\n",
       "      <td>Clinton St &amp; Washington Blvd</td>\n",
       "      <td>Subscriber</td>\n",
       "      <td>Male</td>\n",
       "      <td>1957.0</td>\n",
       "      <td>5</td>\n",
       "    </tr>\n",
       "    <tr>\n",
       "      <th>17</th>\n",
       "      <td>2017-05-15 15:49:46</td>\n",
       "      <td>2017-05-15 15:57:25</td>\n",
       "      <td>459</td>\n",
       "      <td>Southport Ave &amp; Irving Park Rd</td>\n",
       "      <td>Lincoln Ave &amp; Roscoe St</td>\n",
       "      <td>Subscriber</td>\n",
       "      <td>Male</td>\n",
       "      <td>1962.0</td>\n",
       "      <td>5</td>\n",
       "    </tr>\n",
       "    <tr>\n",
       "      <th>18</th>\n",
       "      <td>2017-02-18 15:23:05</td>\n",
       "      <td>2017-02-18 15:54:18</td>\n",
       "      <td>1873</td>\n",
       "      <td>Central St &amp; Girard Ave</td>\n",
       "      <td>Central St &amp; Girard Ave</td>\n",
       "      <td>Subscriber</td>\n",
       "      <td>Male</td>\n",
       "      <td>1982.0</td>\n",
       "      <td>5</td>\n",
       "    </tr>\n",
       "    <tr>\n",
       "      <th>19</th>\n",
       "      <td>2017-04-02 13:21:17</td>\n",
       "      <td>2017-04-02 13:30:55</td>\n",
       "      <td>578</td>\n",
       "      <td>Kingsbury St &amp; Kinzie St</td>\n",
       "      <td>Wells St &amp; Elm St</td>\n",
       "      <td>Subscriber</td>\n",
       "      <td>Male</td>\n",
       "      <td>1965.0</td>\n",
       "      <td>5</td>\n",
       "    </tr>\n",
       "    <tr>\n",
       "      <th>20</th>\n",
       "      <td>2017-06-20 11:38:18</td>\n",
       "      <td>2017-06-20 11:51:54</td>\n",
       "      <td>816</td>\n",
       "      <td>State St &amp; Pearson St</td>\n",
       "      <td>Clinton St &amp; Madison St</td>\n",
       "      <td>Subscriber</td>\n",
       "      <td>Male</td>\n",
       "      <td>1987.0</td>\n",
       "      <td>5</td>\n",
       "    </tr>\n",
       "    <tr>\n",
       "      <th>21</th>\n",
       "      <td>2017-02-01 08:49:24</td>\n",
       "      <td>2017-02-01 09:06:49</td>\n",
       "      <td>1045</td>\n",
       "      <td>Clinton St &amp; 18th St</td>\n",
       "      <td>Clinton St &amp; Washington Blvd</td>\n",
       "      <td>Subscriber</td>\n",
       "      <td>Female</td>\n",
       "      <td>1985.0</td>\n",
       "      <td>5</td>\n",
       "    </tr>\n",
       "    <tr>\n",
       "      <th>22</th>\n",
       "      <td>2017-04-11 11:22:42</td>\n",
       "      <td>2017-04-11 11:40:22</td>\n",
       "      <td>1060</td>\n",
       "      <td>Loomis St &amp; Jackson Blvd</td>\n",
       "      <td>Clark St &amp; Lake St</td>\n",
       "      <td>Subscriber</td>\n",
       "      <td>Male</td>\n",
       "      <td>1974.0</td>\n",
       "      <td>5</td>\n",
       "    </tr>\n",
       "    <tr>\n",
       "      <th>23</th>\n",
       "      <td>2017-05-21 12:07:47</td>\n",
       "      <td>2017-05-21 12:13:46</td>\n",
       "      <td>359</td>\n",
       "      <td>Orleans St &amp; Merchandise Mart Plaza</td>\n",
       "      <td>Green St &amp; Randolph St</td>\n",
       "      <td>Subscriber</td>\n",
       "      <td>Male</td>\n",
       "      <td>1991.0</td>\n",
       "      <td>5</td>\n",
       "    </tr>\n",
       "    <tr>\n",
       "      <th>24</th>\n",
       "      <td>2017-06-28 21:07:24</td>\n",
       "      <td>2017-06-28 21:21:57</td>\n",
       "      <td>873</td>\n",
       "      <td>Paulina Ave &amp; North Ave</td>\n",
       "      <td>Troy St &amp; North Ave</td>\n",
       "      <td>Subscriber</td>\n",
       "      <td>Female</td>\n",
       "      <td>1994.0</td>\n",
       "      <td>5</td>\n",
       "    </tr>\n",
       "    <tr>\n",
       "      <th>25</th>\n",
       "      <td>2017-02-08 17:33:43</td>\n",
       "      <td>2017-02-08 17:38:57</td>\n",
       "      <td>314</td>\n",
       "      <td>Wabash Ave &amp; 16th St</td>\n",
       "      <td>Wabash Ave &amp; Roosevelt Rd</td>\n",
       "      <td>Subscriber</td>\n",
       "      <td>Female</td>\n",
       "      <td>1984.0</td>\n",
       "      <td>5</td>\n",
       "    </tr>\n",
       "    <tr>\n",
       "      <th>26</th>\n",
       "      <td>2017-06-24 21:58:46</td>\n",
       "      <td>2017-06-24 22:22:28</td>\n",
       "      <td>1422</td>\n",
       "      <td>Adler Planetarium</td>\n",
       "      <td>State St &amp; Randolph St</td>\n",
       "      <td>Customer</td>\n",
       "      <td>NaN</td>\n",
       "      <td>NaN</td>\n",
       "      <td>5</td>\n",
       "    </tr>\n",
       "    <tr>\n",
       "      <th>27</th>\n",
       "      <td>2017-05-23 08:18:01</td>\n",
       "      <td>2017-05-23 08:33:06</td>\n",
       "      <td>905</td>\n",
       "      <td>Ogden Ave &amp; Race Ave</td>\n",
       "      <td>Daley Center Plaza</td>\n",
       "      <td>Subscriber</td>\n",
       "      <td>Female</td>\n",
       "      <td>1984.0</td>\n",
       "      <td>5</td>\n",
       "    </tr>\n",
       "    <tr>\n",
       "      <th>28</th>\n",
       "      <td>2017-06-07 12:30:44</td>\n",
       "      <td>2017-06-07 12:44:48</td>\n",
       "      <td>844</td>\n",
       "      <td>Columbus Dr &amp; Randolph St</td>\n",
       "      <td>Clinton St &amp; Jackson Blvd</td>\n",
       "      <td>Subscriber</td>\n",
       "      <td>Male</td>\n",
       "      <td>1957.0</td>\n",
       "      <td>5</td>\n",
       "    </tr>\n",
       "    <tr>\n",
       "      <th>29</th>\n",
       "      <td>2017-04-04 14:12:57</td>\n",
       "      <td>2017-04-04 14:16:54</td>\n",
       "      <td>237</td>\n",
       "      <td>California Ave &amp; Milwaukee Ave</td>\n",
       "      <td>Stave St &amp; Armitage Ave</td>\n",
       "      <td>Subscriber</td>\n",
       "      <td>Male</td>\n",
       "      <td>1957.0</td>\n",
       "      <td>5</td>\n",
       "    </tr>\n",
       "    <tr>\n",
       "      <th>...</th>\n",
       "      <td>...</td>\n",
       "      <td>...</td>\n",
       "      <td>...</td>\n",
       "      <td>...</td>\n",
       "      <td>...</td>\n",
       "      <td>...</td>\n",
       "      <td>...</td>\n",
       "      <td>...</td>\n",
       "      <td>...</td>\n",
       "    </tr>\n",
       "    <tr>\n",
       "      <th>370</th>\n",
       "      <td>2017-01-25 08:41:58</td>\n",
       "      <td>2017-01-25 08:45:53</td>\n",
       "      <td>235</td>\n",
       "      <td>Sangamon St &amp; Washington Blvd (*)</td>\n",
       "      <td>Clinton St &amp; Madison St</td>\n",
       "      <td>Subscriber</td>\n",
       "      <td>Male</td>\n",
       "      <td>1985.0</td>\n",
       "      <td>5</td>\n",
       "    </tr>\n",
       "    <tr>\n",
       "      <th>371</th>\n",
       "      <td>2017-06-07 17:38:27</td>\n",
       "      <td>2017-06-07 17:45:28</td>\n",
       "      <td>421</td>\n",
       "      <td>Michigan Ave &amp; Washington St</td>\n",
       "      <td>Wacker Dr &amp; Washington St</td>\n",
       "      <td>Subscriber</td>\n",
       "      <td>Male</td>\n",
       "      <td>1963.0</td>\n",
       "      <td>5</td>\n",
       "    </tr>\n",
       "    <tr>\n",
       "      <th>372</th>\n",
       "      <td>2017-03-23 13:21:51</td>\n",
       "      <td>2017-03-23 13:32:46</td>\n",
       "      <td>655</td>\n",
       "      <td>Dearborn St &amp; Adams St</td>\n",
       "      <td>Rush St &amp; Superior St</td>\n",
       "      <td>Subscriber</td>\n",
       "      <td>Female</td>\n",
       "      <td>1971.0</td>\n",
       "      <td>5</td>\n",
       "    </tr>\n",
       "    <tr>\n",
       "      <th>373</th>\n",
       "      <td>2017-05-22 06:45:24</td>\n",
       "      <td>2017-05-22 06:55:15</td>\n",
       "      <td>591</td>\n",
       "      <td>Campbell Ave &amp; Montrose Ave</td>\n",
       "      <td>Damen Ave &amp; Sunnyside Ave</td>\n",
       "      <td>Subscriber</td>\n",
       "      <td>Female</td>\n",
       "      <td>1973.0</td>\n",
       "      <td>5</td>\n",
       "    </tr>\n",
       "    <tr>\n",
       "      <th>374</th>\n",
       "      <td>2017-04-15 15:47:57</td>\n",
       "      <td>2017-04-15 16:04:28</td>\n",
       "      <td>991</td>\n",
       "      <td>Dearborn Pkwy &amp; Delaware Pl</td>\n",
       "      <td>Halsted St &amp; Wrightwood Ave</td>\n",
       "      <td>Customer</td>\n",
       "      <td>NaN</td>\n",
       "      <td>NaN</td>\n",
       "      <td>5</td>\n",
       "    </tr>\n",
       "    <tr>\n",
       "      <th>375</th>\n",
       "      <td>2017-06-24 16:48:07</td>\n",
       "      <td>2017-06-24 16:56:22</td>\n",
       "      <td>495</td>\n",
       "      <td>State St &amp; Pearson St</td>\n",
       "      <td>McClurg Ct &amp; Illinois St</td>\n",
       "      <td>Subscriber</td>\n",
       "      <td>Male</td>\n",
       "      <td>1984.0</td>\n",
       "      <td>5</td>\n",
       "    </tr>\n",
       "    <tr>\n",
       "      <th>376</th>\n",
       "      <td>2017-05-19 07:15:41</td>\n",
       "      <td>2017-05-19 07:21:17</td>\n",
       "      <td>336</td>\n",
       "      <td>Clinton St &amp; Washington Blvd</td>\n",
       "      <td>Michigan Ave &amp; Washington St</td>\n",
       "      <td>Subscriber</td>\n",
       "      <td>Male</td>\n",
       "      <td>1965.0</td>\n",
       "      <td>5</td>\n",
       "    </tr>\n",
       "    <tr>\n",
       "      <th>377</th>\n",
       "      <td>2017-06-27 16:10:55</td>\n",
       "      <td>2017-06-27 16:24:48</td>\n",
       "      <td>833</td>\n",
       "      <td>Marshfield Ave &amp; Cortland St</td>\n",
       "      <td>Clark St &amp; Armitage Ave</td>\n",
       "      <td>Customer</td>\n",
       "      <td>NaN</td>\n",
       "      <td>NaN</td>\n",
       "      <td>5</td>\n",
       "    </tr>\n",
       "    <tr>\n",
       "      <th>378</th>\n",
       "      <td>2017-06-16 17:17:23</td>\n",
       "      <td>2017-06-16 17:22:25</td>\n",
       "      <td>302</td>\n",
       "      <td>Racine Ave &amp; Fullerton Ave</td>\n",
       "      <td>Ashland Ave &amp; Wrightwood Ave</td>\n",
       "      <td>Subscriber</td>\n",
       "      <td>Female</td>\n",
       "      <td>1980.0</td>\n",
       "      <td>5</td>\n",
       "    </tr>\n",
       "    <tr>\n",
       "      <th>379</th>\n",
       "      <td>2017-03-20 08:28:01</td>\n",
       "      <td>2017-03-20 08:46:03</td>\n",
       "      <td>1082</td>\n",
       "      <td>Michigan Ave &amp; 14th St</td>\n",
       "      <td>Stetson Ave &amp; South Water St</td>\n",
       "      <td>Subscriber</td>\n",
       "      <td>Male</td>\n",
       "      <td>1973.0</td>\n",
       "      <td>5</td>\n",
       "    </tr>\n",
       "    <tr>\n",
       "      <th>380</th>\n",
       "      <td>2017-06-25 19:03:43</td>\n",
       "      <td>2017-06-26 08:16:14</td>\n",
       "      <td>47551</td>\n",
       "      <td>Lincoln Ave &amp; Diversey Pkwy</td>\n",
       "      <td>Lincoln Ave &amp; Diversey Pkwy</td>\n",
       "      <td>Subscriber</td>\n",
       "      <td>Male</td>\n",
       "      <td>1985.0</td>\n",
       "      <td>5</td>\n",
       "    </tr>\n",
       "    <tr>\n",
       "      <th>381</th>\n",
       "      <td>2017-06-05 07:19:18</td>\n",
       "      <td>2017-06-05 07:24:51</td>\n",
       "      <td>333</td>\n",
       "      <td>Cannon Dr &amp; Fullerton Ave</td>\n",
       "      <td>Clark St &amp; Wrightwood Ave</td>\n",
       "      <td>Subscriber</td>\n",
       "      <td>Male</td>\n",
       "      <td>1982.0</td>\n",
       "      <td>5</td>\n",
       "    </tr>\n",
       "    <tr>\n",
       "      <th>382</th>\n",
       "      <td>2017-04-27 12:46:12</td>\n",
       "      <td>2017-04-27 12:54:03</td>\n",
       "      <td>471</td>\n",
       "      <td>Wells St &amp; Huron St</td>\n",
       "      <td>Michigan Ave &amp; Lake St</td>\n",
       "      <td>Subscriber</td>\n",
       "      <td>Male</td>\n",
       "      <td>1972.0</td>\n",
       "      <td>5</td>\n",
       "    </tr>\n",
       "    <tr>\n",
       "      <th>383</th>\n",
       "      <td>2017-06-21 20:06:34</td>\n",
       "      <td>2017-06-21 20:25:10</td>\n",
       "      <td>1116</td>\n",
       "      <td>Wabash Ave &amp; Wacker Pl</td>\n",
       "      <td>Morgan St &amp; Lake St</td>\n",
       "      <td>Customer</td>\n",
       "      <td>NaN</td>\n",
       "      <td>NaN</td>\n",
       "      <td>5</td>\n",
       "    </tr>\n",
       "    <tr>\n",
       "      <th>384</th>\n",
       "      <td>2017-05-29 09:47:20</td>\n",
       "      <td>2017-05-29 10:14:31</td>\n",
       "      <td>1631</td>\n",
       "      <td>Benson Ave &amp; Church St</td>\n",
       "      <td>University Library (NU)</td>\n",
       "      <td>Customer</td>\n",
       "      <td>NaN</td>\n",
       "      <td>NaN</td>\n",
       "      <td>5</td>\n",
       "    </tr>\n",
       "    <tr>\n",
       "      <th>385</th>\n",
       "      <td>2017-01-15 19:34:35</td>\n",
       "      <td>2017-01-15 19:41:52</td>\n",
       "      <td>437</td>\n",
       "      <td>Clinton St &amp; Madison St</td>\n",
       "      <td>Racine Ave (May St) &amp; Fulton St</td>\n",
       "      <td>Subscriber</td>\n",
       "      <td>Male</td>\n",
       "      <td>1978.0</td>\n",
       "      <td>5</td>\n",
       "    </tr>\n",
       "    <tr>\n",
       "      <th>386</th>\n",
       "      <td>2017-06-22 08:20:15</td>\n",
       "      <td>2017-06-22 08:43:22</td>\n",
       "      <td>1387</td>\n",
       "      <td>Michigan Ave &amp; Oak St</td>\n",
       "      <td>Desplaines St &amp; Jackson Blvd</td>\n",
       "      <td>Subscriber</td>\n",
       "      <td>Male</td>\n",
       "      <td>1985.0</td>\n",
       "      <td>5</td>\n",
       "    </tr>\n",
       "    <tr>\n",
       "      <th>387</th>\n",
       "      <td>2017-02-07 14:36:00</td>\n",
       "      <td>2017-02-07 14:41:44</td>\n",
       "      <td>344</td>\n",
       "      <td>Kingsbury St &amp; Kinzie St</td>\n",
       "      <td>LaSalle St &amp; Washington St</td>\n",
       "      <td>Subscriber</td>\n",
       "      <td>Male</td>\n",
       "      <td>1966.0</td>\n",
       "      <td>5</td>\n",
       "    </tr>\n",
       "    <tr>\n",
       "      <th>388</th>\n",
       "      <td>2017-06-03 00:18:58</td>\n",
       "      <td>2017-06-03 00:41:19</td>\n",
       "      <td>1341</td>\n",
       "      <td>Wabash Ave &amp; Cermak Rd</td>\n",
       "      <td>Indiana Ave &amp; 31st St</td>\n",
       "      <td>Customer</td>\n",
       "      <td>NaN</td>\n",
       "      <td>NaN</td>\n",
       "      <td>5</td>\n",
       "    </tr>\n",
       "    <tr>\n",
       "      <th>389</th>\n",
       "      <td>2017-04-15 12:38:56</td>\n",
       "      <td>2017-04-15 12:56:52</td>\n",
       "      <td>1076</td>\n",
       "      <td>Adler Planetarium</td>\n",
       "      <td>Dusable Harbor</td>\n",
       "      <td>Subscriber</td>\n",
       "      <td>Male</td>\n",
       "      <td>1958.0</td>\n",
       "      <td>5</td>\n",
       "    </tr>\n",
       "    <tr>\n",
       "      <th>390</th>\n",
       "      <td>2017-01-26 12:16:01</td>\n",
       "      <td>2017-01-26 12:31:19</td>\n",
       "      <td>918</td>\n",
       "      <td>Kedzie Ave &amp; 21st St</td>\n",
       "      <td>Ogden Ave &amp; Roosevelt Rd</td>\n",
       "      <td>Subscriber</td>\n",
       "      <td>Male</td>\n",
       "      <td>1949.0</td>\n",
       "      <td>5</td>\n",
       "    </tr>\n",
       "    <tr>\n",
       "      <th>391</th>\n",
       "      <td>2017-05-21 19:17:39</td>\n",
       "      <td>2017-05-21 19:22:12</td>\n",
       "      <td>273</td>\n",
       "      <td>Ashland Ave &amp; Division St</td>\n",
       "      <td>Paulina Ave &amp; North Ave</td>\n",
       "      <td>Subscriber</td>\n",
       "      <td>Male</td>\n",
       "      <td>1989.0</td>\n",
       "      <td>5</td>\n",
       "    </tr>\n",
       "    <tr>\n",
       "      <th>392</th>\n",
       "      <td>2017-04-08 18:39:53</td>\n",
       "      <td>2017-04-08 19:00:19</td>\n",
       "      <td>1226</td>\n",
       "      <td>Streeter Dr &amp; Grand Ave</td>\n",
       "      <td>Dearborn Pkwy &amp; Delaware Pl</td>\n",
       "      <td>Customer</td>\n",
       "      <td>NaN</td>\n",
       "      <td>NaN</td>\n",
       "      <td>5</td>\n",
       "    </tr>\n",
       "    <tr>\n",
       "      <th>393</th>\n",
       "      <td>2017-06-06 05:54:58</td>\n",
       "      <td>2017-06-06 05:59:56</td>\n",
       "      <td>298</td>\n",
       "      <td>McClurg Ct &amp; Illinois St</td>\n",
       "      <td>State St &amp; Kinzie St</td>\n",
       "      <td>Subscriber</td>\n",
       "      <td>Female</td>\n",
       "      <td>1971.0</td>\n",
       "      <td>5</td>\n",
       "    </tr>\n",
       "    <tr>\n",
       "      <th>394</th>\n",
       "      <td>2017-03-29 17:00:33</td>\n",
       "      <td>2017-03-29 17:04:43</td>\n",
       "      <td>250</td>\n",
       "      <td>Broadway &amp; Wilson Ave</td>\n",
       "      <td>Sheridan Rd &amp; Montrose Ave</td>\n",
       "      <td>Subscriber</td>\n",
       "      <td>Male</td>\n",
       "      <td>1993.0</td>\n",
       "      <td>5</td>\n",
       "    </tr>\n",
       "    <tr>\n",
       "      <th>395</th>\n",
       "      <td>2017-02-06 13:34:32</td>\n",
       "      <td>2017-02-06 13:41:35</td>\n",
       "      <td>423</td>\n",
       "      <td>Jefferson St &amp; Monroe St</td>\n",
       "      <td>Racine Ave &amp; Randolph St</td>\n",
       "      <td>Subscriber</td>\n",
       "      <td>Male</td>\n",
       "      <td>1973.0</td>\n",
       "      <td>5</td>\n",
       "    </tr>\n",
       "    <tr>\n",
       "      <th>396</th>\n",
       "      <td>2017-05-22 16:44:08</td>\n",
       "      <td>2017-05-22 16:48:05</td>\n",
       "      <td>237</td>\n",
       "      <td>Clark St &amp; Randolph St</td>\n",
       "      <td>Clinton St &amp; Washington Blvd</td>\n",
       "      <td>Subscriber</td>\n",
       "      <td>Male</td>\n",
       "      <td>1959.0</td>\n",
       "      <td>5</td>\n",
       "    </tr>\n",
       "    <tr>\n",
       "      <th>397</th>\n",
       "      <td>2017-06-09 17:03:44</td>\n",
       "      <td>2017-06-09 17:24:30</td>\n",
       "      <td>1246</td>\n",
       "      <td>Streeter Dr &amp; Grand Ave</td>\n",
       "      <td>Michigan Ave &amp; Lake St</td>\n",
       "      <td>Customer</td>\n",
       "      <td>NaN</td>\n",
       "      <td>NaN</td>\n",
       "      <td>5</td>\n",
       "    </tr>\n",
       "    <tr>\n",
       "      <th>398</th>\n",
       "      <td>2017-05-16 08:14:27</td>\n",
       "      <td>2017-05-16 08:28:24</td>\n",
       "      <td>837</td>\n",
       "      <td>Wabash Ave &amp; 16th St</td>\n",
       "      <td>Daley Center Plaza</td>\n",
       "      <td>Subscriber</td>\n",
       "      <td>Male</td>\n",
       "      <td>1988.0</td>\n",
       "      <td>5</td>\n",
       "    </tr>\n",
       "    <tr>\n",
       "      <th>399</th>\n",
       "      <td>2017-05-16 12:48:34</td>\n",
       "      <td>2017-05-16 12:58:17</td>\n",
       "      <td>583</td>\n",
       "      <td>Larrabee St &amp; Kingsbury St</td>\n",
       "      <td>Sangamon St &amp; Washington Blvd (*)</td>\n",
       "      <td>Subscriber</td>\n",
       "      <td>Male</td>\n",
       "      <td>1990.0</td>\n",
       "      <td>5</td>\n",
       "    </tr>\n",
       "  </tbody>\n",
       "</table>\n",
       "<p>400 rows × 9 columns</p>\n",
       "</div>"
      ],
      "text/plain": [
       "              Start Time             End Time  Trip Duration  \\\n",
       "0    2017-05-29 18:36:27  2017-05-29 18:49:27            780   \n",
       "1    2017-06-12 19:00:33  2017-06-12 19:24:22           1429   \n",
       "2    2017-02-13 17:02:02  2017-02-13 17:20:10           1088   \n",
       "3    2017-04-24 18:39:45  2017-04-24 18:54:59            914   \n",
       "4    2017-01-26 15:36:07  2017-01-26 15:43:21            434   \n",
       "5    2017-06-21 09:43:54  2017-06-21 10:01:31           1057   \n",
       "6    2017-04-24 08:33:31  2017-04-24 08:38:47            316   \n",
       "7    2017-03-21 07:23:58  2017-03-21 07:33:17            559   \n",
       "8    2017-01-14 12:16:20  2017-01-14 12:58:17           2517   \n",
       "9    2017-04-06 09:15:52  2017-04-06 09:22:11            379   \n",
       "10   2017-06-13 17:02:44  2017-06-13 17:08:17            333   \n",
       "11   2017-03-09 09:15:39  2017-03-09 09:18:56            197   \n",
       "12   2017-03-22 06:54:00  2017-03-22 06:59:02            302   \n",
       "13   2017-02-21 17:51:52  2017-02-21 17:55:03            191   \n",
       "14   2017-03-13 13:19:26  2017-03-13 13:27:35            489   \n",
       "15   2017-04-04 23:12:25  2017-04-04 23:25:56            811   \n",
       "16   2017-04-05 19:28:40  2017-04-05 19:35:59            439   \n",
       "17   2017-05-15 15:49:46  2017-05-15 15:57:25            459   \n",
       "18   2017-02-18 15:23:05  2017-02-18 15:54:18           1873   \n",
       "19   2017-04-02 13:21:17  2017-04-02 13:30:55            578   \n",
       "20   2017-06-20 11:38:18  2017-06-20 11:51:54            816   \n",
       "21   2017-02-01 08:49:24  2017-02-01 09:06:49           1045   \n",
       "22   2017-04-11 11:22:42  2017-04-11 11:40:22           1060   \n",
       "23   2017-05-21 12:07:47  2017-05-21 12:13:46            359   \n",
       "24   2017-06-28 21:07:24  2017-06-28 21:21:57            873   \n",
       "25   2017-02-08 17:33:43  2017-02-08 17:38:57            314   \n",
       "26   2017-06-24 21:58:46  2017-06-24 22:22:28           1422   \n",
       "27   2017-05-23 08:18:01  2017-05-23 08:33:06            905   \n",
       "28   2017-06-07 12:30:44  2017-06-07 12:44:48            844   \n",
       "29   2017-04-04 14:12:57  2017-04-04 14:16:54            237   \n",
       "..                   ...                  ...            ...   \n",
       "370  2017-01-25 08:41:58  2017-01-25 08:45:53            235   \n",
       "371  2017-06-07 17:38:27  2017-06-07 17:45:28            421   \n",
       "372  2017-03-23 13:21:51  2017-03-23 13:32:46            655   \n",
       "373  2017-05-22 06:45:24  2017-05-22 06:55:15            591   \n",
       "374  2017-04-15 15:47:57  2017-04-15 16:04:28            991   \n",
       "375  2017-06-24 16:48:07  2017-06-24 16:56:22            495   \n",
       "376  2017-05-19 07:15:41  2017-05-19 07:21:17            336   \n",
       "377  2017-06-27 16:10:55  2017-06-27 16:24:48            833   \n",
       "378  2017-06-16 17:17:23  2017-06-16 17:22:25            302   \n",
       "379  2017-03-20 08:28:01  2017-03-20 08:46:03           1082   \n",
       "380  2017-06-25 19:03:43  2017-06-26 08:16:14          47551   \n",
       "381  2017-06-05 07:19:18  2017-06-05 07:24:51            333   \n",
       "382  2017-04-27 12:46:12  2017-04-27 12:54:03            471   \n",
       "383  2017-06-21 20:06:34  2017-06-21 20:25:10           1116   \n",
       "384  2017-05-29 09:47:20  2017-05-29 10:14:31           1631   \n",
       "385  2017-01-15 19:34:35  2017-01-15 19:41:52            437   \n",
       "386  2017-06-22 08:20:15  2017-06-22 08:43:22           1387   \n",
       "387  2017-02-07 14:36:00  2017-02-07 14:41:44            344   \n",
       "388  2017-06-03 00:18:58  2017-06-03 00:41:19           1341   \n",
       "389  2017-04-15 12:38:56  2017-04-15 12:56:52           1076   \n",
       "390  2017-01-26 12:16:01  2017-01-26 12:31:19            918   \n",
       "391  2017-05-21 19:17:39  2017-05-21 19:22:12            273   \n",
       "392  2017-04-08 18:39:53  2017-04-08 19:00:19           1226   \n",
       "393  2017-06-06 05:54:58  2017-06-06 05:59:56            298   \n",
       "394  2017-03-29 17:00:33  2017-03-29 17:04:43            250   \n",
       "395  2017-02-06 13:34:32  2017-02-06 13:41:35            423   \n",
       "396  2017-05-22 16:44:08  2017-05-22 16:48:05            237   \n",
       "397  2017-06-09 17:03:44  2017-06-09 17:24:30           1246   \n",
       "398  2017-05-16 08:14:27  2017-05-16 08:28:24            837   \n",
       "399  2017-05-16 12:48:34  2017-05-16 12:58:17            583   \n",
       "\n",
       "                           Start Station                          End Station  \\\n",
       "0              Columbus Dr & Randolph St                 Federal St & Polk St   \n",
       "1                 Kingsbury St & Erie St  Orleans St & Merchandise Mart Plaza   \n",
       "2                  Canal St & Madison St              Paulina Ave & North Ave   \n",
       "3           Spaulding Ave & Armitage Ave       California Ave & Milwaukee Ave   \n",
       "4                 Clark St & Randolph St         Financial Pl & Congress Pkwy   \n",
       "5                   Ogden Ave & Race Ave              Franklin St & Monroe St   \n",
       "6           Clinton St & Washington Blvd                  Morgan St & Lake St   \n",
       "7                    Canal St & Adams St               Michigan Ave & Lake St   \n",
       "8             Wentworth Ave & Archer Ave           Franklin St & Jackson Blvd   \n",
       "9                  Canal St & Madison St                   Clark St & Lake St   \n",
       "10                  State St & Kinzie St         Stetson Ave & South Water St   \n",
       "11                    Clark St & Lake St                 Rush St & Hubbard St   \n",
       "12             Larrabee St & Division St                    Clark St & Elm St   \n",
       "13             Ashland Ave & Division St              Damen Ave & Division St   \n",
       "14            LaSalle St & Washington St    Sangamon St & Washington Blvd (*)   \n",
       "15           Sheffield Ave & Webster Ave               Halsted St & Roscoe St   \n",
       "16   Orleans St & Merchandise Mart Plaza         Clinton St & Washington Blvd   \n",
       "17        Southport Ave & Irving Park Rd              Lincoln Ave & Roscoe St   \n",
       "18               Central St & Girard Ave              Central St & Girard Ave   \n",
       "19              Kingsbury St & Kinzie St                    Wells St & Elm St   \n",
       "20                 State St & Pearson St              Clinton St & Madison St   \n",
       "21                  Clinton St & 18th St         Clinton St & Washington Blvd   \n",
       "22              Loomis St & Jackson Blvd                   Clark St & Lake St   \n",
       "23   Orleans St & Merchandise Mart Plaza               Green St & Randolph St   \n",
       "24               Paulina Ave & North Ave                  Troy St & North Ave   \n",
       "25                  Wabash Ave & 16th St            Wabash Ave & Roosevelt Rd   \n",
       "26                     Adler Planetarium               State St & Randolph St   \n",
       "27                  Ogden Ave & Race Ave                   Daley Center Plaza   \n",
       "28             Columbus Dr & Randolph St            Clinton St & Jackson Blvd   \n",
       "29        California Ave & Milwaukee Ave              Stave St & Armitage Ave   \n",
       "..                                   ...                                  ...   \n",
       "370    Sangamon St & Washington Blvd (*)              Clinton St & Madison St   \n",
       "371         Michigan Ave & Washington St            Wacker Dr & Washington St   \n",
       "372               Dearborn St & Adams St                Rush St & Superior St   \n",
       "373          Campbell Ave & Montrose Ave            Damen Ave & Sunnyside Ave   \n",
       "374          Dearborn Pkwy & Delaware Pl          Halsted St & Wrightwood Ave   \n",
       "375                State St & Pearson St             McClurg Ct & Illinois St   \n",
       "376         Clinton St & Washington Blvd         Michigan Ave & Washington St   \n",
       "377         Marshfield Ave & Cortland St              Clark St & Armitage Ave   \n",
       "378           Racine Ave & Fullerton Ave         Ashland Ave & Wrightwood Ave   \n",
       "379               Michigan Ave & 14th St         Stetson Ave & South Water St   \n",
       "380          Lincoln Ave & Diversey Pkwy          Lincoln Ave & Diversey Pkwy   \n",
       "381            Cannon Dr & Fullerton Ave            Clark St & Wrightwood Ave   \n",
       "382                  Wells St & Huron St               Michigan Ave & Lake St   \n",
       "383               Wabash Ave & Wacker Pl                  Morgan St & Lake St   \n",
       "384               Benson Ave & Church St              University Library (NU)   \n",
       "385              Clinton St & Madison St      Racine Ave (May St) & Fulton St   \n",
       "386                Michigan Ave & Oak St         Desplaines St & Jackson Blvd   \n",
       "387             Kingsbury St & Kinzie St           LaSalle St & Washington St   \n",
       "388               Wabash Ave & Cermak Rd                Indiana Ave & 31st St   \n",
       "389                    Adler Planetarium                       Dusable Harbor   \n",
       "390                 Kedzie Ave & 21st St             Ogden Ave & Roosevelt Rd   \n",
       "391            Ashland Ave & Division St              Paulina Ave & North Ave   \n",
       "392              Streeter Dr & Grand Ave          Dearborn Pkwy & Delaware Pl   \n",
       "393             McClurg Ct & Illinois St                 State St & Kinzie St   \n",
       "394                Broadway & Wilson Ave           Sheridan Rd & Montrose Ave   \n",
       "395             Jefferson St & Monroe St             Racine Ave & Randolph St   \n",
       "396               Clark St & Randolph St         Clinton St & Washington Blvd   \n",
       "397              Streeter Dr & Grand Ave               Michigan Ave & Lake St   \n",
       "398                 Wabash Ave & 16th St                   Daley Center Plaza   \n",
       "399           Larrabee St & Kingsbury St    Sangamon St & Washington Blvd (*)   \n",
       "\n",
       "      User Type  Gender  Birth Year  month  \n",
       "0    Subscriber    Male      1991.0      5  \n",
       "1      Customer     NaN         NaN      5  \n",
       "2    Subscriber  Female      1982.0      5  \n",
       "3    Subscriber    Male      1966.0      5  \n",
       "4    Subscriber  Female      1983.0      5  \n",
       "5    Subscriber  Female      1981.0      5  \n",
       "6    Subscriber    Male      1986.0      5  \n",
       "7    Subscriber    Male      1969.0      5  \n",
       "8      Customer     NaN         NaN      5  \n",
       "9    Subscriber    Male      1982.0      5  \n",
       "10   Subscriber    Male      1963.0      5  \n",
       "11   Subscriber    Male      1986.0      5  \n",
       "12   Subscriber  Female      1990.0      5  \n",
       "13   Subscriber    Male      1979.0      5  \n",
       "14   Subscriber    Male      1972.0      5  \n",
       "15   Subscriber    Male      1990.0      5  \n",
       "16   Subscriber    Male      1957.0      5  \n",
       "17   Subscriber    Male      1962.0      5  \n",
       "18   Subscriber    Male      1982.0      5  \n",
       "19   Subscriber    Male      1965.0      5  \n",
       "20   Subscriber    Male      1987.0      5  \n",
       "21   Subscriber  Female      1985.0      5  \n",
       "22   Subscriber    Male      1974.0      5  \n",
       "23   Subscriber    Male      1991.0      5  \n",
       "24   Subscriber  Female      1994.0      5  \n",
       "25   Subscriber  Female      1984.0      5  \n",
       "26     Customer     NaN         NaN      5  \n",
       "27   Subscriber  Female      1984.0      5  \n",
       "28   Subscriber    Male      1957.0      5  \n",
       "29   Subscriber    Male      1957.0      5  \n",
       "..          ...     ...         ...    ...  \n",
       "370  Subscriber    Male      1985.0      5  \n",
       "371  Subscriber    Male      1963.0      5  \n",
       "372  Subscriber  Female      1971.0      5  \n",
       "373  Subscriber  Female      1973.0      5  \n",
       "374    Customer     NaN         NaN      5  \n",
       "375  Subscriber    Male      1984.0      5  \n",
       "376  Subscriber    Male      1965.0      5  \n",
       "377    Customer     NaN         NaN      5  \n",
       "378  Subscriber  Female      1980.0      5  \n",
       "379  Subscriber    Male      1973.0      5  \n",
       "380  Subscriber    Male      1985.0      5  \n",
       "381  Subscriber    Male      1982.0      5  \n",
       "382  Subscriber    Male      1972.0      5  \n",
       "383    Customer     NaN         NaN      5  \n",
       "384    Customer     NaN         NaN      5  \n",
       "385  Subscriber    Male      1978.0      5  \n",
       "386  Subscriber    Male      1985.0      5  \n",
       "387  Subscriber    Male      1966.0      5  \n",
       "388    Customer     NaN         NaN      5  \n",
       "389  Subscriber    Male      1958.0      5  \n",
       "390  Subscriber    Male      1949.0      5  \n",
       "391  Subscriber    Male      1989.0      5  \n",
       "392    Customer     NaN         NaN      5  \n",
       "393  Subscriber  Female      1971.0      5  \n",
       "394  Subscriber    Male      1993.0      5  \n",
       "395  Subscriber    Male      1973.0      5  \n",
       "396  Subscriber    Male      1959.0      5  \n",
       "397    Customer     NaN         NaN      5  \n",
       "398  Subscriber    Male      1988.0      5  \n",
       "399  Subscriber    Male      1990.0      5  \n",
       "\n",
       "[400 rows x 9 columns]"
      ]
     },
     "execution_count": 23,
     "metadata": {},
     "output_type": "execute_result"
    }
   ],
   "source": [
    "df"
   ]
  },
  {
   "cell_type": "code",
   "execution_count": 22,
   "metadata": {},
   "outputs": [
    {
     "data": {
      "text/html": [
       "<div>\n",
       "<style>\n",
       "    .dataframe thead tr:only-child th {\n",
       "        text-align: right;\n",
       "    }\n",
       "\n",
       "    .dataframe thead th {\n",
       "        text-align: left;\n",
       "    }\n",
       "\n",
       "    .dataframe tbody tr th {\n",
       "        vertical-align: top;\n",
       "    }\n",
       "</style>\n",
       "<table border=\"1\" class=\"dataframe\">\n",
       "  <thead>\n",
       "    <tr style=\"text-align: right;\">\n",
       "      <th></th>\n",
       "      <th>Start Time</th>\n",
       "      <th>End Time</th>\n",
       "      <th>Trip Duration</th>\n",
       "      <th>Start Station</th>\n",
       "      <th>End Station</th>\n",
       "      <th>User Type</th>\n",
       "      <th>Gender</th>\n",
       "      <th>Birth Year</th>\n",
       "      <th>month</th>\n",
       "    </tr>\n",
       "  </thead>\n",
       "  <tbody>\n",
       "  </tbody>\n",
       "</table>\n",
       "</div>"
      ],
      "text/plain": [
       "Empty DataFrame\n",
       "Columns: [Start Time, End Time, Trip Duration, Start Station, End Station, User Type, Gender, Birth Year, month]\n",
       "Index: []"
      ]
     },
     "execution_count": 22,
     "metadata": {},
     "output_type": "execute_result"
    }
   ],
   "source": [
    "df[df['month']==1]"
   ]
  },
  {
   "cell_type": "code",
   "execution_count": 51,
   "metadata": {
    "collapsed": true
   },
   "outputs": [],
   "source": [
    "def load_data(city, month, day):\n",
    "    \"\"\"\n",
    "    Loads data for the specified city and filters by month and day if applicable.\n",
    "\n",
    "    Args:\n",
    "        (str) city - name of the city to analyze\n",
    "        (str) month - name of the month to filter by, or \"all\" to apply no month filter\n",
    "        (str) day - name of the day of week to filter by, or \"all\" to apply no day filter\n",
    "    Returns:\n",
    "        df - pandas DataFrame containing city data filtered by month and day\n",
    "    \"\"\"\n",
    "    \n",
    "    # load data file into a dataframe\n",
    "    # 从字典中根据key获取对应的城市名称（value）\n",
    "    df_name=CITY_DATA[city]\n",
    "    df = pd.read_csv(df_name)\n",
    "\n",
    "    # convert the Start Time column to datetime\n",
    "    # 将Start Time重新赋值为timestamp格式\n",
    "    df['Start Time'] = pd.to_datetime(df['Start Time'])\n",
    "    ts=df['Start Time'].dt\n",
    "#     print(ts)\n",
    "    # extract month and day of week from Start Time to create new columns\n",
    "    df['month'] = ts.month\n",
    "    df['day_of_week'] = ts.weekday\n",
    "\n",
    "\n",
    "    # filter by month if applicable\n",
    "    if month != 'all':\n",
    "        # use the index of the months list to get the corresponding int\n",
    "#         使用月份列表的索引来获得相应的整数\n",
    "        months = ['january', 'february', 'march', 'april', 'may', 'june']\n",
    "        index_month=months.index(month)+1\n",
    "#         month = months[ts.month]\n",
    "    \n",
    "        # filter by month to create the new dataframe\n",
    "#         df = \n",
    "        df=df[df['month']==index_month]\n",
    "    # filter by day of week if applicable\n",
    "    if day != 'all':\n",
    "        # filter by day of week to create the new dataframe\n",
    "        dayofweek=['monday','tuesday','wednesday','thursday','friday','saturday','sunday']\n",
    "        index_weekday=dayofweek.index(day)+1\n",
    "        df=df[df['day_of_week']==index_weekday]\n",
    "    \n",
    "    return df"
   ]
  },
  {
   "cell_type": "code",
   "execution_count": 52,
   "metadata": {
    "collapsed": true
   },
   "outputs": [],
   "source": [
    "df = load_data('chicago', 'march', 'friday')"
   ]
  },
  {
   "cell_type": "code",
   "execution_count": 53,
   "metadata": {},
   "outputs": [
    {
     "data": {
      "text/html": [
       "<div>\n",
       "<style>\n",
       "    .dataframe thead tr:only-child th {\n",
       "        text-align: right;\n",
       "    }\n",
       "\n",
       "    .dataframe thead th {\n",
       "        text-align: left;\n",
       "    }\n",
       "\n",
       "    .dataframe tbody tr th {\n",
       "        vertical-align: top;\n",
       "    }\n",
       "</style>\n",
       "<table border=\"1\" class=\"dataframe\">\n",
       "  <thead>\n",
       "    <tr style=\"text-align: right;\">\n",
       "      <th></th>\n",
       "      <th>Start Time</th>\n",
       "      <th>End Time</th>\n",
       "      <th>Trip Duration</th>\n",
       "      <th>Start Station</th>\n",
       "      <th>End Station</th>\n",
       "      <th>User Type</th>\n",
       "      <th>Gender</th>\n",
       "      <th>Birth Year</th>\n",
       "      <th>month</th>\n",
       "      <th>day_of_week</th>\n",
       "    </tr>\n",
       "  </thead>\n",
       "  <tbody>\n",
       "    <tr>\n",
       "      <th>54</th>\n",
       "      <td>2017-03-18 11:06:21</td>\n",
       "      <td>2017-03-18 11:14:41</td>\n",
       "      <td>500</td>\n",
       "      <td>Wabash Ave &amp; Grand Ave</td>\n",
       "      <td>Wells St &amp; Walton St</td>\n",
       "      <td>Subscriber</td>\n",
       "      <td>Male</td>\n",
       "      <td>1967.0</td>\n",
       "      <td>3</td>\n",
       "      <td>5</td>\n",
       "    </tr>\n",
       "    <tr>\n",
       "      <th>169</th>\n",
       "      <td>2017-03-18 15:08:09</td>\n",
       "      <td>2017-03-18 15:17:40</td>\n",
       "      <td>571</td>\n",
       "      <td>Southport Ave &amp; Roscoe St</td>\n",
       "      <td>Broadway &amp; Waveland Ave</td>\n",
       "      <td>Subscriber</td>\n",
       "      <td>Male</td>\n",
       "      <td>1952.0</td>\n",
       "      <td>3</td>\n",
       "      <td>5</td>\n",
       "    </tr>\n",
       "    <tr>\n",
       "      <th>328</th>\n",
       "      <td>2017-03-18 13:44:02</td>\n",
       "      <td>2017-03-18 14:35:46</td>\n",
       "      <td>3104</td>\n",
       "      <td>Wabash Ave &amp; Roosevelt Rd</td>\n",
       "      <td>Dusable Harbor</td>\n",
       "      <td>Subscriber</td>\n",
       "      <td>Male</td>\n",
       "      <td>1977.0</td>\n",
       "      <td>3</td>\n",
       "      <td>5</td>\n",
       "    </tr>\n",
       "  </tbody>\n",
       "</table>\n",
       "</div>"
      ],
      "text/plain": [
       "             Start Time             End Time  Trip Duration  \\\n",
       "54  2017-03-18 11:06:21  2017-03-18 11:14:41            500   \n",
       "169 2017-03-18 15:08:09  2017-03-18 15:17:40            571   \n",
       "328 2017-03-18 13:44:02  2017-03-18 14:35:46           3104   \n",
       "\n",
       "                 Start Station              End Station   User Type Gender  \\\n",
       "54      Wabash Ave & Grand Ave     Wells St & Walton St  Subscriber   Male   \n",
       "169  Southport Ave & Roscoe St  Broadway & Waveland Ave  Subscriber   Male   \n",
       "328  Wabash Ave & Roosevelt Rd           Dusable Harbor  Subscriber   Male   \n",
       "\n",
       "     Birth Year  month  day_of_week  \n",
       "54       1967.0      3            5  \n",
       "169      1952.0      3            5  \n",
       "328      1977.0      3            5  "
      ]
     },
     "execution_count": 53,
     "metadata": {},
     "output_type": "execute_result"
    }
   ],
   "source": [
    "df.head()"
   ]
  },
  {
   "cell_type": "code",
   "execution_count": 54,
   "metadata": {},
   "outputs": [
    {
     "data": {
      "text/plain": [
       "0    3\n",
       "dtype: int64"
      ]
     },
     "execution_count": 54,
     "metadata": {},
     "output_type": "execute_result"
    }
   ],
   "source": [
    "df['month'].mode()"
   ]
  },
  {
   "cell_type": "markdown",
   "metadata": {},
   "source": [
    "** 计算起始站及结束站的众数**"
   ]
  },
  {
   "cell_type": "markdown",
   "metadata": {},
   "source": [
    "注意下面要计算start与end两个的众数（两个出现次数最多的情况）"
   ]
  },
  {
   "cell_type": "code",
   "execution_count": 5,
   "metadata": {},
   "outputs": [
    {
     "data": {
      "text/html": [
       "<div>\n",
       "<style>\n",
       "    .dataframe thead tr:only-child th {\n",
       "        text-align: right;\n",
       "    }\n",
       "\n",
       "    .dataframe thead th {\n",
       "        text-align: left;\n",
       "    }\n",
       "\n",
       "    .dataframe tbody tr th {\n",
       "        vertical-align: top;\n",
       "    }\n",
       "</style>\n",
       "<table border=\"1\" class=\"dataframe\">\n",
       "  <thead>\n",
       "    <tr style=\"text-align: right;\">\n",
       "      <th></th>\n",
       "      <th>Start Station</th>\n",
       "      <th>End Station</th>\n",
       "    </tr>\n",
       "  </thead>\n",
       "  <tbody>\n",
       "    <tr>\n",
       "      <th>0</th>\n",
       "      <td>Streeter Dr &amp; Grand Ave</td>\n",
       "      <td>Clinton St &amp; Washington Blvd</td>\n",
       "    </tr>\n",
       "  </tbody>\n",
       "</table>\n",
       "</div>"
      ],
      "text/plain": [
       "             Start Station                   End Station\n",
       "0  Streeter Dr & Grand Ave  Clinton St & Washington Blvd"
      ]
     },
     "execution_count": 5,
     "metadata": {},
     "output_type": "execute_result"
    }
   ],
   "source": [
    "df[['Start Station','End Station']].mode()"
   ]
  },
  {
   "cell_type": "markdown",
   "metadata": {
    "collapsed": true
   },
   "source": [
    "### 对列进行运算"
   ]
  },
  {
   "cell_type": "markdown",
   "metadata": {},
   "source": [
    "* 对某一列求和"
   ]
  },
  {
   "cell_type": "code",
   "execution_count": 21,
   "metadata": {},
   "outputs": [
    {
     "data": {
      "text/plain": [
       "375286"
      ]
     },
     "execution_count": 21,
     "metadata": {},
     "output_type": "execute_result"
    }
   ],
   "source": [
    "df['Trip Duration'].sum()"
   ]
  },
  {
   "cell_type": "markdown",
   "metadata": {},
   "source": [
    "* 对某一列求平均值"
   ]
  },
  {
   "cell_type": "code",
   "execution_count": 22,
   "metadata": {},
   "outputs": [
    {
     "data": {
      "text/plain": [
       "938.215"
      ]
     },
     "execution_count": 22,
     "metadata": {},
     "output_type": "execute_result"
    }
   ],
   "source": [
    "df['Trip Duration'].mean()"
   ]
  },
  {
   "cell_type": "markdown",
   "metadata": {},
   "source": [
    "### 对某一列数组进行分组"
   ]
  },
  {
   "cell_type": "markdown",
   "metadata": {},
   "source": [
    "** 查看User Type这一列不同的值及数量**"
   ]
  },
  {
   "cell_type": "code",
   "execution_count": 24,
   "metadata": {},
   "outputs": [
    {
     "data": {
      "text/plain": [
       "Subscriber    330\n",
       "Customer       70\n",
       "Name: User Type, dtype: int64"
      ]
     },
     "execution_count": 24,
     "metadata": {},
     "output_type": "execute_result"
    }
   ],
   "source": [
    "df['User Type'].value_counts()"
   ]
  },
  {
   "cell_type": "code",
   "execution_count": 25,
   "metadata": {},
   "outputs": [
    {
     "data": {
      "text/plain": [
       "Male      244\n",
       "Female     86\n",
       "Name: Gender, dtype: int64"
      ]
     },
     "execution_count": 25,
     "metadata": {},
     "output_type": "execute_result"
    }
   ],
   "source": [
    "df['Gender'].value_counts()"
   ]
  },
  {
   "cell_type": "markdown",
   "metadata": {},
   "source": [
    "** 对生日进行最早，最晚，出现次数最多的进行排列**"
   ]
  },
  {
   "cell_type": "code",
   "execution_count": 37,
   "metadata": {
    "collapsed": true
   },
   "outputs": [],
   "source": [
    "# (df.sort_values(by=['Birth Year'])).loc[0]"
   ]
  },
  {
   "cell_type": "code",
   "execution_count": 38,
   "metadata": {},
   "outputs": [
    {
     "data": {
      "text/html": [
       "<div>\n",
       "<style>\n",
       "    .dataframe thead tr:only-child th {\n",
       "        text-align: right;\n",
       "    }\n",
       "\n",
       "    .dataframe thead th {\n",
       "        text-align: left;\n",
       "    }\n",
       "\n",
       "    .dataframe tbody tr th {\n",
       "        vertical-align: top;\n",
       "    }\n",
       "</style>\n",
       "<table border=\"1\" class=\"dataframe\">\n",
       "  <thead>\n",
       "    <tr style=\"text-align: right;\">\n",
       "      <th></th>\n",
       "      <th>Start Time</th>\n",
       "      <th>End Time</th>\n",
       "      <th>Trip Duration</th>\n",
       "      <th>Start Station</th>\n",
       "      <th>End Station</th>\n",
       "      <th>User Type</th>\n",
       "      <th>Gender</th>\n",
       "      <th>Birth Year</th>\n",
       "    </tr>\n",
       "  </thead>\n",
       "  <tbody>\n",
       "    <tr>\n",
       "      <th>390</th>\n",
       "      <td>2017-01-26 12:16:01</td>\n",
       "      <td>2017-01-26 12:31:19</td>\n",
       "      <td>918</td>\n",
       "      <td>Kedzie Ave &amp; 21st St</td>\n",
       "      <td>Ogden Ave &amp; Roosevelt Rd</td>\n",
       "      <td>Subscriber</td>\n",
       "      <td>Male</td>\n",
       "      <td>1949.0</td>\n",
       "    </tr>\n",
       "    <tr>\n",
       "      <th>52</th>\n",
       "      <td>2017-06-02 13:48:36</td>\n",
       "      <td>2017-06-02 14:02:48</td>\n",
       "      <td>852</td>\n",
       "      <td>Ashland Ave &amp; 21st St</td>\n",
       "      <td>California Ave &amp; 21st St</td>\n",
       "      <td>Subscriber</td>\n",
       "      <td>Male</td>\n",
       "      <td>1949.0</td>\n",
       "    </tr>\n",
       "    <tr>\n",
       "      <th>203</th>\n",
       "      <td>2017-02-05 09:24:29</td>\n",
       "      <td>2017-02-05 09:39:59</td>\n",
       "      <td>930</td>\n",
       "      <td>Sedgwick St &amp; North Ave</td>\n",
       "      <td>Kingsbury St &amp; Kinzie St</td>\n",
       "      <td>Subscriber</td>\n",
       "      <td>Male</td>\n",
       "      <td>1950.0</td>\n",
       "    </tr>\n",
       "    <tr>\n",
       "      <th>70</th>\n",
       "      <td>2017-06-19 12:38:53</td>\n",
       "      <td>2017-06-19 12:55:25</td>\n",
       "      <td>992</td>\n",
       "      <td>Streeter Dr &amp; Grand Ave</td>\n",
       "      <td>Dearborn St &amp; Monroe St</td>\n",
       "      <td>Subscriber</td>\n",
       "      <td>Male</td>\n",
       "      <td>1950.0</td>\n",
       "    </tr>\n",
       "    <tr>\n",
       "      <th>169</th>\n",
       "      <td>2017-03-18 15:08:09</td>\n",
       "      <td>2017-03-18 15:17:40</td>\n",
       "      <td>571</td>\n",
       "      <td>Southport Ave &amp; Roscoe St</td>\n",
       "      <td>Broadway &amp; Waveland Ave</td>\n",
       "      <td>Subscriber</td>\n",
       "      <td>Male</td>\n",
       "      <td>1952.0</td>\n",
       "    </tr>\n",
       "  </tbody>\n",
       "</table>\n",
       "</div>"
      ],
      "text/plain": [
       "              Start Time             End Time  Trip Duration  \\\n",
       "390  2017-01-26 12:16:01  2017-01-26 12:31:19            918   \n",
       "52   2017-06-02 13:48:36  2017-06-02 14:02:48            852   \n",
       "203  2017-02-05 09:24:29  2017-02-05 09:39:59            930   \n",
       "70   2017-06-19 12:38:53  2017-06-19 12:55:25            992   \n",
       "169  2017-03-18 15:08:09  2017-03-18 15:17:40            571   \n",
       "\n",
       "                 Start Station               End Station   User Type Gender  \\\n",
       "390       Kedzie Ave & 21st St  Ogden Ave & Roosevelt Rd  Subscriber   Male   \n",
       "52       Ashland Ave & 21st St  California Ave & 21st St  Subscriber   Male   \n",
       "203    Sedgwick St & North Ave  Kingsbury St & Kinzie St  Subscriber   Male   \n",
       "70     Streeter Dr & Grand Ave   Dearborn St & Monroe St  Subscriber   Male   \n",
       "169  Southport Ave & Roscoe St   Broadway & Waveland Ave  Subscriber   Male   \n",
       "\n",
       "     Birth Year  \n",
       "390      1949.0  \n",
       "52       1949.0  \n",
       "203      1950.0  \n",
       "70       1950.0  \n",
       "169      1952.0  "
      ]
     },
     "execution_count": 38,
     "metadata": {},
     "output_type": "execute_result"
    }
   ],
   "source": [
    "df.sort_values(by=['Birth Year'])[:5]"
   ]
  },
  {
   "cell_type": "code",
   "execution_count": 44,
   "metadata": {},
   "outputs": [
    {
     "data": {
      "text/html": [
       "<div>\n",
       "<style>\n",
       "    .dataframe thead tr:only-child th {\n",
       "        text-align: right;\n",
       "    }\n",
       "\n",
       "    .dataframe thead th {\n",
       "        text-align: left;\n",
       "    }\n",
       "\n",
       "    .dataframe tbody tr th {\n",
       "        vertical-align: top;\n",
       "    }\n",
       "</style>\n",
       "<table border=\"1\" class=\"dataframe\">\n",
       "  <thead>\n",
       "    <tr style=\"text-align: right;\">\n",
       "      <th></th>\n",
       "      <th>Start Time</th>\n",
       "      <th>End Time</th>\n",
       "      <th>Trip Duration</th>\n",
       "      <th>Start Station</th>\n",
       "      <th>End Station</th>\n",
       "      <th>User Type</th>\n",
       "      <th>Gender</th>\n",
       "      <th>Birth Year</th>\n",
       "    </tr>\n",
       "  </thead>\n",
       "  <tbody>\n",
       "    <tr>\n",
       "      <th>390</th>\n",
       "      <td>2017-01-26 12:16:01</td>\n",
       "      <td>2017-01-26 12:31:19</td>\n",
       "      <td>918</td>\n",
       "      <td>Kedzie Ave &amp; 21st St</td>\n",
       "      <td>Ogden Ave &amp; Roosevelt Rd</td>\n",
       "      <td>Subscriber</td>\n",
       "      <td>Male</td>\n",
       "      <td>1949.0</td>\n",
       "    </tr>\n",
       "    <tr>\n",
       "      <th>52</th>\n",
       "      <td>2017-06-02 13:48:36</td>\n",
       "      <td>2017-06-02 14:02:48</td>\n",
       "      <td>852</td>\n",
       "      <td>Ashland Ave &amp; 21st St</td>\n",
       "      <td>California Ave &amp; 21st St</td>\n",
       "      <td>Subscriber</td>\n",
       "      <td>Male</td>\n",
       "      <td>1949.0</td>\n",
       "    </tr>\n",
       "    <tr>\n",
       "      <th>203</th>\n",
       "      <td>2017-02-05 09:24:29</td>\n",
       "      <td>2017-02-05 09:39:59</td>\n",
       "      <td>930</td>\n",
       "      <td>Sedgwick St &amp; North Ave</td>\n",
       "      <td>Kingsbury St &amp; Kinzie St</td>\n",
       "      <td>Subscriber</td>\n",
       "      <td>Male</td>\n",
       "      <td>1950.0</td>\n",
       "    </tr>\n",
       "    <tr>\n",
       "      <th>70</th>\n",
       "      <td>2017-06-19 12:38:53</td>\n",
       "      <td>2017-06-19 12:55:25</td>\n",
       "      <td>992</td>\n",
       "      <td>Streeter Dr &amp; Grand Ave</td>\n",
       "      <td>Dearborn St &amp; Monroe St</td>\n",
       "      <td>Subscriber</td>\n",
       "      <td>Male</td>\n",
       "      <td>1950.0</td>\n",
       "    </tr>\n",
       "    <tr>\n",
       "      <th>169</th>\n",
       "      <td>2017-03-18 15:08:09</td>\n",
       "      <td>2017-03-18 15:17:40</td>\n",
       "      <td>571</td>\n",
       "      <td>Southport Ave &amp; Roscoe St</td>\n",
       "      <td>Broadway &amp; Waveland Ave</td>\n",
       "      <td>Subscriber</td>\n",
       "      <td>Male</td>\n",
       "      <td>1952.0</td>\n",
       "    </tr>\n",
       "  </tbody>\n",
       "</table>\n",
       "</div>"
      ],
      "text/plain": [
       "              Start Time             End Time  Trip Duration  \\\n",
       "390  2017-01-26 12:16:01  2017-01-26 12:31:19            918   \n",
       "52   2017-06-02 13:48:36  2017-06-02 14:02:48            852   \n",
       "203  2017-02-05 09:24:29  2017-02-05 09:39:59            930   \n",
       "70   2017-06-19 12:38:53  2017-06-19 12:55:25            992   \n",
       "169  2017-03-18 15:08:09  2017-03-18 15:17:40            571   \n",
       "\n",
       "                 Start Station               End Station   User Type Gender  \\\n",
       "390       Kedzie Ave & 21st St  Ogden Ave & Roosevelt Rd  Subscriber   Male   \n",
       "52       Ashland Ave & 21st St  California Ave & 21st St  Subscriber   Male   \n",
       "203    Sedgwick St & North Ave  Kingsbury St & Kinzie St  Subscriber   Male   \n",
       "70     Streeter Dr & Grand Ave   Dearborn St & Monroe St  Subscriber   Male   \n",
       "169  Southport Ave & Roscoe St   Broadway & Waveland Ave  Subscriber   Male   \n",
       "\n",
       "     Birth Year  \n",
       "390      1949.0  \n",
       "52       1949.0  \n",
       "203      1950.0  \n",
       "70       1950.0  \n",
       "169      1952.0  "
      ]
     },
     "execution_count": 44,
     "metadata": {},
     "output_type": "execute_result"
    }
   ],
   "source": [
    "df.sort_values(by=['Birth Year'])[:5]"
   ]
  },
  {
   "cell_type": "markdown",
   "metadata": {},
   "source": [
    "* 找到出生最早已经最晚的信息"
   ]
  },
  {
   "cell_type": "code",
   "execution_count": 45,
   "metadata": {},
   "outputs": [
    {
     "data": {
      "text/html": [
       "<div>\n",
       "<style>\n",
       "    .dataframe thead tr:only-child th {\n",
       "        text-align: right;\n",
       "    }\n",
       "\n",
       "    .dataframe thead th {\n",
       "        text-align: left;\n",
       "    }\n",
       "\n",
       "    .dataframe tbody tr th {\n",
       "        vertical-align: top;\n",
       "    }\n",
       "</style>\n",
       "<table border=\"1\" class=\"dataframe\">\n",
       "  <thead>\n",
       "    <tr style=\"text-align: right;\">\n",
       "      <th></th>\n",
       "      <th>Start Time</th>\n",
       "      <th>End Time</th>\n",
       "      <th>Trip Duration</th>\n",
       "      <th>Start Station</th>\n",
       "      <th>End Station</th>\n",
       "      <th>User Type</th>\n",
       "      <th>Gender</th>\n",
       "      <th>Birth Year</th>\n",
       "    </tr>\n",
       "  </thead>\n",
       "  <tbody>\n",
       "    <tr>\n",
       "      <th>390</th>\n",
       "      <td>2017-01-26 12:16:01</td>\n",
       "      <td>2017-01-26 12:31:19</td>\n",
       "      <td>918</td>\n",
       "      <td>Kedzie Ave &amp; 21st St</td>\n",
       "      <td>Ogden Ave &amp; Roosevelt Rd</td>\n",
       "      <td>Subscriber</td>\n",
       "      <td>Male</td>\n",
       "      <td>1949.0</td>\n",
       "    </tr>\n",
       "  </tbody>\n",
       "</table>\n",
       "</div>"
      ],
      "text/plain": [
       "              Start Time             End Time  Trip Duration  \\\n",
       "390  2017-01-26 12:16:01  2017-01-26 12:31:19            918   \n",
       "\n",
       "            Start Station               End Station   User Type Gender  \\\n",
       "390  Kedzie Ave & 21st St  Ogden Ave & Roosevelt Rd  Subscriber   Male   \n",
       "\n",
       "     Birth Year  \n",
       "390      1949.0  "
      ]
     },
     "execution_count": 45,
     "metadata": {},
     "output_type": "execute_result"
    }
   ],
   "source": [
    "df.sort_values(by=['Birth Year'])[:1]"
   ]
  },
  {
   "cell_type": "code",
   "execution_count": 61,
   "metadata": {},
   "outputs": [
    {
     "data": {
      "text/plain": [
       "390    1949.0\n",
       "Name: Birth Year, dtype: float64"
      ]
     },
     "execution_count": 61,
     "metadata": {},
     "output_type": "execute_result"
    }
   ],
   "source": [
    "df.sort_values(by=['Birth Year'])[:1]['Birth Year']"
   ]
  },
  {
   "cell_type": "code",
   "execution_count": 46,
   "metadata": {},
   "outputs": [
    {
     "data": {
      "text/html": [
       "<div>\n",
       "<style>\n",
       "    .dataframe thead tr:only-child th {\n",
       "        text-align: right;\n",
       "    }\n",
       "\n",
       "    .dataframe thead th {\n",
       "        text-align: left;\n",
       "    }\n",
       "\n",
       "    .dataframe tbody tr th {\n",
       "        vertical-align: top;\n",
       "    }\n",
       "</style>\n",
       "<table border=\"1\" class=\"dataframe\">\n",
       "  <thead>\n",
       "    <tr style=\"text-align: right;\">\n",
       "      <th></th>\n",
       "      <th>Start Time</th>\n",
       "      <th>End Time</th>\n",
       "      <th>Trip Duration</th>\n",
       "      <th>Start Station</th>\n",
       "      <th>End Station</th>\n",
       "      <th>User Type</th>\n",
       "      <th>Gender</th>\n",
       "      <th>Birth Year</th>\n",
       "    </tr>\n",
       "  </thead>\n",
       "  <tbody>\n",
       "    <tr>\n",
       "      <th>322</th>\n",
       "      <td>2017-06-15 18:15:58</td>\n",
       "      <td>2017-06-15 18:19:03</td>\n",
       "      <td>185</td>\n",
       "      <td>University Ave &amp; 57th St</td>\n",
       "      <td>Woodlawn Ave &amp; 55th St</td>\n",
       "      <td>Subscriber</td>\n",
       "      <td>Male</td>\n",
       "      <td>1999.0</td>\n",
       "    </tr>\n",
       "  </tbody>\n",
       "</table>\n",
       "</div>"
      ],
      "text/plain": [
       "              Start Time             End Time  Trip Duration  \\\n",
       "322  2017-06-15 18:15:58  2017-06-15 18:19:03            185   \n",
       "\n",
       "                Start Station             End Station   User Type Gender  \\\n",
       "322  University Ave & 57th St  Woodlawn Ave & 55th St  Subscriber   Male   \n",
       "\n",
       "     Birth Year  \n",
       "322      1999.0  "
      ]
     },
     "execution_count": 46,
     "metadata": {},
     "output_type": "execute_result"
    }
   ],
   "source": [
    "df.sort_values(by=['Birth Year'],ascending=False)[:1]"
   ]
  },
  {
   "cell_type": "code",
   "execution_count": 62,
   "metadata": {},
   "outputs": [
    {
     "data": {
      "text/plain": [
       "322    1999.0\n",
       "Name: Birth Year, dtype: float64"
      ]
     },
     "execution_count": 62,
     "metadata": {},
     "output_type": "execute_result"
    }
   ],
   "source": [
    "df.sort_values(by=['Birth Year'],ascending=False)[:1]['Birth Year']"
   ]
  },
  {
   "cell_type": "markdown",
   "metadata": {},
   "source": [
    "* 找到出现次数最多的生日"
   ]
  },
  {
   "cell_type": "code",
   "execution_count": 60,
   "metadata": {},
   "outputs": [
    {
     "data": {
      "text/plain": [
       "1989.0    24\n",
       "1990.0    23\n",
       "1986.0    21\n",
       "1984.0    20\n",
       "1985.0    18\n",
       "Name: Birth Year, dtype: int64"
      ]
     },
     "execution_count": 60,
     "metadata": {},
     "output_type": "execute_result"
    }
   ],
   "source": [
    "df['Birth Year'].value_counts().head()"
   ]
  },
  {
   "cell_type": "code",
   "execution_count": 53,
   "metadata": {
    "collapsed": true
   },
   "outputs": [],
   "source": [
    "counts=df['Birth Year'].value_counts()"
   ]
  },
  {
   "cell_type": "markdown",
   "metadata": {},
   "source": [
    "注意这个values_count返回的是一个serise"
   ]
  },
  {
   "cell_type": "code",
   "execution_count": 55,
   "metadata": {},
   "outputs": [
    {
     "data": {
      "text/plain": [
       "pandas.core.series.Series"
      ]
     },
     "execution_count": 55,
     "metadata": {},
     "output_type": "execute_result"
    }
   ],
   "source": [
    "type(counts)"
   ]
  },
  {
   "cell_type": "code",
   "execution_count": 59,
   "metadata": {},
   "outputs": [
    {
     "data": {
      "text/plain": [
       "1989.0"
      ]
     },
     "execution_count": 59,
     "metadata": {},
     "output_type": "execute_result"
    }
   ],
   "source": [
    "counts.index[0]"
   ]
  },
  {
   "cell_type": "code",
   "execution_count": null,
   "metadata": {
    "collapsed": true
   },
   "outputs": [],
   "source": []
  }
 ],
 "metadata": {
  "kernelspec": {
   "display_name": "Python 3",
   "language": "python",
   "name": "python3"
  },
  "language_info": {
   "codemirror_mode": {
    "name": "ipython",
    "version": 3
   },
   "file_extension": ".py",
   "mimetype": "text/x-python",
   "name": "python",
   "nbconvert_exporter": "python",
   "pygments_lexer": "ipython3",
   "version": "3.6.2"
  }
 },
 "nbformat": 4,
 "nbformat_minor": 2
}
