{
 "cells": [
  {
   "cell_type": "code",
   "execution_count": 7,
   "metadata": {
    "collapsed": true
   },
   "outputs": [],
   "source": [
    "import time\n",
    "import pandas as pd\n",
    "import numpy as np"
   ]
  },
  {
   "cell_type": "code",
   "execution_count": 17,
   "metadata": {
    "collapsed": true
   },
   "outputs": [],
   "source": [
    "CITY_DATA = {'chicago': 'chicago.csv',\n",
    "             'new york city': 'new_york_city.csv',\n",
    "             'washington': 'washington.csv'}\n",
    "months = ['january', 'february', 'march', 'april', 'may', 'june','all']\n",
    "\n",
    "day_of_week = ['monday', 'tuesday', 'wednesday',\n",
    "                   'thursday', 'friday', 'saturday', 'sunday','all']"
   ]
  },
  {
   "cell_type": "code",
   "execution_count": 18,
   "metadata": {
    "collapsed": true
   },
   "outputs": [],
   "source": [
    "def input_mod(input_print,error_print,enterable_list):\n",
    "    \n",
    "    # 将输入的input内容最小化\n",
    "    ret=input(input_print).lower()\n",
    "    # 判断输入的内容是否在可选范围内\n",
    "    while ret not in enterable_list:\n",
    "        # 若不在则需要重新输入\n",
    "        ret=input(error_print).lower()\n",
    "    return ret"
   ]
  },
  {
   "cell_type": "code",
   "execution_count": 19,
   "metadata": {
    "collapsed": true
   },
   "outputs": [],
   "source": [
    "def get_filters():\n",
    "    \"\"\"\n",
    "    Asks user to specify a city, month, and day to analyze.\n",
    "    让用户输入符合条件的城市、月份、以及星期\n",
    "    Returns:\n",
    "        (str) city - name of the city to analyze\n",
    "        (str) month - name of the month to filter by, or \"all\" to apply no month filter\n",
    "        (str) day - name of the day of week to filter by, or \"all\" to apply no day filter\n",
    "    \"\"\"\n",
    "    print('Hello! Let\\'s explore some US bikeshare data!')\n",
    "    # TO DO: get user input for city (chicago, new york city, washington). HINT: Use a while loop to handle invalid inputs\n",
    "    # 为城市（芝加哥，纽约，华盛顿）获取用户输入。提示：使用while循环来处理无效输入\n",
    "\n",
    "    city = ''   \n",
    "\n",
    "    \n",
    "    # 方式2：\n",
    "    city=input_mod('请输入你要选择的城市：“chicago, new york city, washington”','你输入的城市信息有误，请重新输入',CITY_DATA.keys())\n",
    "\n",
    "    print('-'*40)\n",
    "\n",
    "    # TO DO: get user input for month (all, january, february, ... , june)\n",
    "    # 处理用户输入的月份\n",
    "    month = ''\n",
    "\n",
    "    month=input_mod('请输入你要选择的月份：“all, january, february, ... , june”','您输入的有误，请重新输入',months)\n",
    "    print('-'*40)\n",
    "\n",
    "    # TO DO: get user input for day of week (all, monday, tuesday, ... sunday)\n",
    "    # 处理用户输入的日\n",
    "    dayOfWeek = ''\n",
    "\n",
    "    dayOfWeek=input_mod('你要选择星期几：“monday,tuesday,wednesday,thursday,friday,saturday,sunday”','您输入的有误，请重新输入',day_of_week)\n",
    "    print('-'*40)\n",
    "    return city, month, dayOfWeek"
   ]
  },
  {
   "cell_type": "code",
   "execution_count": 20,
   "metadata": {
    "collapsed": true
   },
   "outputs": [],
   "source": [
    "def load_data(city, month, day):\n",
    "    \"\"\"\n",
    "    Loads data for the specified city and filters by month and day if applicable.\n",
    "\n",
    "    Args:\n",
    "        (str) city - name of the city to analyze\n",
    "        (str) month - name of the month to filter by, or \"all\" to apply no month filter\n",
    "        (str) day - name of the day of week to filter by, or \"all\" to apply no day filter\n",
    "    Returns:\n",
    "        df - Pandas DataFrame containing city data filtered by month and day\n",
    "    \"\"\"\n",
    "    # 取出指定城市对应的文件名称\n",
    "    # CITY_DATA = {'chicago': 'chicago.csv',\n",
    "    #              'new york city': 'new_york_city.csv',\n",
    "    #              'washington': 'washington.csv'}\n",
    "    city_data_filename = CITY_DATA[city]\n",
    "    # 读取指定路径的文件\n",
    "    df = pd.read_csv(city_data_filename)\n",
    "    # 对数据进行筛选\n",
    "    # 需要删选的条件有：\n",
    "    #   月份\n",
    "    #   一周中的某天\n",
    "\n",
    "    # 修改Start Time为时间戳格式\n",
    "    df['Start Time'] = pd.to_datetime(df['Start Time'])\n",
    "    ts = df['Start Time'].dt\n",
    "    # 月份的计数是从1开始\n",
    "    df['month'] = ts.month\n",
    "    # weekday的计数是从0开始（即0代表星期1）\n",
    "    df['day_of_week'] = ts.weekday+1\n",
    "    # 注意还需要为df添加一个hours列，hour的计数是从1开始\n",
    "    df['hours'] = df['Start Time'].dt.hour\n",
    "    # filter by month if applicable\n",
    "    if month != 'all':\n",
    "            # use the index of the months list to get the corresponding int\n",
    "        # 使用月份列表的索引来获得相应的整数\n",
    "        # months = ['january', 'february', 'march', 'april', 'may', 'june']\n",
    "        # index_month = months.index(month)+1\n",
    "        index_month = months.index(month)+1\n",
    "#         month = months[ts.month]\n",
    "\n",
    "        # filter by month to create the new dataframe\n",
    "#         df =\n",
    "        df = df[df['month'] == index_month]\n",
    "    # elif month=='all':\n",
    "\n",
    "    # filter by day of week if applicable\n",
    "    if day != 'all':\n",
    "        # filter by day of week to create the new dataframe\n",
    "        # dayofweek = ['monday', 'tuesday', 'wednesday',\n",
    "        #              'thursday', 'friday', 'saturday', 'sunday']\n",
    "        # index_weekday = dayofweek.index(day)+1\n",
    "        index_weekday = day_of_week.index(day)+1\n",
    "        df = df[df['day_of_week'] == index_weekday]\n",
    "    return df"
   ]
  },
  {
   "cell_type": "code",
   "execution_count": 21,
   "metadata": {},
   "outputs": [
    {
     "name": "stdout",
     "output_type": "stream",
     "text": [
      "Hello! Let's explore some US bikeshare data!\n",
      "请输入你要选择的城市：“chicago, new york city, washington”chicago\n",
      "----------------------------------------\n",
      "请输入你要选择的月份：“all, january, february, ... , june”february\n",
      "----------------------------------------\n",
      "你要选择星期几：“monday,tuesday,wednesday,thursday,friday,saturday,sunday”wednesday\n",
      "----------------------------------------\n"
     ]
    }
   ],
   "source": [
    "city, month, day = get_filters()"
   ]
  },
  {
   "cell_type": "markdown",
   "metadata": {},
   "source": [
    "输出输入的几个审查后的变量"
   ]
  },
  {
   "cell_type": "code",
   "execution_count": 25,
   "metadata": {},
   "outputs": [
    {
     "data": {
      "text/plain": [
       "'chicago'"
      ]
     },
     "execution_count": 25,
     "metadata": {},
     "output_type": "execute_result"
    }
   ],
   "source": [
    "city"
   ]
  },
  {
   "cell_type": "code",
   "execution_count": 26,
   "metadata": {},
   "outputs": [
    {
     "data": {
      "text/plain": [
       "'february'"
      ]
     },
     "execution_count": 26,
     "metadata": {},
     "output_type": "execute_result"
    }
   ],
   "source": [
    "month"
   ]
  },
  {
   "cell_type": "code",
   "execution_count": 27,
   "metadata": {},
   "outputs": [
    {
     "data": {
      "text/plain": [
       "'wednesday'"
      ]
     },
     "execution_count": 27,
     "metadata": {},
     "output_type": "execute_result"
    }
   ],
   "source": [
    "day"
   ]
  },
  {
   "cell_type": "markdown",
   "metadata": {},
   "source": [
    "**根据筛选条件进行筛选**"
   ]
  },
  {
   "cell_type": "code",
   "execution_count": 28,
   "metadata": {
    "collapsed": true
   },
   "outputs": [],
   "source": [
    "df = load_data(city, month, day)"
   ]
  },
  {
   "cell_type": "code",
   "execution_count": 30,
   "metadata": {},
   "outputs": [
    {
     "data": {
      "text/html": [
       "<div>\n",
       "<style>\n",
       "    .dataframe thead tr:only-child th {\n",
       "        text-align: right;\n",
       "    }\n",
       "\n",
       "    .dataframe thead th {\n",
       "        text-align: left;\n",
       "    }\n",
       "\n",
       "    .dataframe tbody tr th {\n",
       "        vertical-align: top;\n",
       "    }\n",
       "</style>\n",
       "<table border=\"1\" class=\"dataframe\">\n",
       "  <thead>\n",
       "    <tr style=\"text-align: right;\">\n",
       "      <th></th>\n",
       "      <th>Start Time</th>\n",
       "      <th>End Time</th>\n",
       "      <th>Trip Duration</th>\n",
       "      <th>Start Station</th>\n",
       "      <th>End Station</th>\n",
       "      <th>User Type</th>\n",
       "      <th>Gender</th>\n",
       "      <th>Birth Year</th>\n",
       "      <th>month</th>\n",
       "      <th>day_of_week</th>\n",
       "      <th>hours</th>\n",
       "    </tr>\n",
       "  </thead>\n",
       "  <tbody>\n",
       "    <tr>\n",
       "      <th>21</th>\n",
       "      <td>2017-02-01 08:49:24</td>\n",
       "      <td>2017-02-01 09:06:49</td>\n",
       "      <td>1045</td>\n",
       "      <td>Clinton St &amp; 18th St</td>\n",
       "      <td>Clinton St &amp; Washington Blvd</td>\n",
       "      <td>Subscriber</td>\n",
       "      <td>Female</td>\n",
       "      <td>1985.0</td>\n",
       "      <td>2</td>\n",
       "      <td>3</td>\n",
       "      <td>8</td>\n",
       "    </tr>\n",
       "    <tr>\n",
       "      <th>25</th>\n",
       "      <td>2017-02-08 17:33:43</td>\n",
       "      <td>2017-02-08 17:38:57</td>\n",
       "      <td>314</td>\n",
       "      <td>Wabash Ave &amp; 16th St</td>\n",
       "      <td>Wabash Ave &amp; Roosevelt Rd</td>\n",
       "      <td>Subscriber</td>\n",
       "      <td>Female</td>\n",
       "      <td>1984.0</td>\n",
       "      <td>2</td>\n",
       "      <td>3</td>\n",
       "      <td>17</td>\n",
       "    </tr>\n",
       "    <tr>\n",
       "      <th>35</th>\n",
       "      <td>2017-02-08 12:05:53</td>\n",
       "      <td>2017-02-08 12:12:52</td>\n",
       "      <td>419</td>\n",
       "      <td>Franklin St &amp; Lake St</td>\n",
       "      <td>Larrabee St &amp; Kingsbury St</td>\n",
       "      <td>Subscriber</td>\n",
       "      <td>Male</td>\n",
       "      <td>1982.0</td>\n",
       "      <td>2</td>\n",
       "      <td>3</td>\n",
       "      <td>12</td>\n",
       "    </tr>\n",
       "    <tr>\n",
       "      <th>57</th>\n",
       "      <td>2017-02-22 23:14:41</td>\n",
       "      <td>2017-02-22 23:29:20</td>\n",
       "      <td>879</td>\n",
       "      <td>Michigan Ave &amp; 18th St</td>\n",
       "      <td>Emerald Ave &amp; 31st St</td>\n",
       "      <td>Subscriber</td>\n",
       "      <td>Male</td>\n",
       "      <td>1997.0</td>\n",
       "      <td>2</td>\n",
       "      <td>3</td>\n",
       "      <td>23</td>\n",
       "    </tr>\n",
       "    <tr>\n",
       "      <th>81</th>\n",
       "      <td>2017-02-01 07:27:29</td>\n",
       "      <td>2017-02-01 07:31:51</td>\n",
       "      <td>262</td>\n",
       "      <td>Halsted St &amp; Roscoe St</td>\n",
       "      <td>Wilton Ave &amp; Belmont Ave</td>\n",
       "      <td>Subscriber</td>\n",
       "      <td>Female</td>\n",
       "      <td>1993.0</td>\n",
       "      <td>2</td>\n",
       "      <td>3</td>\n",
       "      <td>7</td>\n",
       "    </tr>\n",
       "  </tbody>\n",
       "</table>\n",
       "</div>"
      ],
      "text/plain": [
       "            Start Time             End Time  Trip Duration  \\\n",
       "21 2017-02-01 08:49:24  2017-02-01 09:06:49           1045   \n",
       "25 2017-02-08 17:33:43  2017-02-08 17:38:57            314   \n",
       "35 2017-02-08 12:05:53  2017-02-08 12:12:52            419   \n",
       "57 2017-02-22 23:14:41  2017-02-22 23:29:20            879   \n",
       "81 2017-02-01 07:27:29  2017-02-01 07:31:51            262   \n",
       "\n",
       "             Start Station                   End Station   User Type  Gender  \\\n",
       "21    Clinton St & 18th St  Clinton St & Washington Blvd  Subscriber  Female   \n",
       "25    Wabash Ave & 16th St     Wabash Ave & Roosevelt Rd  Subscriber  Female   \n",
       "35   Franklin St & Lake St    Larrabee St & Kingsbury St  Subscriber    Male   \n",
       "57  Michigan Ave & 18th St         Emerald Ave & 31st St  Subscriber    Male   \n",
       "81  Halsted St & Roscoe St      Wilton Ave & Belmont Ave  Subscriber  Female   \n",
       "\n",
       "    Birth Year  month  day_of_week  hours  \n",
       "21      1985.0      2            3      8  \n",
       "25      1984.0      2            3     17  \n",
       "35      1982.0      2            3     12  \n",
       "57      1997.0      2            3     23  \n",
       "81      1993.0      2            3      7  "
      ]
     },
     "execution_count": 30,
     "metadata": {},
     "output_type": "execute_result"
    }
   ],
   "source": [
    "df.head()"
   ]
  },
  {
   "cell_type": "markdown",
   "metadata": {},
   "source": [
    "显示最热门的站点及旅程的统计 **station_stats方法**"
   ]
  },
  {
   "cell_type": "code",
   "execution_count": 34,
   "metadata": {
    "collapsed": true
   },
   "outputs": [],
   "source": [
    "popular_start = df['Start Station'].mode()\n",
    "popular_end = df['End Station'].mode()\n",
    "popular_group_startEnd = (df['Start Station'] + ' to ' + df['End Station']).mode()"
   ]
  },
  {
   "cell_type": "code",
   "execution_count": 35,
   "metadata": {},
   "outputs": [
    {
     "data": {
      "text/plain": [
       "0    Franklin St & Lake St\n",
       "dtype: object"
      ]
     },
     "execution_count": 35,
     "metadata": {},
     "output_type": "execute_result"
    }
   ],
   "source": [
    "popular_start"
   ]
  },
  {
   "cell_type": "code",
   "execution_count": 36,
   "metadata": {},
   "outputs": [
    {
     "data": {
      "text/plain": [
       "0     Clinton St & Washington Blvd\n",
       "1          Damen Ave & Division St\n",
       "2        Desplaines St & Kinzie St\n",
       "3            Emerald Ave & 31st St\n",
       "4          Franklin St & Quincy St\n",
       "5           Green St & Randolph St\n",
       "6           Kingsbury St & Erie St\n",
       "7       Larrabee St & Kingsbury St\n",
       "8        Wabash Ave & Roosevelt Rd\n",
       "9      Western Ave & Winnebago Ave\n",
       "10        Wilton Ave & Belmont Ave\n",
       "dtype: object"
      ]
     },
     "execution_count": 36,
     "metadata": {},
     "output_type": "execute_result"
    }
   ],
   "source": [
    "popular_end"
   ]
  },
  {
   "cell_type": "code",
   "execution_count": 37,
   "metadata": {},
   "outputs": [
    {
     "data": {
      "text/plain": [
       "0     Campbell Ave & Fullerton Ave to Western Ave & ...\n",
       "1     Clinton St & 18th St to Clinton St & Washingto...\n",
       "2       Franklin St & Lake St to Kingsbury St & Erie St\n",
       "3     Franklin St & Lake St to Larrabee St & Kingsbu...\n",
       "4     Halsted St & Roscoe St to Wilton Ave & Belmont...\n",
       "5      LaSalle St & Adams St to Damen Ave & Division St\n",
       "6       Michigan Ave & 18th St to Emerald Ave & 31st St\n",
       "7     Michigan Ave & Pearson St to Desplaines St & K...\n",
       "8     Orleans St & Merchandise Mart Plaza to Green S...\n",
       "9       Rush St & Hubbard St to Franklin St & Quincy St\n",
       "10    Wabash Ave & 16th St to Wabash Ave & Roosevelt Rd\n",
       "dtype: object"
      ]
     },
     "execution_count": 37,
     "metadata": {},
     "output_type": "execute_result"
    }
   ],
   "source": [
    "popular_group_startEnd"
   ]
  },
  {
   "cell_type": "code",
   "execution_count": null,
   "metadata": {
    "collapsed": true
   },
   "outputs": [],
   "source": [
    "def time_stats(df):\n",
    "    \"\"\"Displays statistics on the most frequent times of travel.\n",
    "        显示最频繁的旅行时间的统计数据\n",
    "    \"\"\"\n",
    "\n",
    "    print('\\nCalculating The Most Frequent Times of Travel...\\n')\n",
    "    start_time = time.time()\n",
    "    # 使用df.mode()的方式获取众数（出现频率最高的）\n",
    "    # TO DO: display the most common month\n",
    "    popular_month = df['month'].mode()\n",
    "    # TO DO: display the most common day of week\n",
    "    popular_day_of_week = df['day_of_week'].mode()\n",
    "\n",
    "    # TO DO: display the most common start hour\n",
    "    popular_hour = df['hours'].mode()\n",
    "\n",
    "    print('month的众数为:%s' % popular_month)\n",
    "    print('day_of_week的众数为:%s' % popular_day_of_week)\n",
    "    print('hour的众数为:%s' % popular_hour)\n",
    "    print(\"\\nThis took %s seconds.\" % (time.time() - start_time))\n",
    "    print('-'*40)\n"
   ]
  },
  {
   "cell_type": "code",
   "execution_count": null,
   "metadata": {
    "collapsed": true
   },
   "outputs": [],
   "source": [
    "def station_stats(df):\n",
    "    \"\"\"Displays statistics on the most popular stations and trip.\"\"\"\n",
    "\n",
    "    print('\\nCalculating The Most Popular Stations and Trip...\\n')\n",
    "    start_time = time.time()\n",
    "\n",
    "\n",
    "    # TO DO: display most commonly used start station\n",
    "    popular_start = df['Start Station'].mode()\n",
    "    print('起始站的众数为:%s' % popular_start)\n",
    "    # TO DO: display most commonly used end station\n",
    "    popular_end = df['End Station'].mode()\n",
    "    print('起始站的众数为:%s' % popular_end)\n",
    "    # TO DO: display most frequent combination of start station and end station trip\n",
    "    \n",
    "    # popular_start = df['Start Station'].mode()\n",
    "    print(\"\\nThis took %s seconds.\" % (time.time() - start_time))\n",
    "    print('-'*40)\n",
    "\n"
   ]
  },
  {
   "cell_type": "code",
   "execution_count": null,
   "metadata": {
    "collapsed": true
   },
   "outputs": [],
   "source": [
    "def trip_duration_stats(df):\n",
    "    \"\"\"\n",
    "        Displays statistics on the total and average trip duration.\n",
    "        显示总体和平均旅行持续时间的统计数据\n",
    "    \"\"\"\n",
    "\n",
    "    print('\\nCalculating Trip Duration...\\n')\n",
    "    start_time = time.time()\n",
    "\n",
    "    # TO DO: display total travel time\n",
    "\n",
    "    # TO DO: display mean travel time\n",
    "\n",
    "    print(\"\\nThis took %s seconds.\" % (time.time() - start_time))\n",
    "    print('-'*40)\n"
   ]
  },
  {
   "cell_type": "code",
   "execution_count": null,
   "metadata": {
    "collapsed": true
   },
   "outputs": [],
   "source": [
    "def user_stats(df):\n",
    "    \"\"\"Displays statistics on bikeshare users.\"\"\"\n",
    "\n",
    "    print('\\nCalculating User Stats...\\n')\n",
    "    start_time = time.time()\n",
    "\n",
    "    # TO DO: Display counts of user types\n",
    "\n",
    "    # TO DO: Display counts of gender\n",
    "\n",
    "    # TO DO: Display earliest, most recent, and most common year of birth\n",
    "\n",
    "    print(\"\\nThis took %s seconds.\" % (time.time() - start_time))\n",
    "    print('-'*40)\n",
    "\n"
   ]
  },
  {
   "cell_type": "code",
   "execution_count": null,
   "metadata": {
    "collapsed": true
   },
   "outputs": [],
   "source": [
    "def main():\n",
    "    while True:\n",
    "        \n",
    "\n",
    "        time_stats(df)\n",
    "        station_stats(df)\n",
    "        trip_duration_stats(df)\n",
    "        user_stats(df)\n",
    "\n",
    "        restart = input('\\nWould you like to restart? Enter yes or no.\\n')\n",
    "        if restart.lower() != 'yes':\n",
    "            break\n",
    "\n",
    "\n"
   ]
  },
  {
   "cell_type": "code",
   "execution_count": null,
   "metadata": {
    "collapsed": true
   },
   "outputs": [],
   "source": [
    "if __name__ == \"__main__\":\n",
    "    main()"
   ]
  },
  {
   "cell_type": "code",
   "execution_count": null,
   "metadata": {
    "collapsed": true
   },
   "outputs": [],
   "source": []
  }
 ],
 "metadata": {
  "kernelspec": {
   "display_name": "Python 3",
   "language": "python",
   "name": "python3"
  },
  "language_info": {
   "codemirror_mode": {
    "name": "ipython",
    "version": 3
   },
   "file_extension": ".py",
   "mimetype": "text/x-python",
   "name": "python",
   "nbconvert_exporter": "python",
   "pygments_lexer": "ipython3",
   "version": "3.6.2"
  }
 },
 "nbformat": 4,
 "nbformat_minor": 2
}
