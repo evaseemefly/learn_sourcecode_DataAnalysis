{
 "cells": [
  {
   "cell_type": "code",
   "execution_count": 1,
   "metadata": {
    "collapsed": true
   },
   "outputs": [],
   "source": [
    "import pandas as pd\n",
    "import numpy as np"
   ]
  },
  {
   "cell_type": "code",
   "execution_count": 4,
   "metadata": {},
   "outputs": [
    {
     "data": {
      "text/html": [
       "<div>\n",
       "<style>\n",
       "    .dataframe thead tr:only-child th {\n",
       "        text-align: right;\n",
       "    }\n",
       "\n",
       "    .dataframe thead th {\n",
       "        text-align: left;\n",
       "    }\n",
       "\n",
       "    .dataframe tbody tr th {\n",
       "        vertical-align: top;\n",
       "    }\n",
       "</style>\n",
       "<table border=\"1\" class=\"dataframe\">\n",
       "  <thead>\n",
       "    <tr style=\"text-align: right;\">\n",
       "      <th></th>\n",
       "      <th>Start Time</th>\n",
       "      <th>End Time</th>\n",
       "      <th>Trip Duration</th>\n",
       "      <th>Start Station</th>\n",
       "      <th>End Station</th>\n",
       "      <th>User Type</th>\n",
       "      <th>Gender</th>\n",
       "      <th>Birth Year</th>\n",
       "    </tr>\n",
       "  </thead>\n",
       "  <tbody>\n",
       "    <tr>\n",
       "      <th>0</th>\n",
       "      <td>2017-05-29 18:36:27</td>\n",
       "      <td>2017-05-29 18:49:27</td>\n",
       "      <td>780</td>\n",
       "      <td>Columbus Dr &amp; Randolph St</td>\n",
       "      <td>Federal St &amp; Polk St</td>\n",
       "      <td>Subscriber</td>\n",
       "      <td>Male</td>\n",
       "      <td>1991.0</td>\n",
       "    </tr>\n",
       "    <tr>\n",
       "      <th>1</th>\n",
       "      <td>2017-06-12 19:00:33</td>\n",
       "      <td>2017-06-12 19:24:22</td>\n",
       "      <td>1429</td>\n",
       "      <td>Kingsbury St &amp; Erie St</td>\n",
       "      <td>Orleans St &amp; Merchandise Mart Plaza</td>\n",
       "      <td>Customer</td>\n",
       "      <td>NaN</td>\n",
       "      <td>NaN</td>\n",
       "    </tr>\n",
       "    <tr>\n",
       "      <th>2</th>\n",
       "      <td>2017-02-13 17:02:02</td>\n",
       "      <td>2017-02-13 17:20:10</td>\n",
       "      <td>1088</td>\n",
       "      <td>Canal St &amp; Madison St</td>\n",
       "      <td>Paulina Ave &amp; North Ave</td>\n",
       "      <td>Subscriber</td>\n",
       "      <td>Female</td>\n",
       "      <td>1982.0</td>\n",
       "    </tr>\n",
       "    <tr>\n",
       "      <th>3</th>\n",
       "      <td>2017-04-24 18:39:45</td>\n",
       "      <td>2017-04-24 18:54:59</td>\n",
       "      <td>914</td>\n",
       "      <td>Spaulding Ave &amp; Armitage Ave</td>\n",
       "      <td>California Ave &amp; Milwaukee Ave</td>\n",
       "      <td>Subscriber</td>\n",
       "      <td>Male</td>\n",
       "      <td>1966.0</td>\n",
       "    </tr>\n",
       "    <tr>\n",
       "      <th>4</th>\n",
       "      <td>2017-01-26 15:36:07</td>\n",
       "      <td>2017-01-26 15:43:21</td>\n",
       "      <td>434</td>\n",
       "      <td>Clark St &amp; Randolph St</td>\n",
       "      <td>Financial Pl &amp; Congress Pkwy</td>\n",
       "      <td>Subscriber</td>\n",
       "      <td>Female</td>\n",
       "      <td>1983.0</td>\n",
       "    </tr>\n",
       "  </tbody>\n",
       "</table>\n",
       "</div>"
      ],
      "text/plain": [
       "            Start Time             End Time  Trip Duration  \\\n",
       "0  2017-05-29 18:36:27  2017-05-29 18:49:27            780   \n",
       "1  2017-06-12 19:00:33  2017-06-12 19:24:22           1429   \n",
       "2  2017-02-13 17:02:02  2017-02-13 17:20:10           1088   \n",
       "3  2017-04-24 18:39:45  2017-04-24 18:54:59            914   \n",
       "4  2017-01-26 15:36:07  2017-01-26 15:43:21            434   \n",
       "\n",
       "                  Start Station                          End Station  \\\n",
       "0     Columbus Dr & Randolph St                 Federal St & Polk St   \n",
       "1        Kingsbury St & Erie St  Orleans St & Merchandise Mart Plaza   \n",
       "2         Canal St & Madison St              Paulina Ave & North Ave   \n",
       "3  Spaulding Ave & Armitage Ave       California Ave & Milwaukee Ave   \n",
       "4        Clark St & Randolph St         Financial Pl & Congress Pkwy   \n",
       "\n",
       "    User Type  Gender  Birth Year  \n",
       "0  Subscriber    Male      1991.0  \n",
       "1    Customer     NaN         NaN  \n",
       "2  Subscriber  Female      1982.0  \n",
       "3  Subscriber    Male      1966.0  \n",
       "4  Subscriber  Female      1983.0  "
      ]
     },
     "execution_count": 4,
     "metadata": {},
     "output_type": "execute_result"
    }
   ],
   "source": [
    "df.head()"
   ]
  },
  {
   "cell_type": "markdown",
   "metadata": {},
   "source": [
    "** 描述信息 **：  \n",
    "使用 pandas 在 dataframe 中加载 chicago.csv，并找到人们开始出行频率最高的 hour 时刻。数据集中并没有 hour 列，但你可以通过提取 “Start Time” 中的 hour 来创建 hour 列。为了完成这一点，你可以使用 pandas 的 to_datetime() 方法来将 “Start Time” 转换为 datetime 数据类型，并使用这些 properties 来提取相关属性，如 hour。"
   ]
  },
  {
   "cell_type": "code",
   "execution_count": 19,
   "metadata": {
    "collapsed": true
   },
   "outputs": [],
   "source": [
    "df=pd.read_csv('chicago.csv')"
   ]
  },
  {
   "cell_type": "markdown",
   "metadata": {},
   "source": [
    "先查看一下Start Time的类型  \n",
    "发现是** object类型 **  \n",
    "所以需要转换成datetime"
   ]
  },
  {
   "cell_type": "code",
   "execution_count": 21,
   "metadata": {},
   "outputs": [
    {
     "data": {
      "text/plain": [
       "0    2017-05-29 18:36:27\n",
       "1    2017-06-12 19:00:33\n",
       "2    2017-02-13 17:02:02\n",
       "3    2017-04-24 18:39:45\n",
       "4    2017-01-26 15:36:07\n",
       "Name: Start Time, dtype: object"
      ]
     },
     "execution_count": 21,
     "metadata": {},
     "output_type": "execute_result"
    }
   ],
   "source": [
    "df['Start Time'].head()"
   ]
  },
  {
   "cell_type": "code",
   "execution_count": 23,
   "metadata": {
    "collapsed": true
   },
   "outputs": [],
   "source": [
    "df['Start Time']=pd.to_datetime(df['Start Time'])"
   ]
  },
  {
   "cell_type": "code",
   "execution_count": 24,
   "metadata": {},
   "outputs": [
    {
     "data": {
      "text/plain": [
       "0   2017-05-29 18:36:27\n",
       "1   2017-06-12 19:00:33\n",
       "2   2017-02-13 17:02:02\n",
       "3   2017-04-24 18:39:45\n",
       "4   2017-01-26 15:36:07\n",
       "Name: Start Time, dtype: datetime64[ns]"
      ]
     },
     "execution_count": 24,
     "metadata": {},
     "output_type": "execute_result"
    }
   ],
   "source": [
    "df['Start Time'].head()"
   ]
  },
  {
   "cell_type": "markdown",
   "metadata": {},
   "source": [
    "转成datetime类型后，便可以调用dt.hour的方式获取小时"
   ]
  },
  {
   "cell_type": "code",
   "execution_count": 25,
   "metadata": {
    "collapsed": true
   },
   "outputs": [],
   "source": [
    "# extract hour from the Start Time column to create an hour column\n",
    "df['hours']=df['Start Time'].dt.hour"
   ]
  },
  {
   "cell_type": "code",
   "execution_count": 26,
   "metadata": {},
   "outputs": [
    {
     "data": {
      "text/plain": [
       "0    18\n",
       "1    19\n",
       "2    17\n",
       "3    18\n",
       "4    15\n",
       "Name: hours, dtype: int64"
      ]
     },
     "execution_count": 26,
     "metadata": {},
     "output_type": "execute_result"
    }
   ],
   "source": [
    "df['hours'].head()"
   ]
  },
  {
   "cell_type": "code",
   "execution_count": 28,
   "metadata": {
    "collapsed": true
   },
   "outputs": [],
   "source": [
    "# find the most common hour (from 0 to 23)\n",
    "popular_hour = df['hours'].mode()"
   ]
  },
  {
   "cell_type": "code",
   "execution_count": 29,
   "metadata": {},
   "outputs": [
    {
     "data": {
      "text/plain": [
       "0    17\n",
       "dtype: int64"
      ]
     },
     "execution_count": 29,
     "metadata": {},
     "output_type": "execute_result"
    }
   ],
   "source": [
    "popular_hour"
   ]
  },
  {
   "cell_type": "code",
   "execution_count": null,
   "metadata": {
    "collapsed": true
   },
   "outputs": [],
   "source": []
  }
 ],
 "metadata": {
  "kernelspec": {
   "display_name": "Python 3",
   "language": "python",
   "name": "python3"
  },
  "language_info": {
   "codemirror_mode": {
    "name": "ipython",
    "version": 3
   },
   "file_extension": ".py",
   "mimetype": "text/x-python",
   "name": "python",
   "nbconvert_exporter": "python",
   "pygments_lexer": "ipython3",
   "version": "3.6.3"
  }
 },
 "nbformat": 4,
 "nbformat_minor": 2
}
