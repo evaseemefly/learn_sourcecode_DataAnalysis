{
 "cells": [
  {
   "cell_type": "markdown",
   "metadata": {},
   "source": [
    "# 数据分析中常用的Python技巧"
   ]
  },
  {
   "cell_type": "markdown",
   "metadata": {},
   "source": [
    "## 1. Python常用容器类型"
   ]
  },
  {
   "cell_type": "markdown",
   "metadata": {},
   "source": [
    "* list"
   ]
  },
  {
   "cell_type": "code",
   "execution_count": 2,
   "metadata": {},
   "outputs": [
    {
     "name": "stdout",
     "output_type": "stream",
     "text": [
      "<class 'list'>\n",
      "修改前： [1, 'a', 2, 'b']\n",
      "修改后： [3, 'a', 2, 'b']\n",
      "添加后： [3, 'a', 2, 'b', 4]\n",
      "遍历list(for循环)：\n",
      "3\n",
      "a\n",
      "2\n",
      "b\n",
      "4\n",
      "遍历list(while循环)：\n",
      "3\n",
      "a\n",
      "2\n",
      "b\n",
      "4\n",
      "列表合并(+)： [1, 2, 3, 4]\n",
      "列表重复(*)： [1, 1, 1, 1, 1]\n",
      "判断元素存在(in)： True\n"
     ]
    }
   ],
   "source": [
    "l = [1, 'a', 2, 'b']\n",
    "print(type(l))\n",
    "print('修改前：', l)\n",
    "\n",
    "# 修改list的内容\n",
    "l[0] = 3\n",
    "print('修改后：', l)\n",
    "\n",
    "# 末尾添加元素\n",
    "l.append(4)\n",
    "print('添加后：', l)\n",
    "\n",
    "# 遍历list\n",
    "print('遍历list(for循环)：')\n",
    "for item in l:\n",
    "    print(item)\n",
    "    \n",
    "# 通过索引遍历list\n",
    "print('遍历list(while循环)：')\n",
    "i = 0\n",
    "while i != len(l):\n",
    "    print(l[i])\n",
    "    i += 1\n",
    "    \n",
    "# 列表合并\n",
    "print('列表合并(+)：', [1, 2] + [3, 4])\n",
    "\n",
    "# 列表重复\n",
    "print('列表重复(*)：', [1] * 5)\n",
    "\n",
    "# 判断元素是否在列表中\n",
    "print('判断元素存在(in)：', 1 in [1, 2])"
   ]
  },
  {
   "cell_type": "markdown",
   "metadata": {},
   "source": [
    "* tuple"
   ]
  },
  {
   "cell_type": "code",
   "execution_count": 45,
   "metadata": {},
   "outputs": [
    {
     "name": "stdout",
     "output_type": "stream",
     "text": [
      "<class 'tuple'>\n",
      "遍历list(for循环)：\n",
      "1\n",
      "a\n",
      "2\n",
      "b\n",
      "遍历tuple(while循环)：\n",
      "1\n",
      "a\n",
      "2\n",
      "b\n",
      "unpack:  2\n"
     ]
    }
   ],
   "source": [
    "t = (1, 'a', 2, 'b')\n",
    "print(type(t))\n",
    "\n",
    "#元组的内容不能修改，否则会报错\n",
    "# t[0] = 3 \n",
    "\n",
    "# 遍历tuple\n",
    "print('遍历list(for循环)：')\n",
    "for item in t:\n",
    "    print(item)\n",
    "    \n",
    "# 通过索引遍历tuple\n",
    "print('遍历tuple(while循环)：')\n",
    "i = 0\n",
    "while i != len(t):\n",
    "    print(t[i])\n",
    "    i += 1\n",
    "    \n",
    "# 解包 unpack\n",
    "a, b, c, d = t\n",
    "print('unpack: ', c)\n",
    "\n",
    "# 确保unpack接收的变量个数和tuple的长度相同，否则报错\n",
    "# 经常出现在函数返回值的赋值时\n",
    "# a, b, c = t"
   ]
  },
  {
   "cell_type": "markdown",
   "metadata": {},
   "source": [
    "* dictionary"
   ]
  },
  {
   "cell_type": "code",
   "execution_count": 44,
   "metadata": {},
   "outputs": [
    {
     "name": "stdout",
     "output_type": "stream",
     "text": [
      "通过key获取value:  http://www.chinahadoop.cn/\n",
      "遍历key: \n",
      "腾讯\n",
      "百度\n",
      "小象学院\n",
      "阿里巴巴\n",
      "遍历value: \n",
      "https://www.tencent.com/\n",
      "https://www.baidu.com/\n",
      "http://www.chinahadoop.cn/\n",
      "https://www.alibaba.com/\n",
      "遍历item: \n",
      "腾讯: https://www.tencent.com/\n",
      "百度: https://www.baidu.com/\n",
      "小象学院: http://www.chinahadoop.cn/\n",
      "阿里巴巴: https://www.alibaba.com/\n",
      "format输出格式：\n",
      "腾讯的网址是https://www.tencent.com/\n",
      "百度的网址是https://www.baidu.com/\n",
      "小象学院的网址是http://www.chinahadoop.cn/\n",
      "阿里巴巴的网址是https://www.alibaba.com/\n"
     ]
    }
   ],
   "source": [
    "d = {'小象学院': 'http://www.chinahadoop.cn/',\n",
    "    '百度': 'https://www.baidu.com/',\n",
    "    '阿里巴巴': 'https://www.alibaba.com/',\n",
    "    '腾讯': 'https://www.tencent.com/'}\n",
    "\n",
    "print('通过key获取value: ', d['小象学院'])\n",
    "\n",
    "# 遍历key\n",
    "print('遍历key: ')\n",
    "for key in d.keys():\n",
    "    print(key)\n",
    "    \n",
    "# 遍历value\n",
    "print('遍历value: ')\n",
    "for value in d.values():\n",
    "    print(value)\n",
    "    \n",
    "# 遍历item\n",
    "print('遍历item: ')\n",
    "for key, value in d.items():\n",
    "    print(key + ': ' + value)\n",
    "\n",
    "# format输出格式\n",
    "print('format输出格式：')\n",
    "for key, value in d.items():\n",
    "    print('{}的网址是{}'.format(key, value))\n"
   ]
  },
  {
   "cell_type": "markdown",
   "metadata": {},
   "source": [
    "* set"
   ]
  },
  {
   "cell_type": "code",
   "execution_count": 54,
   "metadata": {},
   "outputs": [
    {
     "name": "stdout",
     "output_type": "stream",
     "text": [
      "创建set:\n",
      "{1, 2, 3}\n",
      "{1, 2, 3}\n",
      "添加单个元素:\n",
      "添加3 {1, 2, 3}\n",
      "添加4 {1, 2, 3, 4}\n",
      "添加多个元素：\n",
      "{1, 2, 3, 4, 5, 6}\n"
     ]
    }
   ],
   "source": [
    "print('创建set:')\n",
    "my_set = {1, 2, 3}\n",
    "print(my_set)\n",
    "my_set = set([1, 2, 3, 2])\n",
    "print(my_set)\n",
    "\n",
    "print('添加单个元素:')\n",
    "my_set.add(3)\n",
    "print('添加3', my_set)\n",
    "\n",
    "my_set.add(4)\n",
    "print('添加4', my_set)\n",
    "\n",
    "print('添加多个元素：')\n",
    "my_set.update([4, 5, 6])\n",
    "print(my_set)"
   ]
  },
  {
   "cell_type": "markdown",
   "metadata": {},
   "source": [
    "## 2. Python字符串操作"
   ]
  },
  {
   "cell_type": "code",
   "execution_count": 31,
   "metadata": {},
   "outputs": [
    {
     "name": "stdout",
     "output_type": "stream",
     "text": [
      "索引操作：\n",
      "s[0]:  数\n",
      "s[0:2]:  数据\n",
      "s[-1]:  析\n",
      "s[-2:]:  分析\n",
      "split分割字符串：\n",
      "['Python', 'is', 'a', 'widely', 'used', 'high-level', 'programming', 'language', 'for', 'general-purpose', 'programming.']\n"
     ]
    }
   ],
   "source": [
    "# 索引获取数据\n",
    "s = '数据分析'\n",
    "\n",
    "print('索引操作：')\n",
    "print('s[0]: ', s[0])\n",
    "print('s[0:2]: ', s[0:2])\n",
    "print('s[-1]: ', s[-1])\n",
    "print('s[-2:]: ', s[-2:])\n",
    "\n",
    "print('split分割字符串：')\n",
    "s2 = 'Python is a widely used high-level programming language for general-purpose programming.'\n",
    "print(s2.split(' '))"
   ]
  },
  {
   "cell_type": "markdown",
   "metadata": {},
   "source": [
    "## 3. Python日期时间处理"
   ]
  },
  {
   "cell_type": "code",
   "execution_count": 64,
   "metadata": {},
   "outputs": [
    {
     "name": "stdout",
     "output_type": "stream",
     "text": [
      "当前时间： 1506484279.830139\n",
      "2017-09-27 13:51:19.830139\n",
      "2017年9月27日\n",
      "今天的前100天： 2017-06-19\n",
      "True\n"
     ]
    }
   ],
   "source": [
    "import datetime as dt\n",
    "import time as tm\n",
    "\n",
    "#  从1970年1月1日算起\n",
    "print('当前时间：', tm.time())\n",
    "\n",
    "dt_now = dt.datetime.fromtimestamp(tm.time())\n",
    "print(dt_now)\n",
    "print('{}年{}月{}日'.format(dt_now.year, dt_now.month, dt_now.day))\n",
    "\n",
    "# 日期计算\n",
    "delta = dt.timedelta(days=100)\n",
    "print('今天的前100天：', dt.date.today() - delta)\n",
    "print(dt.date.today() > dt.date.today() - delta)"
   ]
  },
  {
   "cell_type": "markdown",
   "metadata": {},
   "source": [
    "## 4. Python面向对象编程"
   ]
  },
  {
   "cell_type": "code",
   "execution_count": 70,
   "metadata": {},
   "outputs": [
    {
     "name": "stdout",
     "output_type": "stream",
     "text": [
      "小王的职业是自由职业\n",
      "王工的职业是数据分析师\n"
     ]
    }
   ],
   "source": [
    "class Person:\n",
    "    def __init__(self, name, company='自由职业'):\n",
    "        self.name = name\n",
    "        self.company = company\n",
    "    \n",
    "    def set_name(self, name):\n",
    "        self.name = name\n",
    "        \n",
    "    def set_company(self, company):\n",
    "        self.company= company\n",
    "        \n",
    "p = Person('小王')\n",
    "print('{}的职业是{}'.format(p.name, p.company))\n",
    "\n",
    "p.set_company('数据分析师')\n",
    "p.set_name('王工')\n",
    "print('{}的职业是{}'.format(p.name, p.company))"
   ]
  },
  {
   "cell_type": "markdown",
   "metadata": {},
   "source": [
    "## 5. Python map()函数"
   ]
  },
  {
   "cell_type": "code",
   "execution_count": 80,
   "metadata": {},
   "outputs": [
    {
     "name": "stdout",
     "output_type": "stream",
     "text": [
      "示例1，获取两个列表对应位置上的最小值：\n",
      "<map object at 0x0000000004C65438>\n",
      "1\n",
      "3\n",
      "5\n",
      "7\n",
      "9\n",
      "示例2，对列表中的元素进行平方根操作：\n",
      "<map object at 0x0000000004C651D0>\n",
      "[1.4142135623730951, 2.0, 2.449489742783178, 2.8284271247461903, 3.1622776601683795]\n"
     ]
    }
   ],
   "source": [
    "import math\n",
    "\n",
    "print('示例1，获取两个列表对应位置上的最小值：')\n",
    "l1 = [1, 3, 5, 7, 9]\n",
    "l2 = [2, 4, 6, 8, 10]\n",
    "mins = map(min, l1, l2)\n",
    "print(mins)\n",
    "\n",
    "# map()函数操作时，直到访问数据时才会执行\n",
    "for item in mins:\n",
    "    print(item)\n",
    "\n",
    "print('示例2，对列表中的元素进行平方根操作：')\n",
    "squared = map(math.sqrt, l2)\n",
    "print(squared)\n",
    "print(list(squared))"
   ]
  },
  {
   "cell_type": "markdown",
   "metadata": {},
   "source": [
    "## 6. 匿名函数 lambda"
   ]
  },
  {
   "cell_type": "code",
   "execution_count": 1,
   "metadata": {},
   "outputs": [
    {
     "name": "stdout",
     "output_type": "stream",
     "text": [
      "<function <lambda> at 0x0000018FDD9F4D90>\n",
      "2\n",
      "lambda结合map\n",
      "[4, 10, 16, 22, 28]\n"
     ]
    }
   ],
   "source": [
    "my_func = lambda a, b, c: a * b\n",
    "print(my_func)\n",
    "print(my_func(1, 2, 3))\n",
    "\n",
    "# 结合map\n",
    "print('lambda结合map')\n",
    "l1 = [1, 3, 5, 7, 9]\n",
    "l2 = [2, 4, 6, 8, 10]\n",
    "result = map(lambda x, y: x * 2 + y, l1, l2)\n",
    "print(list(result))"
   ]
  },
  {
   "cell_type": "markdown",
   "metadata": {},
   "source": [
    "## 7. 列表推导式"
   ]
  },
  {
   "cell_type": "code",
   "execution_count": 91,
   "metadata": {},
   "outputs": [
    {
     "name": "stdout",
     "output_type": "stream",
     "text": [
      "找出1000内的偶数(for循环)：\n",
      "[0, 2, 4, 6, 8, 10, 12, 14, 16, 18, 20, 22, 24, 26, 28, 30, 32, 34, 36, 38, 40, 42, 44, 46, 48, 50, 52, 54, 56, 58, 60, 62, 64, 66, 68, 70, 72, 74, 76, 78, 80, 82, 84, 86, 88, 90, 92, 94, 96, 98, 100, 102, 104, 106, 108, 110, 112, 114, 116, 118, 120, 122, 124, 126, 128, 130, 132, 134, 136, 138, 140, 142, 144, 146, 148, 150, 152, 154, 156, 158, 160, 162, 164, 166, 168, 170, 172, 174, 176, 178, 180, 182, 184, 186, 188, 190, 192, 194, 196, 198, 200, 202, 204, 206, 208, 210, 212, 214, 216, 218, 220, 222, 224, 226, 228, 230, 232, 234, 236, 238, 240, 242, 244, 246, 248, 250, 252, 254, 256, 258, 260, 262, 264, 266, 268, 270, 272, 274, 276, 278, 280, 282, 284, 286, 288, 290, 292, 294, 296, 298, 300, 302, 304, 306, 308, 310, 312, 314, 316, 318, 320, 322, 324, 326, 328, 330, 332, 334, 336, 338, 340, 342, 344, 346, 348, 350, 352, 354, 356, 358, 360, 362, 364, 366, 368, 370, 372, 374, 376, 378, 380, 382, 384, 386, 388, 390, 392, 394, 396, 398, 400, 402, 404, 406, 408, 410, 412, 414, 416, 418, 420, 422, 424, 426, 428, 430, 432, 434, 436, 438, 440, 442, 444, 446, 448, 450, 452, 454, 456, 458, 460, 462, 464, 466, 468, 470, 472, 474, 476, 478, 480, 482, 484, 486, 488, 490, 492, 494, 496, 498, 500, 502, 504, 506, 508, 510, 512, 514, 516, 518, 520, 522, 524, 526, 528, 530, 532, 534, 536, 538, 540, 542, 544, 546, 548, 550, 552, 554, 556, 558, 560, 562, 564, 566, 568, 570, 572, 574, 576, 578, 580, 582, 584, 586, 588, 590, 592, 594, 596, 598, 600, 602, 604, 606, 608, 610, 612, 614, 616, 618, 620, 622, 624, 626, 628, 630, 632, 634, 636, 638, 640, 642, 644, 646, 648, 650, 652, 654, 656, 658, 660, 662, 664, 666, 668, 670, 672, 674, 676, 678, 680, 682, 684, 686, 688, 690, 692, 694, 696, 698, 700, 702, 704, 706, 708, 710, 712, 714, 716, 718, 720, 722, 724, 726, 728, 730, 732, 734, 736, 738, 740, 742, 744, 746, 748, 750, 752, 754, 756, 758, 760, 762, 764, 766, 768, 770, 772, 774, 776, 778, 780, 782, 784, 786, 788, 790, 792, 794, 796, 798, 800, 802, 804, 806, 808, 810, 812, 814, 816, 818, 820, 822, 824, 826, 828, 830, 832, 834, 836, 838, 840, 842, 844, 846, 848, 850, 852, 854, 856, 858, 860, 862, 864, 866, 868, 870, 872, 874, 876, 878, 880, 882, 884, 886, 888, 890, 892, 894, 896, 898, 900, 902, 904, 906, 908, 910, 912, 914, 916, 918, 920, 922, 924, 926, 928, 930, 932, 934, 936, 938, 940, 942, 944, 946, 948, 950, 952, 954, 956, 958, 960, 962, 964, 966, 968, 970, 972, 974, 976, 978, 980, 982, 984, 986, 988, 990, 992, 994, 996, 998]\n"
     ]
    }
   ],
   "source": [
    "print('找出1000内的偶数(for循环)：')\n",
    "l1 = []\n",
    "for i in range(1000):\n",
    "    if i % 2 == 0:\n",
    "        l1.append(i)\n",
    "print(l1)"
   ]
  },
  {
   "cell_type": "code",
   "execution_count": 92,
   "metadata": {},
   "outputs": [
    {
     "name": "stdout",
     "output_type": "stream",
     "text": [
      "找出1000内的偶数(列表推导式)：\n",
      "[0, 2, 4, 6, 8, 10, 12, 14, 16, 18, 20, 22, 24, 26, 28, 30, 32, 34, 36, 38, 40, 42, 44, 46, 48, 50, 52, 54, 56, 58, 60, 62, 64, 66, 68, 70, 72, 74, 76, 78, 80, 82, 84, 86, 88, 90, 92, 94, 96, 98, 100, 102, 104, 106, 108, 110, 112, 114, 116, 118, 120, 122, 124, 126, 128, 130, 132, 134, 136, 138, 140, 142, 144, 146, 148, 150, 152, 154, 156, 158, 160, 162, 164, 166, 168, 170, 172, 174, 176, 178, 180, 182, 184, 186, 188, 190, 192, 194, 196, 198, 200, 202, 204, 206, 208, 210, 212, 214, 216, 218, 220, 222, 224, 226, 228, 230, 232, 234, 236, 238, 240, 242, 244, 246, 248, 250, 252, 254, 256, 258, 260, 262, 264, 266, 268, 270, 272, 274, 276, 278, 280, 282, 284, 286, 288, 290, 292, 294, 296, 298, 300, 302, 304, 306, 308, 310, 312, 314, 316, 318, 320, 322, 324, 326, 328, 330, 332, 334, 336, 338, 340, 342, 344, 346, 348, 350, 352, 354, 356, 358, 360, 362, 364, 366, 368, 370, 372, 374, 376, 378, 380, 382, 384, 386, 388, 390, 392, 394, 396, 398, 400, 402, 404, 406, 408, 410, 412, 414, 416, 418, 420, 422, 424, 426, 428, 430, 432, 434, 436, 438, 440, 442, 444, 446, 448, 450, 452, 454, 456, 458, 460, 462, 464, 466, 468, 470, 472, 474, 476, 478, 480, 482, 484, 486, 488, 490, 492, 494, 496, 498, 500, 502, 504, 506, 508, 510, 512, 514, 516, 518, 520, 522, 524, 526, 528, 530, 532, 534, 536, 538, 540, 542, 544, 546, 548, 550, 552, 554, 556, 558, 560, 562, 564, 566, 568, 570, 572, 574, 576, 578, 580, 582, 584, 586, 588, 590, 592, 594, 596, 598, 600, 602, 604, 606, 608, 610, 612, 614, 616, 618, 620, 622, 624, 626, 628, 630, 632, 634, 636, 638, 640, 642, 644, 646, 648, 650, 652, 654, 656, 658, 660, 662, 664, 666, 668, 670, 672, 674, 676, 678, 680, 682, 684, 686, 688, 690, 692, 694, 696, 698, 700, 702, 704, 706, 708, 710, 712, 714, 716, 718, 720, 722, 724, 726, 728, 730, 732, 734, 736, 738, 740, 742, 744, 746, 748, 750, 752, 754, 756, 758, 760, 762, 764, 766, 768, 770, 772, 774, 776, 778, 780, 782, 784, 786, 788, 790, 792, 794, 796, 798, 800, 802, 804, 806, 808, 810, 812, 814, 816, 818, 820, 822, 824, 826, 828, 830, 832, 834, 836, 838, 840, 842, 844, 846, 848, 850, 852, 854, 856, 858, 860, 862, 864, 866, 868, 870, 872, 874, 876, 878, 880, 882, 884, 886, 888, 890, 892, 894, 896, 898, 900, 902, 904, 906, 908, 910, 912, 914, 916, 918, 920, 922, 924, 926, 928, 930, 932, 934, 936, 938, 940, 942, 944, 946, 948, 950, 952, 954, 956, 958, 960, 962, 964, 966, 968, 970, 972, 974, 976, 978, 980, 982, 984, 986, 988, 990, 992, 994, 996, 998]\n"
     ]
    }
   ],
   "source": [
    "print('找出1000内的偶数(列表推导式)：')\n",
    "l2 = [i for i in range(1000) if i % 2 == 0]\n",
    "print(l2)"
   ]
  },
  {
   "cell_type": "markdown",
   "metadata": {},
   "source": [
    "## 8. Python操作CSV数据文件"
   ]
  },
  {
   "cell_type": "code",
   "execution_count": 9,
   "metadata": {
    "scrolled": true
   },
   "outputs": [
    {
     "name": "stdout",
     "output_type": "stream",
     "text": [
      "记录个数： 2315\n",
      "前2条记录： [OrderedDict([('student_id', 'B73F2C11-70F0-E37D-8B10-1D20AFED50B1'), ('assignment1_grade', '92.73394640624123'), ('assignment1_submission', '2015-11-02 06:55:34.282000000'), ('assignment2_grade', '83.03055176561709'), ('assignment2_submission', '2015-11-09 02:22:58.938000000'), ('assignment3_grade', '67.16444141249367'), ('assignment3_submission', '2015-11-12 08:58:33.998000000'), ('assignment4_grade', '53.01155312999494'), ('assignment4_submission', '2015-11-16 01:21:24.663000000'), ('assignment5_grade', '47.710397816995446'), ('assignment5_submission', '2015-11-20 13:24:59.692000000'), ('assignment6_grade', '38.16831825359636'), ('assignment6_submission', '2015-11-22 18:31:15.934000000')]), OrderedDict([('student_id', '98A0FAE0-A19A-13D2-4BB5-CFBFD94031D1'), ('assignment1_grade', '86.79082085792986'), ('assignment1_submission', '2015-11-29 14:57:44.429000000'), ('assignment2_grade', '86.29082085792986'), ('assignment2_submission', '2015-12-06 17:41:18.449000000'), ('assignment3_grade', '69.7726566863439'), ('assignment3_submission', '2015-12-10 08:54:55.904000000'), ('assignment4_grade', '55.0981253490751'), ('assignment4_submission', '2015-12-13 17:32:30.941000000'), ('assignment5_grade', '49.5883128141676'), ('assignment5_submission', '2015-12-19 23:26:39.285000000'), ('assignment6_grade', '44.62948153275085'), ('assignment6_submission', '2015-12-21 17:07:24.275000000')])]\n",
      "列名： ['student_id', 'assignment1_grade', 'assignment1_submission', 'assignment2_grade', 'assignment2_submission', 'assignment3_grade', 'assignment3_submission', 'assignment4_grade', 'assignment4_submission', 'assignment5_grade', 'assignment5_submission', 'assignment6_grade', 'assignment6_submission']\n"
     ]
    }
   ],
   "source": [
    "import csv\n",
    "\n",
    "with open('grades.csv') as csvfile:\n",
    "    grades_data = list(csv.DictReader(csvfile))\n",
    "    \n",
    "print('记录个数：', len(grades_data))\n",
    "print('前2条记录：', grades_data[:2])\n",
    "print('列名：', list(grades_data[0].keys()))"
   ]
  },
  {
   "cell_type": "code",
   "execution_count": 10,
   "metadata": {},
   "outputs": [
    {
     "name": "stdout",
     "output_type": "stream",
     "text": [
      "assignment1平均分数： 74.5357320747794\n"
     ]
    }
   ],
   "source": [
    "avg_assign1 = sum(float(row['assignment1_grade']) for row in grades_data) / len(grades_data) \n",
    "print('assignment1平均分数：', avg_assign1)"
   ]
  },
  {
   "cell_type": "code",
   "execution_count": 13,
   "metadata": {},
   "outputs": [
    {
     "name": "stdout",
     "output_type": "stream",
     "text": [
      "{'2016-02', '2015-11', '2015-12', '2016-07', '2016-01', '2015-10', '2016-06', '2015-09', '2016-05', '2016-03', '2016-08', '2016-04'}\n"
     ]
    }
   ],
   "source": [
    "assign1_sub_month = set(row['assignment1_submission'][:7] for row in grades_data)\n",
    "print(assign1_sub_month)"
   ]
  },
  {
   "cell_type": "code",
   "execution_count": null,
   "metadata": {
    "collapsed": true
   },
   "outputs": [],
   "source": []
  }
 ],
 "metadata": {
  "anaconda-cloud": {},
  "kernelspec": {
   "display_name": "Python 3",
   "language": "python",
   "name": "python3"
  },
  "language_info": {
   "codemirror_mode": {
    "name": "ipython",
    "version": 3
   },
   "file_extension": ".py",
   "mimetype": "text/x-python",
   "name": "python",
   "nbconvert_exporter": "python",
   "pygments_lexer": "ipython3",
   "version": "3.6.2"
  }
 },
 "nbformat": 4,
 "nbformat_minor": 2
}
