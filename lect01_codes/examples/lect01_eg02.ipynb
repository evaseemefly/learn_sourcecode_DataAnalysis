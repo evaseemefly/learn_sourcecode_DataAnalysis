{
 "cells": [
  {
   "cell_type": "markdown",
   "metadata": {},
   "source": [
    "# 科学计算库NumPy"
   ]
  },
  {
   "cell_type": "code",
   "execution_count": 1,
   "metadata": {
    "collapsed": true
   },
   "outputs": [],
   "source": [
    "import numpy as np"
   ]
  },
  {
   "cell_type": "markdown",
   "metadata": {},
   "source": [
    "## 1. 创建Array"
   ]
  },
  {
   "cell_type": "code",
   "execution_count": 2,
   "metadata": {},
   "outputs": [
    {
     "name": "stdout",
     "output_type": "stream",
     "text": [
      "列表： [1, 2, 3]\n",
      "Array:  [1 2 3]\n",
      "(3,) int32\n"
     ]
    }
   ],
   "source": [
    "my_list = [1, 2, 3]\n",
    "x = np.array(my_list)\n",
    "\n",
    "print('列表：', my_list)\n",
    "print('Array: ', x)\n",
    "print(x.shape,x.dtype)"
   ]
  },
  {
   "cell_type": "code",
   "execution_count": 3,
   "metadata": {},
   "outputs": [
    {
     "name": "stdout",
     "output_type": "stream",
     "text": [
      "[[1 2 3]\n",
      " [4 5 6]]\n",
      "shape:  (2, 3)\n",
      "type int32\n"
     ]
    }
   ],
   "source": [
    "m = np.array([[1, 2, 3], [4, 5, 6]])\n",
    "print(m)\n",
    "print('shape: ', m.shape)\n",
    "# 查看类型\n",
    "print('type',m.dtype)"
   ]
  },
  {
   "cell_type": "code",
   "execution_count": 4,
   "metadata": {},
   "outputs": [
    {
     "name": "stdout",
     "output_type": "stream",
     "text": [
      "[ 0  2  4  6  8 10 12 14 16 18 20 22 24 26 28]\n"
     ]
    }
   ],
   "source": [
    "n = np.arange(0, 30, 2)\n",
    "print(n)"
   ]
  },
  {
   "cell_type": "markdown",
   "metadata": {},
   "source": [
    "n = n.reshape(3, 5)\n",
    "print('reshape后: ')\n",
    "print(n)"
   ]
  },
  {
   "cell_type": "raw",
   "metadata": {},
   "source": [
    "ndarray是一种多维数组对象\n"
   ]
  },
  {
   "cell_type": "code",
   "execution_count": 10,
   "metadata": {},
   "outputs": [
    {
     "name": "stdout",
     "output_type": "stream",
     "text": [
      "ones:\n",
      " [[ 1.  1.]\n",
      " [ 1.  1.]\n",
      " [ 1.  1.]]\n",
      "4*2\n",
      " [[ 1.  1.]\n",
      " [ 1.  1.]\n",
      " [ 1.  1.]\n",
      " [ 1.  1.]]\n",
      "zeros:\n",
      " [[ 0.  0.]\n",
      " [ 0.  0.]\n",
      " [ 0.  0.]]\n",
      "eye:\n",
      " [[ 1.  0.  0.]\n",
      " [ 0.  1.  0.]\n",
      " [ 0.  0.  1.]]\n",
      "empty\n",
      " [[[  2.31597830e+251   2.28896110e+243   1.39565102e-258   2.19993033e-152]\n",
      "  [  3.68205014e+180   2.31634004e-152   2.42766851e-154   7.69843740e+218]\n",
      "  [  5.98189658e-154   4.47593816e-091   6.01334512e-154   1.96086546e+243]]\n",
      "\n",
      " [[  1.39310750e-258   6.01347002e-154   9.13612771e+242   5.98129759e-154]\n",
      "  [  1.06758000e+224   4.46811730e-091   5.98149672e-154   1.94862405e-153]\n",
      "  [  1.90118402e-094   5.98185668e-154   8.58769271e+227   9.13607823e+242]]]\n",
      "diag:\n",
      " [[1 0 0]\n",
      " [0 2 0]\n",
      " [0 0 3]]\n"
     ]
    }
   ],
   "source": [
    "# \n",
    "# 创建指定长度或形状的全0或全1数组\n",
    "# 里面使用的是元组\n",
    "print('ones:\\n', np.ones((3, 2)))\n",
    "print('4*2\\n',np.ones((4,2)))\n",
    "\n",
    "print('zeros:\\n', np.zeros((3, 2)))\n",
    "print('eye:\\n', np.eye(3))\n",
    "print('empty\\n',np.empty((2,3,4)))\n",
    "print('diag:\\n', np.diag(my_list))"
   ]
  },
  {
   "cell_type": "code",
   "execution_count": 17,
   "metadata": {},
   "outputs": [
    {
     "name": "stdout",
     "output_type": "stream",
     "text": [
      "*操作：\n",
      " [1 2 3 1 2 3 1 2 3]\n",
      "repeat：\n",
      " [1 1 1 2 2 2 3 3 3]\n"
     ]
    }
   ],
   "source": [
    "print('*操作：\\n', np.array([1, 2, 3] * 3))\n",
    "print('repeat：\\n', np.repeat([1, 2, 3], 3))"
   ]
  },
  {
   "cell_type": "code",
   "execution_count": 25,
   "metadata": {
    "scrolled": true
   },
   "outputs": [
    {
     "name": "stdout",
     "output_type": "stream",
     "text": [
      "纵向叠加: \n",
      " [[ 1.  1.  1.]\n",
      " [ 1.  1.  1.]\n",
      " [ 1.  1.  1.]\n",
      " [ 0.  1.  2.]\n",
      " [ 3.  4.  5.]\n",
      " [ 6.  7.  8.]]\n",
      "横向叠加: \n",
      " [[ 1.  1.  1.  0.  1.  2.]\n",
      " [ 1.  1.  1.  3.  4.  5.]\n",
      " [ 1.  1.  1.  6.  7.  8.]]\n"
     ]
    }
   ],
   "source": [
    "p1 = np.ones((3, 3))\n",
    "p2 = np.arange(9).reshape(3, 3)\n",
    "print('纵向叠加: \\n', np.vstack((p1, p2)))\n",
    "print('横向叠加: \\n', np.hstack((p1, p2)))"
   ]
  },
  {
   "cell_type": "markdown",
   "metadata": {},
   "source": [
    "# 数组与标量之间的运算"
   ]
  },
  {
   "cell_type": "code",
   "execution_count": 12,
   "metadata": {},
   "outputs": [
    {
     "name": "stdout",
     "output_type": "stream",
     "text": [
      "[[1 2 3]\n",
      " [4 5 6]]\n"
     ]
    },
    {
     "data": {
      "text/plain": [
       "array([[ 1.,  2.,  3.],\n",
       "       [ 4.,  5.,  6.]])"
      ]
     },
     "execution_count": 12,
     "metadata": {},
     "output_type": "execute_result"
    }
   ],
   "source": [
    "myarray=np.array([[1,2,3],[4,5,6]])\n",
    "print(myarray)\n",
    "myarray.astype(np.float64)"
   ]
  },
  {
   "cell_type": "markdown",
   "metadata": {},
   "source": [
    "## 2. Array操作"
   ]
  },
  {
   "cell_type": "code",
   "execution_count": 26,
   "metadata": {},
   "outputs": [
    {
     "name": "stdout",
     "output_type": "stream",
     "text": [
      "p1: \n",
      " [[ 1.  1.  1.]\n",
      " [ 1.  1.  1.]\n",
      " [ 1.  1.  1.]]\n",
      "p2: \n",
      " [[0 1 2]\n",
      " [3 4 5]\n",
      " [6 7 8]]\n",
      "p1 + p2 = \n",
      " [[ 1.  2.  3.]\n",
      " [ 4.  5.  6.]\n",
      " [ 7.  8.  9.]]\n",
      "p1 * p2 = \n",
      " [[ 0.  1.  2.]\n",
      " [ 3.  4.  5.]\n",
      " [ 6.  7.  8.]]\n",
      "p2^2 = \n",
      " [[ 0  1  4]\n",
      " [ 9 16 25]\n",
      " [36 49 64]]\n",
      "p1.p2 = \n",
      " [[  9.  12.  15.]\n",
      " [  9.  12.  15.]\n",
      " [  9.  12.  15.]]\n"
     ]
    }
   ],
   "source": [
    "print('p1: \\n', p1)\n",
    "print('p2: \\n', p2)\n",
    "\n",
    "print('p1 + p2 = \\n', p1 + p2)\n",
    "print('p1 * p2 = \\n', p1 * p2)\n",
    "print('p2^2 = \\n', p2 ** 2)\n",
    "print('p1.p2 = \\n', p1.dot(p2))"
   ]
  },
  {
   "cell_type": "code",
   "execution_count": 29,
   "metadata": {},
   "outputs": [
    {
     "name": "stdout",
     "output_type": "stream",
     "text": [
      "p3形状:  (2, 3)\n",
      "[[0 1 2]\n",
      " [3 4 5]]\n",
      "转置后p3形状:  (3, 2)\n",
      "[[0 3]\n",
      " [1 4]\n",
      " [2 5]]\n"
     ]
    }
   ],
   "source": [
    "p3 = np.arange(6).reshape(2, 3)\n",
    "print('p3形状: ', p3.shape)\n",
    "print(p3)\n",
    "p4 = p3.T\n",
    "print('转置后p3形状: ', p4.shape)\n",
    "print(p4)"
   ]
  },
  {
   "cell_type": "code",
   "execution_count": 30,
   "metadata": {},
   "outputs": [
    {
     "name": "stdout",
     "output_type": "stream",
     "text": [
      "p3数据类型: int32\n",
      "[[0 1 2]\n",
      " [3 4 5]]\n",
      "p5数据类型: float64\n",
      "[[ 0.  1.  2.]\n",
      " [ 3.  4.  5.]]\n"
     ]
    }
   ],
   "source": [
    "print('p3数据类型:', p3.dtype)\n",
    "print(p3)\n",
    "\n",
    "p5 = p3.astype('float')\n",
    "print('p5数据类型:', p5.dtype)\n",
    "print(p5)"
   ]
  },
  {
   "cell_type": "code",
   "execution_count": 7,
   "metadata": {},
   "outputs": [
    {
     "name": "stdout",
     "output_type": "stream",
     "text": [
      "[-4 -2  1  3  5  7]\n",
      "[[-4 -2]\n",
      " [ 1  3]\n",
      " [ 5  7]]\n",
      "sum:  10\n",
      "b sum 10\n",
      "min:  -4\n",
      "max:  7\n",
      "mean:  1.66666666667\n",
      "std:  3.81517438075\n",
      "argmax:  5\n",
      "argmin:  0\n"
     ]
    }
   ],
   "source": [
    "import numpy as np\n",
    "a = np.array([-4, -2, 1, 3, 5,7])\n",
    "b=a.reshape(3,2)\n",
    "print(a)\n",
    "print(b)\n",
    "print('sum: ', a.sum())\n",
    "print('b sum',b.sum())\n",
    "print('min: ', a.min())\n",
    "print('max: ', a.max())\n",
    "print('mean: ', a.mean())\n",
    "print('std: ', a.std())\n",
    "print('argmax: ', a.argmax())\n",
    "print('argmin: ', a.argmin())"
   ]
  },
  {
   "cell_type": "markdown",
   "metadata": {},
   "source": [
    "## 3. 索引与切片"
   ]
  },
  {
   "cell_type": "code",
   "execution_count": 39,
   "metadata": {},
   "outputs": [
    {
     "name": "stdout",
     "output_type": "stream",
     "text": [
      "s:  [  0   1   4   9  16  25  36  49  64  81 100 121 144]\n",
      "s[0]:  0\n",
      "s[4]:  16\n",
      "s[0:3]:  [0 1 4]\n",
      "s[[0, 2, 4]]:  [ 0  4 16]\n"
     ]
    }
   ],
   "source": [
    "# 一维array\n",
    "s = np.arange(13) ** 2\n",
    "print('s: ', s)\n",
    "print('s[0]: ', s[0])\n",
    "print('s[4]: ', s[4])\n",
    "print('s[0:3]: ', s[0:3])\n",
    "print('s[[0, 2, 4]]: ', s[[0, 2, 4]])"
   ]
  },
  {
   "cell_type": "code",
   "execution_count": 43,
   "metadata": {},
   "outputs": [
    {
     "name": "stdout",
     "output_type": "stream",
     "text": [
      "r: \n",
      " [[ 0  1  2  3  4  5]\n",
      " [ 6  7  8  9 10 11]\n",
      " [12 13 14 15 16 17]\n",
      " [18 19 20 21 22 23]\n",
      " [24 25 26 27 28 29]\n",
      " [30 31 32 33 34 35]]\n",
      "r[2, 2]: \n",
      " 14\n",
      "r[3, 3:6]: \n",
      " [21 22 23]\n"
     ]
    }
   ],
   "source": [
    "# 二维array\n",
    "r = np.arange(36).reshape((6, 6))\n",
    "print('r: \\n', r)\n",
    "print('r[2, 2]: \\n', r[2, 2])\n",
    "print('r[3, 3:6]: \\n', r[3, 3:6])"
   ]
  },
  {
   "cell_type": "code",
   "execution_count": 46,
   "metadata": {},
   "outputs": [
    {
     "name": "stdout",
     "output_type": "stream",
     "text": [
      "[31 32 33 34 35]\n",
      "[[ 0  1  2  3  4  5]\n",
      " [ 6  7  8  9 10 11]\n",
      " [12 13 14 15 16 17]\n",
      " [18 19 20 21 22 23]\n",
      " [24 25 26 27 28 29]\n",
      " [30 30 30 30 30 30]]\n"
     ]
    }
   ],
   "source": [
    "# 过滤\n",
    "print(r[r > 30])\n",
    "\n",
    "# 将大于30的数赋值为30\n",
    "r[r > 30] = 30\n",
    "print(r)"
   ]
  },
  {
   "cell_type": "code",
   "execution_count": 48,
   "metadata": {},
   "outputs": [
    {
     "name": "stdout",
     "output_type": "stream",
     "text": [
      "[[ 0  1  2]\n",
      " [ 6  7  8]\n",
      " [12 13 14]]\n"
     ]
    }
   ],
   "source": [
    "# copy()操作\n",
    "r2 = r[:3, :3]\n",
    "print(r2)"
   ]
  },
  {
   "cell_type": "code",
   "execution_count": 49,
   "metadata": {},
   "outputs": [
    {
     "name": "stdout",
     "output_type": "stream",
     "text": [
      "[[ 0  0  0  3  4  5]\n",
      " [ 0  0  0  9 10 11]\n",
      " [ 0  0  0 15 16 17]\n",
      " [18 19 20 21 22 23]\n",
      " [24 25 26 27 28 29]\n",
      " [30 30 30 30 30 30]]\n"
     ]
    }
   ],
   "source": [
    "# 将r2内容设置为0\n",
    "r2[:] = 0\n",
    "\n",
    "# 查看r的内容\n",
    "print(r)"
   ]
  },
  {
   "cell_type": "code",
   "execution_count": 50,
   "metadata": {},
   "outputs": [
    {
     "name": "stdout",
     "output_type": "stream",
     "text": [
      "[[ 0  0  0  3  4  5]\n",
      " [ 0  0  0  9 10 11]\n",
      " [ 0  0  0 15 16 17]\n",
      " [18 19 20 21 22 23]\n",
      " [24 25 26 27 28 29]\n",
      " [30 30 30 30 30 30]]\n"
     ]
    }
   ],
   "source": [
    "r3 = r.copy()\n",
    "r3[:] = 0\n",
    "print(r)"
   ]
  },
  {
   "cell_type": "markdown",
   "metadata": {},
   "source": [
    "## 4. 遍历 Array"
   ]
  },
  {
   "cell_type": "code",
   "execution_count": 51,
   "metadata": {},
   "outputs": [
    {
     "name": "stdout",
     "output_type": "stream",
     "text": [
      "[[6 0 8]\n",
      " [6 2 9]\n",
      " [2 4 2]\n",
      " [7 4 6]]\n"
     ]
    }
   ],
   "source": [
    "t = np.random.randint(0, 10, (4, 3))\n",
    "print(t)"
   ]
  },
  {
   "cell_type": "code",
   "execution_count": 53,
   "metadata": {},
   "outputs": [
    {
     "name": "stdout",
     "output_type": "stream",
     "text": [
      "[6 0 8]\n",
      "[6 2 9]\n",
      "[2 4 2]\n",
      "[7 4 6]\n"
     ]
    }
   ],
   "source": [
    "for row in t:\n",
    "    print(row)"
   ]
  },
  {
   "cell_type": "code",
   "execution_count": 54,
   "metadata": {},
   "outputs": [
    {
     "name": "stdout",
     "output_type": "stream",
     "text": [
      "row 0 is [6 0 8]\n",
      "row 1 is [6 2 9]\n",
      "row 2 is [2 4 2]\n",
      "row 3 is [7 4 6]\n"
     ]
    }
   ],
   "source": [
    "# 使用enumerate()\n",
    "for i, row in enumerate(t):\n",
    "    print('row {} is {}'.format(i, row))"
   ]
  },
  {
   "cell_type": "code",
   "execution_count": 55,
   "metadata": {},
   "outputs": [
    {
     "name": "stdout",
     "output_type": "stream",
     "text": [
      "[[36  0 64]\n",
      " [36  4 81]\n",
      " [ 4 16  4]\n",
      " [49 16 36]]\n"
     ]
    }
   ],
   "source": [
    "t2 = t ** 2\n",
    "print(t2)"
   ]
  },
  {
   "cell_type": "code",
   "execution_count": 56,
   "metadata": {},
   "outputs": [
    {
     "name": "stdout",
     "output_type": "stream",
     "text": [
      "[6 0 8] + [36  0 64] = [42  0 72]\n",
      "[6 2 9] + [36  4 81] = [42  6 90]\n",
      "[2 4 2] + [ 4 16  4] = [ 6 20  6]\n",
      "[7 4 6] + [49 16 36] = [56 20 42]\n"
     ]
    }
   ],
   "source": [
    "# 使用zip对两个array进行遍历计算\n",
    "for i, j in zip(t, t2):\n",
    "    print('{} + {} = {}'.format(i, j, i + j))"
   ]
  },
  {
   "cell_type": "code",
   "execution_count": null,
   "metadata": {
    "collapsed": true
   },
   "outputs": [],
   "source": []
  }
 ],
 "metadata": {
  "kernelspec": {
   "display_name": "Python 3",
   "language": "python",
   "name": "python3"
  },
  "language_info": {
   "codemirror_mode": {
    "name": "ipython",
    "version": 3
   },
   "file_extension": ".py",
   "mimetype": "text/x-python",
   "name": "python",
   "nbconvert_exporter": "python",
   "pygments_lexer": "ipython3",
   "version": "3.6.3"
  }
 },
 "nbformat": 4,
 "nbformat_minor": 2
}
