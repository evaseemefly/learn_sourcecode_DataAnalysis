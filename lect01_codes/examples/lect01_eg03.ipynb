{
 "cells": [
  {
   "cell_type": "markdown",
   "metadata": {},
   "source": [
    "# Pandas简单数据分析"
   ]
  },
  {
   "cell_type": "markdown",
   "metadata": {},
   "source": [
    "## 1. 创建Series"
   ]
  },
  {
   "cell_type": "code",
   "execution_count": 3,
   "metadata": {},
   "outputs": [
    {
     "name": "stdout",
     "output_type": "stream",
     "text": [
      "<class 'pandas.core.series.Series'>\n",
      "0      中国\n",
      "1      美国\n",
      "2    澳大利亚\n",
      "dtype: object\n"
     ]
    }
   ],
   "source": [
    "import pandas as pd\n",
    "\n",
    "countries = ['中国', '美国', '澳大利亚']\n",
    "countries_s = pd.Series(countries)\n",
    "print(type(countries_s))\n",
    "print(countries_s)"
   ]
  },
  {
   "cell_type": "code",
   "execution_count": 4,
   "metadata": {},
   "outputs": [
    {
     "name": "stdout",
     "output_type": "stream",
     "text": [
      "0    4\n",
      "1    5\n",
      "2    6\n",
      "dtype: int64\n"
     ]
    }
   ],
   "source": [
    "numbers = [4, 5, 6]\n",
    "print(pd.Series(numbers))"
   ]
  },
  {
   "cell_type": "code",
   "execution_count": 9,
   "metadata": {},
   "outputs": [
    {
     "name": "stdout",
     "output_type": "stream",
     "text": [
      "AU    澳大利亚\n",
      "CH      中国\n",
      "US      美国\n",
      "dtype: object\n",
      "Index(['AU', 'CH', 'US'], dtype='object')\n"
     ]
    }
   ],
   "source": [
    "country_dicts = {'CH': '中国',\n",
    "                'US': '美国',\n",
    "                'AU': '澳大利亚'}\n",
    "\n",
    "country_dict_s = pd.Series(country_dicts)\n",
    "print(country_dict_s)\n",
    "print(country_dict_s.index)"
   ]
  },
  {
   "cell_type": "markdown",
   "metadata": {},
   "source": [
    "## 2. 处理缺失数据"
   ]
  },
  {
   "cell_type": "code",
   "execution_count": 5,
   "metadata": {},
   "outputs": [
    {
     "name": "stdout",
     "output_type": "stream",
     "text": [
      "0      中国\n",
      "1      美国\n",
      "2    澳大利亚\n",
      "3    None\n",
      "dtype: object\n"
     ]
    }
   ],
   "source": [
    "countries = ['中国', '美国', '澳大利亚', None]\n",
    "print(pd.Series(countries))"
   ]
  },
  {
   "cell_type": "code",
   "execution_count": 6,
   "metadata": {},
   "outputs": [
    {
     "name": "stdout",
     "output_type": "stream",
     "text": [
      "0    4.0\n",
      "1    5.0\n",
      "2    6.0\n",
      "3    NaN\n",
      "dtype: float64\n"
     ]
    }
   ],
   "source": [
    "numbers = [4, 5, 6, None]\n",
    "print(pd.Series(numbers))"
   ]
  },
  {
   "cell_type": "markdown",
   "metadata": {},
   "source": [
    "## 3. Series 索引"
   ]
  },
  {
   "cell_type": "code",
   "execution_count": 11,
   "metadata": {},
   "outputs": [
    {
     "name": "stdout",
     "output_type": "stream",
     "text": [
      "AU    澳大利亚\n",
      "CH      中国\n",
      "US      美国\n",
      "dtype: object\n"
     ]
    }
   ],
   "source": [
    "country_dicts = {'CH': '中国',\n",
    "                'US': '美国',\n",
    "                'AU': '澳大利亚'}\n",
    "\n",
    "country_dict_s = pd.Series(country_dicts)\n",
    "print(country_dict_s)"
   ]
  },
  {
   "cell_type": "code",
   "execution_count": 13,
   "metadata": {},
   "outputs": [
    {
     "name": "stdout",
     "output_type": "stream",
     "text": [
      "iloc: 中国\n",
      "loc: 美国\n",
      "[]: 美国\n"
     ]
    }
   ],
   "source": [
    "print('iloc:', country_dict_s.iloc[1])\n",
    "print('loc:', country_dict_s.loc['US'])\n",
    "print('[]:', country_dict_s['US'])"
   ]
  },
  {
   "cell_type": "code",
   "execution_count": 18,
   "metadata": {},
   "outputs": [
    {
     "name": "stdout",
     "output_type": "stream",
     "text": [
      "iloc:\n",
      " AU    澳大利亚\n",
      "US      美国\n",
      "dtype: object\n",
      "\n",
      "loc:\n",
      " US      美国\n",
      "AU    澳大利亚\n",
      "dtype: object\n"
     ]
    }
   ],
   "source": [
    "print('iloc:\\n', country_dict_s.iloc[[0, 2]])\n",
    "print()\n",
    "print('loc:\\n', country_dict_s.loc[['US', 'AU']])"
   ]
  },
  {
   "cell_type": "markdown",
   "metadata": {},
   "source": [
    "## 4.  向量化操作"
   ]
  },
  {
   "cell_type": "code",
   "execution_count": 20,
   "metadata": {},
   "outputs": [
    {
     "name": "stdout",
     "output_type": "stream",
     "text": [
      "0    198\n",
      "1    189\n",
      "2    502\n",
      "3    102\n",
      "4    526\n",
      "dtype: int32\n",
      "10000\n"
     ]
    }
   ],
   "source": [
    "import numpy as np\n",
    "\n",
    "s = pd.Series(np.random.randint(0, 1000, 10000))\n",
    "print(s.head())\n",
    "print(len(s))"
   ]
  },
  {
   "cell_type": "code",
   "execution_count": 21,
   "metadata": {},
   "outputs": [
    {
     "name": "stdout",
     "output_type": "stream",
     "text": [
      "100 loops, best of 3: 1.12 ms per loop\n"
     ]
    }
   ],
   "source": [
    "%%timeit -n 100\n",
    "total = 0\n",
    "for item in s:\n",
    "    total += item"
   ]
  },
  {
   "cell_type": "code",
   "execution_count": 22,
   "metadata": {},
   "outputs": [
    {
     "name": "stdout",
     "output_type": "stream",
     "text": [
      "100 loops, best of 3: 110 µs per loop\n"
     ]
    }
   ],
   "source": [
    "%%timeit -n 100\n",
    "total = np.sum(s)"
   ]
  },
  {
   "cell_type": "code",
   "execution_count": 33,
   "metadata": {},
   "outputs": [
    {
     "name": "stdout",
     "output_type": "stream",
     "text": [
      "10 loops, best of 3: 746 ms per loop\n"
     ]
    }
   ],
   "source": [
    "%%timeit -n 10\n",
    "s = pd.Series(np.random.randint(0, 1000, 10000))\n",
    "for label, value in s.iteritems():\n",
    "    s.loc[label] = value + 2"
   ]
  },
  {
   "cell_type": "code",
   "execution_count": 34,
   "metadata": {},
   "outputs": [
    {
     "name": "stdout",
     "output_type": "stream",
     "text": [
      "10 loops, best of 3: 313 µs per loop\n"
     ]
    }
   ],
   "source": [
    "%%timeit -n 10\n",
    "s = pd.Series(np.random.randint(0, 1000, 10000))\n",
    "s += 2"
   ]
  }
 ],
 "metadata": {
  "kernelspec": {
   "display_name": "Python 3",
   "language": "python",
   "name": "python3"
  },
  "language_info": {
   "codemirror_mode": {
    "name": "ipython",
    "version": 3
   },
   "file_extension": ".py",
   "mimetype": "text/x-python",
   "name": "python",
   "nbconvert_exporter": "python",
   "pygments_lexer": "ipython3",
   "version": "3.6.2"
  }
 },
 "nbformat": 4,
 "nbformat_minor": 2
}
