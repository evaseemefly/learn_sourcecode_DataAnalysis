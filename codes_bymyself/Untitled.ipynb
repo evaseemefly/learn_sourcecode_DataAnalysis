{
 "cells": [
  {
   "cell_type": "markdown",
   "metadata": {},
   "source": [
    "## 1、ndarray"
   ]
  },
  {
   "cell_type": "code",
   "execution_count": 2,
   "metadata": {
    "collapsed": false
   },
   "outputs": [
    {
     "name": "stdout",
     "output_type": "stream",
     "text": [
      "[ 6.   7.5  8.   0.   1. ]\n"
     ]
    },
    {
     "data": {
      "text/plain": [
       "(5,)"
      ]
     },
     "execution_count": 2,
     "metadata": {},
     "output_type": "execute_result"
    }
   ],
   "source": [
    "# 引入numpy\n",
    "import numpy as np\n",
    "#多维数组\n",
    "array1=[6,7.5,8,0,1]\n",
    "#通过array函数创建数组\n",
    "data1=np.array(array1)\n",
    "print(data1)\n",
    "data1.shape"
   ]
  },
  {
   "cell_type": "markdown",
   "metadata": {},
   "source": [
    "## 2嵌套序列\n"
   ]
  },
  {
   "cell_type": "code",
   "execution_count": 3,
   "metadata": {
    "collapsed": false,
    "scrolled": true
   },
   "outputs": [
    {
     "name": "stdout",
     "output_type": "stream",
     "text": [
      "[[1, 2, 3, 4], [5, 6, 7, 8, 9]]\n",
      "[list([1, 2, 3, 4]) list([5, 6, 7, 8, 9])]\n",
      "[list([1, 2, 3, 4]) list([5, 6, 7, 8, 9])]\n"
     ]
    },
    {
     "data": {
      "text/plain": [
       "array([list([1, 2, 3, 4]), list([5, 6, 7, 8, 9])], dtype=object)"
      ]
     },
     "execution_count": 3,
     "metadata": {},
     "output_type": "execute_result"
    }
   ],
   "source": [
    "array2=[[1,2,3,4],[5,6,7,8,9]]\n",
    "array21=[[1,2,3,4],[5,6,7,8]]\n",
    "print(array2)\n",
    "data2=np.array(array2)\n",
    "print(data2)\n",
    "print(np.array(array2))\n",
    "array2\n",
    "data2"
   ]
  },
  {
   "cell_type": "markdown",
   "metadata": {},
   "source": [
    "## 3 查看类型"
   ]
  },
  {
   "cell_type": "code",
   "execution_count": 4,
   "metadata": {
    "collapsed": false
   },
   "outputs": [
    {
     "data": {
      "text/plain": [
       "dtype('int64')"
      ]
     },
     "execution_count": 4,
     "metadata": {},
     "output_type": "execute_result"
    }
   ],
   "source": [
    "data2=[[1,2,3],[4,5,6]]\n",
    "arr2=np.array(data2)\n",
    "arr2\n",
    "arr2.dtype\n"
   ]
  },
  {
   "cell_type": "markdown",
   "metadata": {},
   "source": [
    "## 4 全0或全1数组"
   ]
  },
  {
   "cell_type": "code",
   "execution_count": 5,
   "metadata": {
    "collapsed": false
   },
   "outputs": [
    {
     "data": {
      "text/plain": [
       "array([[ 1.,  0.,  0.,  0.,  0.],\n",
       "       [ 0.,  1.,  0.,  0.,  0.],\n",
       "       [ 0.,  0.,  1.,  0.,  0.],\n",
       "       [ 0.,  0.,  0.,  1.,  0.],\n",
       "       [ 0.,  0.,  0.,  0.,  1.]])"
      ]
     },
     "execution_count": 5,
     "metadata": {},
     "output_type": "execute_result"
    }
   ],
   "source": [
    "# 全0数组\n",
    "np.zeros(10)\n",
    "#\n",
    "np.empty((2,3,2))\n",
    "#对角线为1\n",
    "# 的5*5方阵\n",
    "np.eye(5)"
   ]
  },
  {
   "cell_type": "markdown",
   "metadata": {},
   "source": [
    "## 5 range 生成数组"
   ]
  },
  {
   "cell_type": "code",
   "execution_count": 6,
   "metadata": {
    "collapsed": false
   },
   "outputs": [
    {
     "data": {
      "text/plain": [
       "array([ 0,  1,  2,  3,  4,  5,  6,  7,  8,  9, 10, 11, 12, 13, 14])"
      ]
     },
     "execution_count": 6,
     "metadata": {},
     "output_type": "execute_result"
    }
   ],
   "source": [
    "np.arange(15)"
   ]
  },
  {
   "cell_type": "markdown",
   "metadata": {},
   "source": [
    "### 5.1 ndarray的数据类型与显示转换"
   ]
  },
  {
   "cell_type": "code",
   "execution_count": 7,
   "metadata": {
    "collapsed": false
   },
   "outputs": [
    {
     "name": "stdout",
     "output_type": "stream",
     "text": [
      "[ 1.  2.  3.]\n",
      "[1 2 3]\n"
     ]
    }
   ],
   "source": [
    "#转为浮点类型\n",
    "arr1=np.array([1,2,3],dtype=np.float64)\n",
    "print(arr1)\n",
    "arr1.dtype\n",
    "#显示类型转换\n",
    "arr2=arr1.astype(np.int32)\n",
    "print(arr2)"
   ]
  },
  {
   "cell_type": "markdown",
   "metadata": {},
   "source": [
    "## 6 数组和标量之间的运算"
   ]
  },
  {
   "cell_type": "code",
   "execution_count": 8,
   "metadata": {
    "collapsed": false
   },
   "outputs": [
    {
     "name": "stdout",
     "output_type": "stream",
     "text": [
      "[[1 2 3]\n",
      " [4 5 6]]\n"
     ]
    },
    {
     "data": {
      "text/plain": [
       "array([[3, 4, 5],\n",
       "       [6, 7, 8]])"
      ]
     },
     "execution_count": 8,
     "metadata": {},
     "output_type": "execute_result"
    }
   ],
   "source": [
    "arr=np.array([[1,2,3,],[4,5,6]])\n",
    "print(arr)\n",
    "arr\n",
    "\n",
    "# 自相乘\n",
    "arr*arr\n",
    "#每个位置上加2\n",
    "arr+2"
   ]
  },
  {
   "cell_type": "markdown",
   "metadata": {},
   "source": [
    "## 7 基本的索引和切片"
   ]
  },
  {
   "cell_type": "markdown",
   "metadata": {},
   "source": [
    "### 7.1 切片索引是浅拷贝"
   ]
  },
  {
   "cell_type": "code",
   "execution_count": 9,
   "metadata": {
    "collapsed": false
   },
   "outputs": [
    {
     "name": "stdout",
     "output_type": "stream",
     "text": [
      "[ 0  1  2  3  4  5  6  7  8  9 10 11 12 13 14]\n",
      "[  0   1   2 100 101   5   6   7   8   9  10  11  12  13  14]\n"
     ]
    }
   ],
   "source": [
    "arr=np.arange(15)\n",
    "\n",
    "print(arr)\n",
    "# 索引从0开始计数\n",
    "arr[3]\n",
    "# 切片\n",
    "# 参数1：起始位置下标\n",
    "# 参数2：终止位置下标-1\n",
    "# 数组切片是原始数组的视图\n",
    "arr[3:5]=[100,101]\n",
    "print(arr)"
   ]
  },
  {
   "cell_type": "code",
   "execution_count": 10,
   "metadata": {
    "collapsed": false
   },
   "outputs": [
    {
     "name": "stdout",
     "output_type": "stream",
     "text": [
      "new arr [300   6   7]\n",
      "arr[  0   1   2 100 101   5   6   7   8   9  10  11  12  13  14]\n"
     ]
    }
   ],
   "source": [
    "# 对数组进行副本复制\n",
    "new_arr=arr[5:8].copy()\n",
    "# 修改副本的值对原来的数组没有影响\n",
    "new_arr[0]=300\n",
    "print(\"new arr %s\"%new_arr)\n",
    "print(\"arr%s\"%arr)"
   ]
  },
  {
   "cell_type": "markdown",
   "metadata": {},
   "source": [
    "### 7.2 多维数组"
   ]
  },
  {
   "cell_type": "code",
   "execution_count": 11,
   "metadata": {
    "collapsed": false
   },
   "outputs": [
    {
     "data": {
      "text/plain": [
       "9"
      ]
     },
     "execution_count": 11,
     "metadata": {},
     "output_type": "execute_result"
    }
   ],
   "source": [
    "arr2d=np.array([[1,2,3],[4,5,6],[7,8,9]])\n",
    "# 取出索引为1的一行数据\n",
    "arr2d[1]\n",
    "# 取出二维数组中的某一个值\n",
    "# 两种表现方式哪种都可以\n",
    "arr2d[2,2]\n",
    "arr2d[2][2]"
   ]
  },
  {
   "cell_type": "markdown",
   "metadata": {},
   "source": [
    "#### (1)多维数组的切片索引"
   ]
  },
  {
   "cell_type": "code",
   "execution_count": 12,
   "metadata": {
    "collapsed": false
   },
   "outputs": [
    {
     "name": "stdout",
     "output_type": "stream",
     "text": [
      "[[1 2 3]\n",
      " [4 5 6]\n",
      " [7 8 9]]\n",
      "[4]\n"
     ]
    },
    {
     "data": {
      "text/plain": [
       "array([[1],\n",
       "       [4],\n",
       "       [7]])"
      ]
     },
     "execution_count": 12,
     "metadata": {},
     "output_type": "execute_result"
    }
   ],
   "source": [
    "print(arr2d)\n",
    "# 注意使用:x的方式x是下标减1的位置\n",
    "arr2d[:2]\n",
    "arr2d[:-2]\n",
    "arr2d[:2,1:]\n",
    "print(arr2d[1][:1])\n",
    "\n",
    "# 选取第一列数据\n",
    "arr2d[:,:1]"
   ]
  },
  {
   "cell_type": "markdown",
   "metadata": {},
   "source": [
    "## 8 布尔类型索引"
   ]
  },
  {
   "cell_type": "code",
   "execution_count": 16,
   "metadata": {
    "collapsed": false
   },
   "outputs": [
    {
     "name": "stdout",
     "output_type": "stream",
     "text": [
      "[ True False False False False False False]\n",
      "[[ 1.2495287  -0.5586979  -0.24350244  0.07343661]\n",
      " [ 0.27689439 -0.66899711 -0.73927312  1.27232275]\n",
      " [-0.20050184  0.7440356   0.26018324  0.3550456 ]\n",
      " [ 1.40784522 -0.81016947  1.4161346  -0.44246957]\n",
      " [ 1.10762722  0.00370697 -1.90826832  2.05424114]\n",
      " [-0.90306399 -0.34247181  0.4211133  -0.39464871]\n",
      " [ 1.89268415  0.30593561 -0.59913626 -0.58823382]]\n",
      "[[ 1.2495287   0.          0.          0.07343661]\n",
      " [ 0.27689439  0.          0.          1.27232275]\n",
      " [ 0.          0.7440356   0.26018324  0.3550456 ]\n",
      " [ 1.40784522  0.          1.4161346   0.        ]\n",
      " [ 1.10762722  0.00370697  0.          2.05424114]\n",
      " [ 0.          0.          0.4211133   0.        ]\n",
      " [ 1.89268415  0.30593561  0.          0.        ]]\n"
     ]
    }
   ],
   "source": [
    "names=np.array(['a1','b2','c3','d4','e5','f6','g7'])\n",
    "\n",
    "# 使用names=='a1'的方式获取布尔数组索引\n",
    "print(names=='a1')\n",
    "\n",
    "\n",
    "\n",
    "data=np.random.randn(7,4)\n",
    "print(data)\n",
    "\n",
    "# 获取第一行数据\n",
    "data[names=='a1']\n",
    "\n",
    "# 将所有的data的随机数中小于0的部分设置为0\n",
    "data[data<0]=0\n",
    "print(data)"
   ]
  },
  {
   "cell_type": "markdown",
   "metadata": {},
   "source": [
    "### 9 花式索引\n",
    "##### 花式索引指的是利用整数数组进行索引"
   ]
  },
  {
   "cell_type": "code",
   "execution_count": 21,
   "metadata": {
    "collapsed": false
   },
   "outputs": [
    {
     "name": "stdout",
     "output_type": "stream",
     "text": [
      "[[ 0.  0.  0.]\n",
      " [ 1.  1.  1.]\n",
      " [ 2.  2.  2.]\n",
      " [ 3.  3.  3.]\n",
      " [ 4.  4.  4.]\n",
      " [ 5.  5.  5.]\n",
      " [ 6.  6.  6.]\n",
      " [ 7.  7.  7.]]\n"
     ]
    }
   ],
   "source": [
    "arr=np.empty((8,3))\n",
    "for i in range(8):\n",
    "    arr[i]=i\n",
    "print(arr)\n"
   ]
  },
  {
   "cell_type": "code",
   "execution_count": 22,
   "metadata": {
    "collapsed": false
   },
   "outputs": [
    {
     "data": {
      "text/plain": [
       "array([[ 4.,  4.,  4.],\n",
       "       [ 5.,  5.,  5.],\n",
       "       [ 6.,  6.,  6.]])"
      ]
     },
     "execution_count": 22,
     "metadata": {},
     "output_type": "execute_result"
    }
   ],
   "source": [
    "#以特定顺序选取子集\n",
    "arr[[4,5,6]]"
   ]
  },
  {
   "cell_type": "code",
   "execution_count": 25,
   "metadata": {
    "collapsed": false
   },
   "outputs": [
    {
     "name": "stdout",
     "output_type": "stream",
     "text": [
      "[[ 0  1  2  3]\n",
      " [ 4  5  6  7]\n",
      " [ 8  9 10 11]\n",
      " [12 13 14 15]\n",
      " [16 17 18 19]\n",
      " [20 21 22 23]\n",
      " [24 25 26 27]\n",
      " [28 29 30 31]]\n"
     ]
    },
    {
     "ename": "ValueError",
     "evalue": "cannot reshape array of size 32 into shape (9,4)",
     "output_type": "error",
     "traceback": [
      "\u001b[0;31m---------------------------------------------------------------------------\u001b[0m",
      "\u001b[0;31mValueError\u001b[0m                                Traceback (most recent call last)",
      "\u001b[0;32m<ipython-input-25-93f54e8817b8>\u001b[0m in \u001b[0;36m<module>\u001b[0;34m()\u001b[0m\n\u001b[1;32m      3\u001b[0m \u001b[0mprint\u001b[0m\u001b[0;34m(\u001b[0m\u001b[0marr\u001b[0m\u001b[0;34m)\u001b[0m\u001b[0;34m\u001b[0m\u001b[0m\n\u001b[1;32m      4\u001b[0m \u001b[0;31m# 若转乘9行4列（会出错）\u001b[0m\u001b[0;34m\u001b[0m\u001b[0;34m\u001b[0m\u001b[0m\n\u001b[0;32m----> 5\u001b[0;31m \u001b[0marr\u001b[0m\u001b[0;34m.\u001b[0m\u001b[0mreshape\u001b[0m\u001b[0;34m(\u001b[0m\u001b[0;34m(\u001b[0m\u001b[0;36m9\u001b[0m\u001b[0;34m,\u001b[0m\u001b[0;36m4\u001b[0m\u001b[0;34m)\u001b[0m\u001b[0;34m)\u001b[0m\u001b[0;34m\u001b[0m\u001b[0m\n\u001b[0m\u001b[1;32m      6\u001b[0m \u001b[0mprint\u001b[0m\u001b[0;34m(\u001b[0m\u001b[0marr\u001b[0m\u001b[0;34m)\u001b[0m\u001b[0;34m\u001b[0m\u001b[0m\n",
      "\u001b[0;31mValueError\u001b[0m: cannot reshape array of size 32 into shape (9,4)"
     ]
    }
   ],
   "source": [
    "#32个顺序数，转乘8行4列\n",
    "arr=np.arange(32).reshape((8,4))\n",
    "print(arr)\n",
    "# 若转乘9行4列（会出错）\n",
    "#arr.reshape((9,4))\n",
    "#print(arr)"
   ]
  },
  {
   "cell_type": "code",
   "execution_count": 26,
   "metadata": {
    "collapsed": false
   },
   "outputs": [
    {
     "name": "stdout",
     "output_type": "stream",
     "text": [
      "[[ 0  4  8 12 16 20 24 28]\n",
      " [ 1  5  9 13 17 21 25 29]\n",
      " [ 2  6 10 14 18 22 26 30]\n",
      " [ 3  7 11 15 19 23 27 31]]\n"
     ]
    }
   ],
   "source": [
    "#转置\n",
    "print(arr.T)\n"
   ]
  },
  {
   "cell_type": "markdown",
   "metadata": {},
   "source": [
    "### 10 通用函数\n",
    "#### ufunc"
   ]
  },
  {
   "cell_type": "code",
   "execution_count": 28,
   "metadata": {
    "collapsed": false
   },
   "outputs": [
    {
     "name": "stdout",
     "output_type": "stream",
     "text": [
      "[0 1 2 3 4 5 6 7 8 9]\n"
     ]
    }
   ],
   "source": [
    "arr=np.arange(10)\n",
    "print(arr)"
   ]
  },
  {
   "cell_type": "code",
   "execution_count": 29,
   "metadata": {
    "collapsed": false
   },
   "outputs": [
    {
     "data": {
      "text/plain": [
       "array([ 0.        ,  1.        ,  1.41421356,  1.73205081,  2.        ,\n",
       "        2.23606798,  2.44948974,  2.64575131,  2.82842712,  3.        ])"
      ]
     },
     "execution_count": 29,
     "metadata": {},
     "output_type": "execute_result"
    }
   ],
   "source": [
    "np.sqrt(arr)"
   ]
  },
  {
   "cell_type": "code",
   "execution_count": 30,
   "metadata": {
    "collapsed": false
   },
   "outputs": [
    {
     "data": {
      "text/plain": [
       "array([  1.00000000e+00,   2.71828183e+00,   7.38905610e+00,\n",
       "         2.00855369e+01,   5.45981500e+01,   1.48413159e+02,\n",
       "         4.03428793e+02,   1.09663316e+03,   2.98095799e+03,\n",
       "         8.10308393e+03])"
      ]
     },
     "execution_count": 30,
     "metadata": {},
     "output_type": "execute_result"
    }
   ],
   "source": [
    "np.exp(arr)"
   ]
  },
  {
   "cell_type": "code",
   "execution_count": 35,
   "metadata": {
    "collapsed": false
   },
   "outputs": [
    {
     "name": "stdout",
     "output_type": "stream",
     "text": [
      "x:[-1.3705126   0.26281251  0.93348455 -0.59363533  0.00615934 -0.9908788\n",
      "  0.35374019  0.39730323]\n",
      "y:[ 0.86115412 -0.44751232 -0.09044676 -0.58363013 -0.96724871 -2.08148727\n",
      "  0.30665384 -0.70871145]\n"
     ]
    },
    {
     "data": {
      "text/plain": [
       "array([ 0.86115412,  0.26281251,  0.93348455, -0.58363013,  0.00615934,\n",
       "       -0.9908788 ,  0.35374019,  0.39730323])"
      ]
     },
     "execution_count": 35,
     "metadata": {},
     "output_type": "execute_result"
    }
   ],
   "source": [
    "x=np.random.randn(8)\n",
    "y=np.random.randn(8)\n",
    "print('x:%s'%x)\n",
    "print('y:%s'%y)\n",
    "# 取出两个数组中的每个位置的最大值\n",
    "np.maximum(x,y)"
   ]
  },
  {
   "cell_type": "code",
   "execution_count": 36,
   "metadata": {
    "collapsed": false
   },
   "outputs": [
    {
     "data": {
      "text/plain": [
       "array([-1.18852304,  1.27243103, -7.585722  ,  0.90024784,  1.44111485,\n",
       "       -7.85188686,  7.80093092])"
      ]
     },
     "execution_count": 36,
     "metadata": {},
     "output_type": "execute_result"
    }
   ],
   "source": [
    "arr=np.random.randn(7)*5\n",
    "arr"
   ]
  },
  {
   "cell_type": "code",
   "execution_count": 37,
   "metadata": {
    "collapsed": false
   },
   "outputs": [
    {
     "data": {
      "text/plain": [
       "(array([-0.18852304,  0.27243103, -0.585722  ,  0.90024784,  0.44111485,\n",
       "        -0.85188686,  0.80093092]), array([-1.,  1., -7.,  0.,  1., -7.,  7.]))"
      ]
     },
     "execution_count": 37,
     "metadata": {},
     "output_type": "execute_result"
    }
   ],
   "source": [
    "np.modf(arr)"
   ]
  },
  {
   "cell_type": "code",
   "execution_count": 39,
   "metadata": {
    "collapsed": false
   },
   "outputs": [
    {
     "data": {
      "text/plain": [
       "array([ 1.18852304,  1.27243103,  7.585722  ,  0.90024784,  1.44111485,\n",
       "        7.85188686,  7.80093092])"
      ]
     },
     "execution_count": 39,
     "metadata": {},
     "output_type": "execute_result"
    }
   ],
   "source": [
    "# 计算绝对值\n",
    "np.fabs(arr)"
   ]
  },
  {
   "cell_type": "markdown",
   "metadata": {},
   "source": [
    "### 11 利用数组进行数据处理\n",
    "#### 利用数组表达式替换循环的做饭，通常被称为矢量化\n",
    "矢量化数组运算效率较高"
   ]
  },
  {
   "cell_type": "code",
   "execution_count": 41,
   "metadata": {
    "collapsed": false
   },
   "outputs": [
    {
     "data": {
      "text/plain": [
       "array([ -5.00000000e+00,  -4.90000000e+00,  -4.80000000e+00,\n",
       "        -4.70000000e+00,  -4.60000000e+00,  -4.50000000e+00,\n",
       "        -4.40000000e+00,  -4.30000000e+00,  -4.20000000e+00,\n",
       "        -4.10000000e+00,  -4.00000000e+00,  -3.90000000e+00,\n",
       "        -3.80000000e+00,  -3.70000000e+00,  -3.60000000e+00,\n",
       "        -3.50000000e+00,  -3.40000000e+00,  -3.30000000e+00,\n",
       "        -3.20000000e+00,  -3.10000000e+00,  -3.00000000e+00,\n",
       "        -2.90000000e+00,  -2.80000000e+00,  -2.70000000e+00,\n",
       "        -2.60000000e+00,  -2.50000000e+00,  -2.40000000e+00,\n",
       "        -2.30000000e+00,  -2.20000000e+00,  -2.10000000e+00,\n",
       "        -2.00000000e+00,  -1.90000000e+00,  -1.80000000e+00,\n",
       "        -1.70000000e+00,  -1.60000000e+00,  -1.50000000e+00,\n",
       "        -1.40000000e+00,  -1.30000000e+00,  -1.20000000e+00,\n",
       "        -1.10000000e+00,  -1.00000000e+00,  -9.00000000e-01,\n",
       "        -8.00000000e-01,  -7.00000000e-01,  -6.00000000e-01,\n",
       "        -5.00000000e-01,  -4.00000000e-01,  -3.00000000e-01,\n",
       "        -2.00000000e-01,  -1.00000000e-01,  -1.77635684e-14,\n",
       "         1.00000000e-01,   2.00000000e-01,   3.00000000e-01,\n",
       "         4.00000000e-01,   5.00000000e-01,   6.00000000e-01,\n",
       "         7.00000000e-01,   8.00000000e-01,   9.00000000e-01,\n",
       "         1.00000000e+00,   1.10000000e+00,   1.20000000e+00,\n",
       "         1.30000000e+00,   1.40000000e+00,   1.50000000e+00,\n",
       "         1.60000000e+00,   1.70000000e+00,   1.80000000e+00,\n",
       "         1.90000000e+00,   2.00000000e+00,   2.10000000e+00,\n",
       "         2.20000000e+00,   2.30000000e+00,   2.40000000e+00,\n",
       "         2.50000000e+00,   2.60000000e+00,   2.70000000e+00,\n",
       "         2.80000000e+00,   2.90000000e+00,   3.00000000e+00,\n",
       "         3.10000000e+00,   3.20000000e+00,   3.30000000e+00,\n",
       "         3.40000000e+00,   3.50000000e+00,   3.60000000e+00,\n",
       "         3.70000000e+00,   3.80000000e+00,   3.90000000e+00,\n",
       "         4.00000000e+00,   4.10000000e+00,   4.20000000e+00,\n",
       "         4.30000000e+00,   4.40000000e+00,   4.50000000e+00,\n",
       "         4.60000000e+00,   4.70000000e+00,   4.80000000e+00,\n",
       "         4.90000000e+00])"
      ]
     },
     "execution_count": 41,
     "metadata": {},
     "output_type": "execute_result"
    }
   ],
   "source": [
    "points=np.arange(-5,5,0.1)\n",
    "points"
   ]
  },
  {
   "cell_type": "code",
   "execution_count": 43,
   "metadata": {
    "collapsed": false
   },
   "outputs": [
    {
     "data": {
      "text/plain": [
       "array([[-5. , -4.9, -4.8, ...,  4.7,  4.8,  4.9],\n",
       "       [-5. , -4.9, -4.8, ...,  4.7,  4.8,  4.9],\n",
       "       [-5. , -4.9, -4.8, ...,  4.7,  4.8,  4.9],\n",
       "       ..., \n",
       "       [-5. , -4.9, -4.8, ...,  4.7,  4.8,  4.9],\n",
       "       [-5. , -4.9, -4.8, ...,  4.7,  4.8,  4.9],\n",
       "       [-5. , -4.9, -4.8, ...,  4.7,  4.8,  4.9]])"
      ]
     },
     "execution_count": 43,
     "metadata": {},
     "output_type": "execute_result"
    }
   ],
   "source": [
    "xs,ys=np.meshgrid(points,points)\n",
    "xs"
   ]
  },
  {
   "cell_type": "code",
   "execution_count": 46,
   "metadata": {
    "collapsed": false
   },
   "outputs": [
    {
     "data": {
      "text/plain": [
       "Text(0.5,1,'sss')"
      ]
     },
     "execution_count": 46,
     "metadata": {},
     "output_type": "execute_result"
    }
   ],
   "source": [
    "import matplotlib.pyplot as plt\n",
    "z=np.sqrt(xs**2+ys**2)\n",
    "z\n",
    "plt.imshow(z,cmap=plt.cm.gray);plt.colorbar()\n",
    "plt.title(\"sss\")"
   ]
  },
  {
   "cell_type": "markdown",
   "metadata": {},
   "source": [
    "### 12 将条件逻辑表达为数组运算\n"
   ]
  },
  {
   "cell_type": "code",
   "execution_count": 47,
   "metadata": {
    "collapsed": false
   },
   "outputs": [
    {
     "data": {
      "text/plain": [
       "array([ 1.1,  2.2,  1.3,  1.4,  2.5])"
      ]
     },
     "execution_count": 47,
     "metadata": {},
     "output_type": "execute_result"
    }
   ],
   "source": [
    "x=np.array([1.1,1.2,1.3,1.4,1.5])\n",
    "y=np.array([2.1,2.2,2.3,2.4,2.5])\n",
    "cond=np.array([True,False,True,True,False])\n",
    "result=np.where(cond,x,y)\n",
    "result"
   ]
  },
  {
   "cell_type": "code",
   "execution_count": null,
   "metadata": {
    "collapsed": true
   },
   "outputs": [],
   "source": [
    "s"
   ]
  },
  {
   "cell_type": "code",
   "execution_count": null,
   "metadata": {
    "collapsed": true
   },
   "outputs": [],
   "source": []
  }
 ],
 "metadata": {
  "kernelspec": {
   "display_name": "Python 3",
   "language": "python",
   "name": "python3"
  },
  "language_info": {
   "codemirror_mode": {
    "name": "ipython",
    "version": 3
   },
   "file_extension": ".py",
   "mimetype": "text/x-python",
   "name": "python",
   "nbconvert_exporter": "python",
   "pygments_lexer": "ipython3",
   "version": "3.6.0"
  }
 },
 "nbformat": 4,
 "nbformat_minor": 2
}
