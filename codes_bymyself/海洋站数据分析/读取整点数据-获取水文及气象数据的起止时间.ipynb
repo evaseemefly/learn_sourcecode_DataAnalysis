{
 "cells": [
  {
   "cell_type": "code",
   "execution_count": 7,
   "metadata": {
    "collapsed": true
   },
   "outputs": [],
   "source": [
    "from pandas import Series,DataFrame\n",
    "import numpy as np\n",
    "import pandas as pd\n",
    "import datetime\n",
    "from dateutil.parser import parse"
   ]
  },
  {
   "cell_type": "code",
   "execution_count": 17,
   "metadata": {
    "collapsed": true
   },
   "outputs": [],
   "source": [
    "from datetime import timedelta"
   ]
  },
  {
   "cell_type": "code",
   "execution_count": 8,
   "metadata": {
    "collapsed": false
   },
   "outputs": [
    {
     "data": {
      "text/plain": [
       "datetime.datetime(2017, 11, 1, 0, 0)"
      ]
     },
     "execution_count": 8,
     "metadata": {},
     "output_type": "execute_result"
    }
   ],
   "source": [
    "start_datetime=datetime.datetime(2017,11,29,00)\n",
    "start_datetime=datetime.date(start_datetime.year,start_datetime.month,1)  \n",
    "start_datetime=parse(str(start_datetime))\n",
    "start_datetime"
   ]
  },
  {
   "cell_type": "markdown",
   "metadata": {},
   "source": [
    "#### 找到上个月的最后一天"
   ]
  },
  {
   "cell_type": "code",
   "execution_count": 21,
   "metadata": {
    "collapsed": false
   },
   "outputs": [],
   "source": [
    "#lastmonthendday_datetime=pd.date_range(start_datetime,periods=-1)[0]"
   ]
  },
  {
   "cell_type": "markdown",
   "metadata": {},
   "source": [
    "* 当月终止日"
   ]
  },
  {
   "cell_type": "code",
   "execution_count": 16,
   "metadata": {
    "collapsed": false
   },
   "outputs": [
    {
     "data": {
      "text/plain": [
       "DatetimeIndex(['2017-11-30'], dtype='datetime64[ns]', freq='M')"
      ]
     },
     "execution_count": 16,
     "metadata": {},
     "output_type": "execute_result"
    }
   ],
   "source": [
    "end_datetime=pd.date_range(start_datetime,periods=1,freq='M')\n",
    "end_datetime"
   ]
  },
  {
   "cell_type": "markdown",
   "metadata": {},
   "source": [
    "* 获取上个月的最后一天\n",
    "> 注意timedelta是时间差，时间差的默认单位是日"
   ]
  },
  {
   "cell_type": "code",
   "execution_count": 20,
   "metadata": {
    "collapsed": false
   },
   "outputs": [
    {
     "data": {
      "text/plain": [
       "datetime.datetime(2017, 10, 31, 0, 0)"
      ]
     },
     "execution_count": 20,
     "metadata": {},
     "output_type": "execute_result"
    }
   ],
   "source": [
    "end_datetime=start_datetime+timedelta(-1)\n",
    "end_datetime"
   ]
  },
  {
   "cell_type": "markdown",
   "metadata": {},
   "source": [
    "### 1 获取气象要素的当月的时间list"
   ]
  },
  {
   "cell_type": "markdown",
   "metadata": {},
   "source": [
    "> 当月的起止时间（精确到小时）"
   ]
  },
  {
   "cell_type": "code",
   "execution_count": 25,
   "metadata": {
    "collapsed": false
   },
   "outputs": [],
   "source": [
    "# 气象数据的该月的起始时间（上个月的最后一天的21点）\n",
    "monthstartday=datetime.datetime(start_datetime.year,start_datetime.month, 1,21,0)\n",
    "monthstartday=monthstartday+timedelta(-1)"
   ]
  },
  {
   "cell_type": "code",
   "execution_count": 26,
   "metadata": {
    "collapsed": false
   },
   "outputs": [
    {
     "data": {
      "text/plain": [
       "datetime.datetime(2017, 10, 31, 21, 0)"
      ]
     },
     "execution_count": 26,
     "metadata": {},
     "output_type": "execute_result"
    }
   ],
   "source": [
    "monthstartday"
   ]
  },
  {
   "cell_type": "code",
   "execution_count": 34,
   "metadata": {
    "collapsed": false
   },
   "outputs": [],
   "source": [
    "# 气象数据的该月的终止时间（本月的最后一天的20点）\n",
    "monthendday = pd.date_range(start_datetime, periods=1, freq='M')[0]\n",
    "monthendday = datetime.datetime(monthendday.year, monthendday.month, monthendday.day, 20, 00)            "
   ]
  },
  {
   "cell_type": "code",
   "execution_count": 35,
   "metadata": {
    "collapsed": false
   },
   "outputs": [
    {
     "data": {
      "text/plain": [
       "datetime.datetime(2017, 11, 30, 20, 0)"
      ]
     },
     "execution_count": 35,
     "metadata": {},
     "output_type": "execute_result"
    }
   ],
   "source": [
    "monthendday"
   ]
  },
  {
   "cell_type": "code",
   "execution_count": 37,
   "metadata": {
    "collapsed": false
   },
   "outputs": [
    {
     "data": {
      "text/plain": [
       "DatetimeIndex(['2017-10-31 21:00:00', '2017-10-31 22:00:00',\n",
       "               '2017-10-31 23:00:00', '2017-11-01 00:00:00',\n",
       "               '2017-11-01 01:00:00', '2017-11-01 02:00:00',\n",
       "               '2017-11-01 03:00:00', '2017-11-01 04:00:00',\n",
       "               '2017-11-01 05:00:00', '2017-11-01 06:00:00',\n",
       "               ...\n",
       "               '2017-11-30 11:00:00', '2017-11-30 12:00:00',\n",
       "               '2017-11-30 13:00:00', '2017-11-30 14:00:00',\n",
       "               '2017-11-30 15:00:00', '2017-11-30 16:00:00',\n",
       "               '2017-11-30 17:00:00', '2017-11-30 18:00:00',\n",
       "               '2017-11-30 19:00:00', '2017-11-30 20:00:00'],\n",
       "              dtype='datetime64[ns]', length=720, freq='H')"
      ]
     },
     "execution_count": 37,
     "metadata": {},
     "output_type": "execute_result"
    }
   ],
   "source": [
    " pd.date_range(monthstartday,monthendday, freq='H')"
   ]
  },
  {
   "cell_type": "code",
   "execution_count": null,
   "metadata": {
    "collapsed": true
   },
   "outputs": [],
   "source": []
  }
 ],
 "metadata": {
  "kernelspec": {
   "display_name": "Python 3",
   "language": "python",
   "name": "python3"
  },
  "language_info": {
   "codemirror_mode": {
    "name": "ipython",
    "version": 3
   },
   "file_extension": ".py",
   "mimetype": "text/x-python",
   "name": "python",
   "nbconvert_exporter": "python",
   "pygments_lexer": "ipython3",
   "version": "3.6.0"
  }
 },
 "nbformat": 4,
 "nbformat_minor": 2
}
