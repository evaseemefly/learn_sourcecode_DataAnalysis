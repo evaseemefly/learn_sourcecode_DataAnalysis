{
 "cells": [
  {
   "cell_type": "markdown",
   "metadata": {},
   "source": [
    "## 1、ndarray"
   ]
  },
  {
   "cell_type": "code",
   "execution_count": 14,
   "metadata": {},
   "outputs": [
    {
     "name": "stdout",
     "output_type": "stream",
     "text": [
      "[ 6.   7.5  8.   0.   1. ]\n"
     ]
    },
    {
     "data": {
      "text/plain": [
       "(5,)"
      ]
     },
     "execution_count": 14,
     "metadata": {},
     "output_type": "execute_result"
    }
   ],
   "source": [
    "# 引入numpy\n",
    "import numpy as np\n",
    "#多维数组\n",
    "array1=[6,7.5,8,0,1]\n",
    "#通过array函数创建数组\n",
    "data1=np.array(array1)\n",
    "print(data1)\n",
    "data1.shape"
   ]
  },
  {
   "cell_type": "markdown",
   "metadata": {},
   "source": [
    "## 2嵌套序列\n"
   ]
  },
  {
   "cell_type": "code",
   "execution_count": 15,
   "metadata": {
    "scrolled": true
   },
   "outputs": [
    {
     "name": "stdout",
     "output_type": "stream",
     "text": [
      "[[1, 2, 3, 4], [5, 6, 7, 8, 9]]\n",
      "[list([1, 2, 3, 4]) list([5, 6, 7, 8, 9])]\n",
      "[list([1, 2, 3, 4]) list([5, 6, 7, 8, 9])]\n"
     ]
    },
    {
     "data": {
      "text/plain": [
       "array([list([1, 2, 3, 4]), list([5, 6, 7, 8, 9])], dtype=object)"
      ]
     },
     "execution_count": 15,
     "metadata": {},
     "output_type": "execute_result"
    }
   ],
   "source": [
    "array2=[[1,2,3,4],[5,6,7,8,9]]\n",
    "array21=[[1,2,3,4],[5,6,7,8]]\n",
    "print(array2)\n",
    "data2=np.array(array2)\n",
    "print(data2)\n",
    "print(np.array(array2))\n",
    "array2\n",
    "data2"
   ]
  },
  {
   "cell_type": "markdown",
   "metadata": {},
   "source": [
    "## 3 查看类型"
   ]
  },
  {
   "cell_type": "code",
   "execution_count": 22,
   "metadata": {},
   "outputs": [
    {
     "data": {
      "text/plain": [
       "dtype('int32')"
      ]
     },
     "execution_count": 22,
     "metadata": {},
     "output_type": "execute_result"
    }
   ],
   "source": [
    "data2=[[1,2,3],[4,5,6]]\n",
    "arr2=np.array(data2)\n",
    "arr2\n",
    "arr2.dtype\n"
   ]
  },
  {
   "cell_type": "markdown",
   "metadata": {},
   "source": [
    "## 4 全0或全1数组"
   ]
  },
  {
   "cell_type": "code",
   "execution_count": 28,
   "metadata": {},
   "outputs": [
    {
     "data": {
      "text/plain": [
       "array([[ 1.,  0.,  0.,  0.,  0.],\n",
       "       [ 0.,  1.,  0.,  0.,  0.],\n",
       "       [ 0.,  0.,  1.,  0.,  0.],\n",
       "       [ 0.,  0.,  0.,  1.,  0.],\n",
       "       [ 0.,  0.,  0.,  0.,  1.]])"
      ]
     },
     "execution_count": 28,
     "metadata": {},
     "output_type": "execute_result"
    }
   ],
   "source": [
    "# 全0数组\n",
    "np.zeros(10)\n",
    "#\n",
    "np.empty((2,3,2))\n",
    "#对角线为1\n",
    "# 的5*5方阵\n",
    "np.eye(5)"
   ]
  },
  {
   "cell_type": "markdown",
   "metadata": {},
   "source": [
    "## 5 range 生成数组"
   ]
  },
  {
   "cell_type": "code",
   "execution_count": 27,
   "metadata": {},
   "outputs": [
    {
     "data": {
      "text/plain": [
       "array([ 0,  1,  2,  3,  4,  5,  6,  7,  8,  9, 10, 11, 12, 13, 14])"
      ]
     },
     "execution_count": 27,
     "metadata": {},
     "output_type": "execute_result"
    }
   ],
   "source": [
    "np.arange(15)"
   ]
  },
  {
   "cell_type": "markdown",
   "metadata": {},
   "source": [
    "### 5.1 ndarray的数据类型与显示转换"
   ]
  },
  {
   "cell_type": "code",
   "execution_count": 35,
   "metadata": {},
   "outputs": [
    {
     "name": "stdout",
     "output_type": "stream",
     "text": [
      "[ 1.  2.  3.]\n",
      "[1 2 3]\n"
     ]
    }
   ],
   "source": [
    "#转为浮点类型\n",
    "arr1=np.array([1,2,3],dtype=np.float64)\n",
    "print(arr1)\n",
    "arr1.dtype\n",
    "#显示类型转换\n",
    "arr2=arr1.astype(np.int32)\n",
    "print(arr2)"
   ]
  },
  {
   "cell_type": "markdown",
   "metadata": {},
   "source": [
    "## 6 数组和标量之间的运算"
   ]
  },
  {
   "cell_type": "code",
   "execution_count": 40,
   "metadata": {},
   "outputs": [
    {
     "name": "stdout",
     "output_type": "stream",
     "text": [
      "[[1 2 3]\n",
      " [4 5 6]]\n"
     ]
    },
    {
     "data": {
      "text/plain": [
       "array([[3, 4, 5],\n",
       "       [6, 7, 8]])"
      ]
     },
     "execution_count": 40,
     "metadata": {},
     "output_type": "execute_result"
    }
   ],
   "source": [
    "arr=np.array([[1,2,3,],[4,5,6]])\n",
    "print(arr)\n",
    "arr\n",
    "\n",
    "# 自相乘\n",
    "arr*arr\n",
    "#每个位置上加2\n",
    "arr+2"
   ]
  },
  {
   "cell_type": "markdown",
   "metadata": {},
   "source": [
    "## 7 基本的索引和切片"
   ]
  },
  {
   "cell_type": "markdown",
   "metadata": {},
   "source": [
    "### 7.1 切片索引是浅拷贝"
   ]
  },
  {
   "cell_type": "code",
   "execution_count": 47,
   "metadata": {},
   "outputs": [
    {
     "name": "stdout",
     "output_type": "stream",
     "text": [
      "[ 0  1  2  3  4  5  6  7  8  9 10 11 12 13 14]\n",
      "[  0   1   2 100 101   5   6   7   8   9  10  11  12  13  14]\n"
     ]
    }
   ],
   "source": [
    "arr=np.arange(15)\n",
    "\n",
    "print(arr)\n",
    "# 索引从0开始计数\n",
    "arr[3]\n",
    "# 切片\n",
    "# 参数1：起始位置下标\n",
    "# 参数2：终止位置下标-1\n",
    "# 数组切片是原始数组的视图\n",
    "arr[3:5]=[100,101]\n",
    "print(arr)"
   ]
  },
  {
   "cell_type": "code",
   "execution_count": 50,
   "metadata": {},
   "outputs": [
    {
     "name": "stdout",
     "output_type": "stream",
     "text": [
      "new arr [300   6   7]\n",
      "arr[  0   1   2 100 101   5   6   7   8   9  10  11  12  13  14]\n"
     ]
    }
   ],
   "source": [
    "# 对数组进行副本复制\n",
    "new_arr=arr[5:8].copy()\n",
    "# 修改副本的值对原来的数组没有影响\n",
    "new_arr[0]=300\n",
    "print(\"new arr %s\"%new_arr)\n",
    "print(\"arr%s\"%arr)"
   ]
  },
  {
   "cell_type": "markdown",
   "metadata": {},
   "source": [
    "### 7.2 多维数组"
   ]
  },
  {
   "cell_type": "code",
   "execution_count": 54,
   "metadata": {},
   "outputs": [
    {
     "data": {
      "text/plain": [
       "9"
      ]
     },
     "execution_count": 54,
     "metadata": {},
     "output_type": "execute_result"
    }
   ],
   "source": [
    "arr2d=np.array([[1,2,3],[4,5,6],[7,8,9]])\n",
    "# 取出索引为1的一行数据\n",
    "arr2d[1]\n",
    "# 取出二维数组中的某一个值\n",
    "# 两种表现方式哪种都可以\n",
    "arr2d[2,2]\n",
    "arr2d[2][2]"
   ]
  },
  {
   "cell_type": "markdown",
   "metadata": {},
   "source": [
    "#### (1)多维数组的切片索引"
   ]
  },
  {
   "cell_type": "code",
   "execution_count": 62,
   "metadata": {},
   "outputs": [
    {
     "name": "stdout",
     "output_type": "stream",
     "text": [
      "[[1 2 3]\n",
      " [4 5 6]\n",
      " [7 8 9]]\n",
      "[4]\n"
     ]
    },
    {
     "data": {
      "text/plain": [
       "array([[1],\n",
       "       [4],\n",
       "       [7]])"
      ]
     },
     "execution_count": 62,
     "metadata": {},
     "output_type": "execute_result"
    }
   ],
   "source": [
    "print(arr2d)\n",
    "# 注意使用:x的方式x是下标减1的位置\n",
    "arr2d[:2]\n",
    "arr2d[:-2]\n",
    "arr2d[:2,1:]\n",
    "print(arr2d[1][:1])\n",
    "\n",
    "# 选取第一列数据\n",
    "arr2d[:,:1]"
   ]
  },
  {
   "cell_type": "markdown",
   "metadata": {},
   "source": [
    "## 8 布尔类型索引"
   ]
  },
  {
   "cell_type": "code",
   "execution_count": 67,
   "metadata": {},
   "outputs": [
    {
     "name": "stdout",
     "output_type": "stream",
     "text": [
      "[[ 0.80435353 -1.10685336 -0.12452156  1.53407249]\n",
      " [-0.36458122 -0.73551516  0.2246557   0.73157827]\n",
      " [ 0.38313507  0.23936579  0.61708846  0.43514976]\n",
      " [ 1.2167821   2.29814979  0.33238843  0.88219711]\n",
      " [ 0.26060688 -0.7538822  -0.51636376  1.01926849]\n",
      " [ 0.87633345  0.54792549  0.45666567  0.3203654 ]\n",
      " [-0.969305   -0.53440768 -0.3789073  -1.32473732]]\n",
      "[ True False False False False False False]\n"
     ]
    },
    {
     "data": {
      "text/plain": [
       "array([[ 0.80435353, -1.10685336, -0.12452156,  1.53407249]])"
      ]
     },
     "execution_count": 67,
     "metadata": {},
     "output_type": "execute_result"
    }
   ],
   "source": [
    "names=np.array(['a1','b2','c3','d4','e5','f6','g7'])\n",
    "data=np.random.randn(7,4)\n",
    "print(data)\n",
    "print(names=='a1')\n",
    "data[names=='a1']"
   ]
  }
 ],
 "metadata": {
  "kernelspec": {
   "display_name": "Python 3",
   "language": "python",
   "name": "python3"
  },
  "language_info": {
   "codemirror_mode": {
    "name": "ipython",
    "version": 3
   },
   "file_extension": ".py",
   "mimetype": "text/x-python",
   "name": "python",
   "nbconvert_exporter": "python",
   "pygments_lexer": "ipython3",
   "version": "3.6.2"
  }
 },
 "nbformat": 4,
 "nbformat_minor": 2
}
