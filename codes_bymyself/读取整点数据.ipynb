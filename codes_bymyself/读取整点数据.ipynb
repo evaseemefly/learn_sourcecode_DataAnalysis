{
 "cells": [
  {
   "cell_type": "code",
   "execution_count": 63,
   "metadata": {
    "collapsed": true
   },
   "outputs": [],
   "source": [
    "from pandas import Series,DataFrame\n",
    "import numpy as np\n",
    "import pandas as pd"
   ]
  },
  {
   "cell_type": "code",
   "execution_count": 137,
   "metadata": {},
   "outputs": [
    {
     "data": {
      "text/html": [
       "<div>\n",
       "<style>\n",
       "    .dataframe thead tr:only-child th {\n",
       "        text-align: right;\n",
       "    }\n",
       "\n",
       "    .dataframe thead th {\n",
       "        text-align: left;\n",
       "    }\n",
       "\n",
       "    .dataframe tbody tr th {\n",
       "        vertical-align: top;\n",
       "    }\n",
       "</style>\n",
       "<table border=\"1\" class=\"dataframe\">\n",
       "  <thead>\n",
       "    <tr style=\"text-align: right;\">\n",
       "      <th></th>\n",
       "      <th>0</th>\n",
       "      <th>1</th>\n",
       "      <th>2</th>\n",
       "      <th>3</th>\n",
       "      <th>4</th>\n",
       "      <th>5</th>\n",
       "      <th>6</th>\n",
       "      <th>7</th>\n",
       "      <th>8</th>\n",
       "      <th>9</th>\n",
       "      <th>...</th>\n",
       "      <th>17</th>\n",
       "      <th>18</th>\n",
       "      <th>19</th>\n",
       "      <th>20</th>\n",
       "      <th>21</th>\n",
       "      <th>22</th>\n",
       "      <th>23</th>\n",
       "      <th>24</th>\n",
       "      <th>25</th>\n",
       "      <th>26</th>\n",
       "    </tr>\n",
       "  </thead>\n",
       "  <tbody>\n",
       "    <tr>\n",
       "      <th>0</th>\n",
       "      <td>20171129</td>\n",
       "      <td>1014.1</td>\n",
       "      <td>1014.2</td>\n",
       "      <td>1013.8</td>\n",
       "      <td>1013.9</td>\n",
       "      <td>1013.9</td>\n",
       "      <td>1013.5</td>\n",
       "      <td>1013.4</td>\n",
       "      <td>1013.8</td>\n",
       "      <td>1013.7</td>\n",
       "      <td>...</td>\n",
       "      <td>1014.0</td>\n",
       "      <td>1013.5</td>\n",
       "      <td>9999.8</td>\n",
       "      <td>9999.8</td>\n",
       "      <td>9999.8</td>\n",
       "      <td>9999.8</td>\n",
       "      <td>9999.8</td>\n",
       "      <td>9999.8</td>\n",
       "      <td>1015.6</td>\n",
       "      <td>1013.2</td>\n",
       "    </tr>\n",
       "  </tbody>\n",
       "</table>\n",
       "<p>1 rows × 27 columns</p>\n",
       "</div>"
      ],
      "text/plain": [
       "         0       1       2       3       4       5       6       7       8   \\\n",
       "0  20171129  1014.1  1014.2  1013.8  1013.9  1013.9  1013.5  1013.4  1013.8   \n",
       "\n",
       "       9    ...        17      18      19      20      21      22      23  \\\n",
       "0  1013.7   ...    1014.0  1013.5  9999.8  9999.8  9999.8  9999.8  9999.8   \n",
       "\n",
       "       24      25      26  \n",
       "0  9999.8  1015.6  1013.2  \n",
       "\n",
       "[1 rows x 27 columns]"
      ]
     },
     "execution_count": 137,
     "metadata": {},
     "output_type": "execute_result"
    }
   ],
   "source": [
    "#设置没有header\n",
    "result= pd.read_table('data/test.07422',sep='\\s+',header=None)\n",
    "result\n",
    "#result= pd.read_table('data/SQ201703060300.07422',sep='\\s+')"
   ]
  },
  {
   "cell_type": "markdown",
   "metadata": {
    "collapsed": true
   },
   "source": [
    "### 1 添加一个header\n",
    "#### 总共27列，第一列为日期，最后两列为当日最大值与当日最小值"
   ]
  },
  {
   "cell_type": "code",
   "execution_count": 110,
   "metadata": {},
   "outputs": [],
   "source": [
    "#arr_temp=np.empty(27)\n",
    "#arr_temp[0]='date'\n",
    "arr_temp=np.arange(24).tolist()\n",
    "arr_str=np.arange(24).astype(str).tolist()\n",
    "#print(arr_temp1)\n",
    "#.tolist()\n",
    "#arr_str=[str(i) for i in arr_temp]\n",
    "#arr_str"
   ]
  },
  {
   "cell_type": "code",
   "execution_count": 66,
   "metadata": {},
   "outputs": [
    {
     "name": "stdout",
     "output_type": "stream",
     "text": [
      "['date', '0', '1', '2', '3', '4', '5', '6', '7', '8', '9', '10', '11', '12', '13', '14', '15', '16', '17', '18', '19', '20', '21', '22', '23', 'max', 'min']\n"
     ]
    }
   ],
   "source": [
    "#arr_final=['date']\n",
    "#arr_final.insert(1,arr_temp)\n",
    "\n",
    "# python中向list中的指定位置插入数据使用insert\n",
    "# python向list的末尾追加使用append\n",
    "# 可使用extend向一个list追加一个list\n",
    "arr_str.insert(0,'date')\n",
    "arr_str.append('max')\n",
    "arr_str.append('min')\n",
    "print(arr_str)"
   ]
  },
  {
   "cell_type": "markdown",
   "metadata": {},
   "source": [
    "### 2 指定names——列索引的名字\n",
    "#### 2.1所有的水文要素都是从00-23点的数据\n",
    "#### 常规格式的水文要素有：wt和sl"
   ]
  },
  {
   "cell_type": "code",
   "execution_count": 116,
   "metadata": {},
   "outputs": [
    {
     "name": "stdout",
     "output_type": "stream",
     "text": [
      "['0', '1', '2', '3', '4', '5', '6', '7', '8', '9', '10', '11', '12', '13', '14', '15', '16', '17', '18', '19', '20', '21', '22', '23']\n"
     ]
    },
    {
     "data": {
      "text/html": [
       "<div>\n",
       "<style>\n",
       "    .dataframe thead tr:only-child th {\n",
       "        text-align: right;\n",
       "    }\n",
       "\n",
       "    .dataframe thead th {\n",
       "        text-align: left;\n",
       "    }\n",
       "\n",
       "    .dataframe tbody tr th {\n",
       "        vertical-align: top;\n",
       "    }\n",
       "</style>\n",
       "<table border=\"1\" class=\"dataframe\">\n",
       "  <thead>\n",
       "    <tr style=\"text-align: right;\">\n",
       "      <th></th>\n",
       "      <th></th>\n",
       "      <th></th>\n",
       "      <th>0</th>\n",
       "      <th>1</th>\n",
       "      <th>2</th>\n",
       "      <th>3</th>\n",
       "      <th>4</th>\n",
       "      <th>5</th>\n",
       "      <th>6</th>\n",
       "      <th>7</th>\n",
       "      <th>8</th>\n",
       "      <th>9</th>\n",
       "      <th>...</th>\n",
       "      <th>14</th>\n",
       "      <th>15</th>\n",
       "      <th>16</th>\n",
       "      <th>17</th>\n",
       "      <th>18</th>\n",
       "      <th>19</th>\n",
       "      <th>20</th>\n",
       "      <th>21</th>\n",
       "      <th>22</th>\n",
       "      <th>23</th>\n",
       "    </tr>\n",
       "  </thead>\n",
       "  <tbody>\n",
       "    <tr>\n",
       "      <th>20171129</th>\n",
       "      <th>17.0</th>\n",
       "      <th>17.0</th>\n",
       "      <td>16.9</td>\n",
       "      <td>16.9</td>\n",
       "      <td>16.9</td>\n",
       "      <td>16.9</td>\n",
       "      <td>16.9</td>\n",
       "      <td>16.8</td>\n",
       "      <td>16.8</td>\n",
       "      <td>16.8</td>\n",
       "      <td>16.8</td>\n",
       "      <td>16.8</td>\n",
       "      <td>...</td>\n",
       "      <td>999.8</td>\n",
       "      <td>999.8</td>\n",
       "      <td>999.8</td>\n",
       "      <td>999.8</td>\n",
       "      <td>999.8</td>\n",
       "      <td>999.8</td>\n",
       "      <td>999.8</td>\n",
       "      <td>999.8</td>\n",
       "      <td>17.0</td>\n",
       "      <td>16.7</td>\n",
       "    </tr>\n",
       "  </tbody>\n",
       "</table>\n",
       "<p>1 rows × 24 columns</p>\n",
       "</div>"
      ],
      "text/plain": [
       "                       0     1     2     3     4     5     6     7     8  \\\n",
       "20171129 17.0 17.0  16.9  16.9  16.9  16.9  16.9  16.8  16.8  16.8  16.8   \n",
       "\n",
       "                       9  ...      14     15     16     17     18     19  \\\n",
       "20171129 17.0 17.0  16.8  ...   999.8  999.8  999.8  999.8  999.8  999.8   \n",
       "\n",
       "                       20     21    22    23  \n",
       "20171129 17.0 17.0  999.8  999.8  17.0  16.7  \n",
       "\n",
       "[1 rows x 24 columns]"
      ]
     },
     "execution_count": 116,
     "metadata": {},
     "output_type": "execute_result"
    }
   ],
   "source": [
    "#arr_str.insert(0,'date')\n",
    "#arr_str.append('max')\n",
    "#arr_str.append('min')\n",
    "#print(arr_str)\n",
    "print(arr_str)\n",
    "#result= pd.read_table('data/test.07422',sep='\\s+',header=arr_str)\n",
    "result_wt= pd.read_table('data/wt1129.07422',sep='\\s+',names=arr_str)\n",
    "result_wt"
   ]
  },
  {
   "cell_type": "code",
   "execution_count": 117,
   "metadata": {},
   "outputs": [
    {
     "data": {
      "text/html": [
       "<div>\n",
       "<style>\n",
       "    .dataframe thead tr:only-child th {\n",
       "        text-align: right;\n",
       "    }\n",
       "\n",
       "    .dataframe thead th {\n",
       "        text-align: left;\n",
       "    }\n",
       "\n",
       "    .dataframe tbody tr th {\n",
       "        vertical-align: top;\n",
       "    }\n",
       "</style>\n",
       "<table border=\"1\" class=\"dataframe\">\n",
       "  <thead>\n",
       "    <tr style=\"text-align: right;\">\n",
       "      <th></th>\n",
       "      <th></th>\n",
       "      <th></th>\n",
       "      <th>0</th>\n",
       "      <th>1</th>\n",
       "      <th>2</th>\n",
       "      <th>3</th>\n",
       "      <th>4</th>\n",
       "      <th>5</th>\n",
       "      <th>6</th>\n",
       "      <th>7</th>\n",
       "      <th>8</th>\n",
       "      <th>9</th>\n",
       "      <th>...</th>\n",
       "      <th>14</th>\n",
       "      <th>15</th>\n",
       "      <th>16</th>\n",
       "      <th>17</th>\n",
       "      <th>18</th>\n",
       "      <th>19</th>\n",
       "      <th>20</th>\n",
       "      <th>21</th>\n",
       "      <th>22</th>\n",
       "      <th>23</th>\n",
       "    </tr>\n",
       "  </thead>\n",
       "  <tbody>\n",
       "    <tr>\n",
       "      <th>20171129</th>\n",
       "      <th>27.5</th>\n",
       "      <th>27.5</th>\n",
       "      <td>27.4</td>\n",
       "      <td>27.4</td>\n",
       "      <td>27.4</td>\n",
       "      <td>27.4</td>\n",
       "      <td>27.3</td>\n",
       "      <td>27.2</td>\n",
       "      <td>27.2</td>\n",
       "      <td>27.2</td>\n",
       "      <td>27.2</td>\n",
       "      <td>27.3</td>\n",
       "      <td>...</td>\n",
       "      <td>99.998</td>\n",
       "      <td>99.998</td>\n",
       "      <td>99.998</td>\n",
       "      <td>99.998</td>\n",
       "      <td>99.998</td>\n",
       "      <td>99.998</td>\n",
       "      <td>99.998</td>\n",
       "      <td>99.998</td>\n",
       "      <td>27.5</td>\n",
       "      <td>27.2</td>\n",
       "    </tr>\n",
       "  </tbody>\n",
       "</table>\n",
       "<p>1 rows × 24 columns</p>\n",
       "</div>"
      ],
      "text/plain": [
       "                       0     1     2     3     4     5     6     7     8  \\\n",
       "20171129 27.5 27.5  27.4  27.4  27.4  27.4  27.3  27.2  27.2  27.2  27.2   \n",
       "\n",
       "                       9  ...       14      15      16      17      18  \\\n",
       "20171129 27.5 27.5  27.3  ...   99.998  99.998  99.998  99.998  99.998   \n",
       "\n",
       "                        19      20      21    22    23  \n",
       "20171129 27.5 27.5  99.998  99.998  99.998  27.5  27.2  \n",
       "\n",
       "[1 rows x 24 columns]"
      ]
     },
     "execution_count": 117,
     "metadata": {},
     "output_type": "execute_result"
    }
   ],
   "source": [
    "pd.read_table('data/sl1129.07422',sep='\\s+',names=arr_str)"
   ]
  },
  {
   "cell_type": "markdown",
   "metadata": {
    "collapsed": true
   },
   "source": [
    "#### 2.2 所有的气象要素都是前一天21点-次日20点的数据\n",
    "#### 常规格式的气象要素有：at  bp rn vb hu"
   ]
  },
  {
   "cell_type": "code",
   "execution_count": 95,
   "metadata": {},
   "outputs": [
    {
     "data": {
      "text/plain": [
       "['21', '22', '23']"
      ]
     },
     "execution_count": 95,
     "metadata": {},
     "output_type": "execute_result"
    }
   ],
   "source": [
    "# 前一天的时间\n",
    "#datetime_yesterday=[str(i) for i in np.arange(21,24).astype(str)tolist()]\n",
    "datetime_yesterday=np.arange(21,24).astype(str).tolist()\n",
    "datetime_yesterday"
   ]
  },
  {
   "cell_type": "code",
   "execution_count": 109,
   "metadata": {},
   "outputs": [],
   "source": [
    "# 当日的时间\n",
    "#datetime_today=[str(i) for i in np.arange(0,21).tolist()]\n",
    "datetime_today=np.arange(0,21).astype(str).tolist()\n",
    "#datetime_today"
   ]
  },
  {
   "cell_type": "code",
   "execution_count": 106,
   "metadata": {},
   "outputs": [],
   "source": [
    "# 拼接成一起\n",
    "header_fin=datetime_yesterday\n",
    "header_fin.append(datetime_today)\n",
    "#header_fin"
   ]
  },
  {
   "cell_type": "code",
   "execution_count": 107,
   "metadata": {},
   "outputs": [],
   "source": [
    "yesterday=np.arange(21,24).astype(str)\n",
    "today=np.arange(0,21).astype(str)\n",
    "# 气象时间list\n",
    "meteorology_date=np.hstack((yesterday,today)).tolist()\n",
    "#meteorology_date"
   ]
  },
  {
   "cell_type": "code",
   "execution_count": 108,
   "metadata": {},
   "outputs": [],
   "source": [
    "meteorology_date.insert(0,'date')\n",
    "meteorology_date.append('max')\n",
    "meteorology_date.append('min')\n",
    "#meteorology_date"
   ]
  },
  {
   "cell_type": "markdown",
   "metadata": {},
   "source": [
    "#### （1）vb"
   ]
  },
  {
   "cell_type": "code",
   "execution_count": 111,
   "metadata": {},
   "outputs": [
    {
     "data": {
      "text/html": [
       "<div>\n",
       "<style>\n",
       "    .dataframe thead tr:only-child th {\n",
       "        text-align: right;\n",
       "    }\n",
       "\n",
       "    .dataframe thead th {\n",
       "        text-align: left;\n",
       "    }\n",
       "\n",
       "    .dataframe tbody tr th {\n",
       "        vertical-align: top;\n",
       "    }\n",
       "</style>\n",
       "<table border=\"1\" class=\"dataframe\">\n",
       "  <thead>\n",
       "    <tr style=\"text-align: right;\">\n",
       "      <th></th>\n",
       "      <th>date</th>\n",
       "      <th>21</th>\n",
       "      <th>22</th>\n",
       "      <th>23</th>\n",
       "      <th>0</th>\n",
       "      <th>1</th>\n",
       "      <th>2</th>\n",
       "      <th>3</th>\n",
       "      <th>4</th>\n",
       "      <th>5</th>\n",
       "      <th>...</th>\n",
       "      <th>13</th>\n",
       "      <th>14</th>\n",
       "      <th>15</th>\n",
       "      <th>16</th>\n",
       "      <th>17</th>\n",
       "      <th>18</th>\n",
       "      <th>19</th>\n",
       "      <th>20</th>\n",
       "      <th>max</th>\n",
       "      <th>min</th>\n",
       "    </tr>\n",
       "  </thead>\n",
       "  <tbody>\n",
       "    <tr>\n",
       "      <th>0</th>\n",
       "      <td>20171129</td>\n",
       "      <td>6.5</td>\n",
       "      <td>5.6</td>\n",
       "      <td>6.9</td>\n",
       "      <td>5.8</td>\n",
       "      <td>6.8</td>\n",
       "      <td>5.1</td>\n",
       "      <td>5.7</td>\n",
       "      <td>5.3</td>\n",
       "      <td>6.7</td>\n",
       "      <td>...</td>\n",
       "      <td>2.9</td>\n",
       "      <td>2.5</td>\n",
       "      <td>99.8</td>\n",
       "      <td>99.8</td>\n",
       "      <td>99.8</td>\n",
       "      <td>99.8</td>\n",
       "      <td>99.8</td>\n",
       "      <td>99.8</td>\n",
       "      <td>NaN</td>\n",
       "      <td>NaN</td>\n",
       "    </tr>\n",
       "  </tbody>\n",
       "</table>\n",
       "<p>1 rows × 27 columns</p>\n",
       "</div>"
      ],
      "text/plain": [
       "       date   21   22   23    0    1    2    3    4    5 ...    13   14    15  \\\n",
       "0  20171129  6.5  5.6  6.9  5.8  6.8  5.1  5.7  5.3  6.7 ...   2.9  2.5  99.8   \n",
       "\n",
       "     16    17    18    19    20  max  min  \n",
       "0  99.8  99.8  99.8  99.8  99.8  NaN  NaN  \n",
       "\n",
       "[1 rows x 27 columns]"
      ]
     },
     "execution_count": 111,
     "metadata": {},
     "output_type": "execute_result"
    }
   ],
   "source": [
    "result_vb= pd.read_table('data/vb1129.07422',sep='\\s+',names=meteorology_date)\n",
    "result_vb"
   ]
  },
  {
   "cell_type": "markdown",
   "metadata": {},
   "source": [
    "#### (2)  at"
   ]
  },
  {
   "cell_type": "code",
   "execution_count": 118,
   "metadata": {},
   "outputs": [
    {
     "data": {
      "text/html": [
       "<div>\n",
       "<style>\n",
       "    .dataframe thead tr:only-child th {\n",
       "        text-align: right;\n",
       "    }\n",
       "\n",
       "    .dataframe thead th {\n",
       "        text-align: left;\n",
       "    }\n",
       "\n",
       "    .dataframe tbody tr th {\n",
       "        vertical-align: top;\n",
       "    }\n",
       "</style>\n",
       "<table border=\"1\" class=\"dataframe\">\n",
       "  <thead>\n",
       "    <tr style=\"text-align: right;\">\n",
       "      <th></th>\n",
       "      <th>date</th>\n",
       "      <th>21</th>\n",
       "      <th>22</th>\n",
       "      <th>23</th>\n",
       "      <th>0</th>\n",
       "      <th>1</th>\n",
       "      <th>2</th>\n",
       "      <th>3</th>\n",
       "      <th>4</th>\n",
       "      <th>5</th>\n",
       "      <th>...</th>\n",
       "      <th>13</th>\n",
       "      <th>14</th>\n",
       "      <th>15</th>\n",
       "      <th>16</th>\n",
       "      <th>17</th>\n",
       "      <th>18</th>\n",
       "      <th>19</th>\n",
       "      <th>20</th>\n",
       "      <th>max</th>\n",
       "      <th>min</th>\n",
       "    </tr>\n",
       "  </thead>\n",
       "  <tbody>\n",
       "    <tr>\n",
       "      <th>0</th>\n",
       "      <td>20171129</td>\n",
       "      <td>18.9</td>\n",
       "      <td>17.5</td>\n",
       "      <td>17.5</td>\n",
       "      <td>17.3</td>\n",
       "      <td>16.9</td>\n",
       "      <td>16.5</td>\n",
       "      <td>16.5</td>\n",
       "      <td>16.0</td>\n",
       "      <td>15.9</td>\n",
       "      <td>...</td>\n",
       "      <td>13.2</td>\n",
       "      <td>13.3</td>\n",
       "      <td>999.8</td>\n",
       "      <td>999.8</td>\n",
       "      <td>999.8</td>\n",
       "      <td>999.8</td>\n",
       "      <td>999.8</td>\n",
       "      <td>999.8</td>\n",
       "      <td>19.8</td>\n",
       "      <td>13.1</td>\n",
       "    </tr>\n",
       "  </tbody>\n",
       "</table>\n",
       "<p>1 rows × 27 columns</p>\n",
       "</div>"
      ],
      "text/plain": [
       "       date    21    22    23     0     1     2     3     4     5  ...     13  \\\n",
       "0  20171129  18.9  17.5  17.5  17.3  16.9  16.5  16.5  16.0  15.9  ...   13.2   \n",
       "\n",
       "     14     15     16     17     18     19     20   max   min  \n",
       "0  13.3  999.8  999.8  999.8  999.8  999.8  999.8  19.8  13.1  \n",
       "\n",
       "[1 rows x 27 columns]"
      ]
     },
     "execution_count": 118,
     "metadata": {},
     "output_type": "execute_result"
    }
   ],
   "source": [
    "result_at= pd.read_table('data/at1129.07422',sep='\\s+',names=meteorology_date)\n",
    "result_at"
   ]
  },
  {
   "cell_type": "markdown",
   "metadata": {},
   "source": [
    "#### （3）bp"
   ]
  },
  {
   "cell_type": "code",
   "execution_count": 120,
   "metadata": {},
   "outputs": [
    {
     "data": {
      "text/html": [
       "<div>\n",
       "<style>\n",
       "    .dataframe thead tr:only-child th {\n",
       "        text-align: right;\n",
       "    }\n",
       "\n",
       "    .dataframe thead th {\n",
       "        text-align: left;\n",
       "    }\n",
       "\n",
       "    .dataframe tbody tr th {\n",
       "        vertical-align: top;\n",
       "    }\n",
       "</style>\n",
       "<table border=\"1\" class=\"dataframe\">\n",
       "  <thead>\n",
       "    <tr style=\"text-align: right;\">\n",
       "      <th></th>\n",
       "      <th>date</th>\n",
       "      <th>21</th>\n",
       "      <th>22</th>\n",
       "      <th>23</th>\n",
       "      <th>0</th>\n",
       "      <th>1</th>\n",
       "      <th>2</th>\n",
       "      <th>3</th>\n",
       "      <th>4</th>\n",
       "      <th>5</th>\n",
       "      <th>...</th>\n",
       "      <th>13</th>\n",
       "      <th>14</th>\n",
       "      <th>15</th>\n",
       "      <th>16</th>\n",
       "      <th>17</th>\n",
       "      <th>18</th>\n",
       "      <th>19</th>\n",
       "      <th>20</th>\n",
       "      <th>max</th>\n",
       "      <th>min</th>\n",
       "    </tr>\n",
       "  </thead>\n",
       "  <tbody>\n",
       "    <tr>\n",
       "      <th>0</th>\n",
       "      <td>20171129</td>\n",
       "      <td>1014.1</td>\n",
       "      <td>1014.2</td>\n",
       "      <td>1013.8</td>\n",
       "      <td>1013.9</td>\n",
       "      <td>1013.9</td>\n",
       "      <td>1013.5</td>\n",
       "      <td>1013.4</td>\n",
       "      <td>1013.8</td>\n",
       "      <td>1013.7</td>\n",
       "      <td>...</td>\n",
       "      <td>1014.0</td>\n",
       "      <td>1013.5</td>\n",
       "      <td>9999.8</td>\n",
       "      <td>9999.8</td>\n",
       "      <td>9999.8</td>\n",
       "      <td>9999.8</td>\n",
       "      <td>9999.8</td>\n",
       "      <td>9999.8</td>\n",
       "      <td>1015.6</td>\n",
       "      <td>1013.2</td>\n",
       "    </tr>\n",
       "  </tbody>\n",
       "</table>\n",
       "<p>1 rows × 27 columns</p>\n",
       "</div>"
      ],
      "text/plain": [
       "       date      21      22      23       0       1       2       3       4  \\\n",
       "0  20171129  1014.1  1014.2  1013.8  1013.9  1013.9  1013.5  1013.4  1013.8   \n",
       "\n",
       "        5   ...        13      14      15      16      17      18      19  \\\n",
       "0  1013.7   ...    1014.0  1013.5  9999.8  9999.8  9999.8  9999.8  9999.8   \n",
       "\n",
       "       20     max     min  \n",
       "0  9999.8  1015.6  1013.2  \n",
       "\n",
       "[1 rows x 27 columns]"
      ]
     },
     "execution_count": 120,
     "metadata": {},
     "output_type": "execute_result"
    }
   ],
   "source": [
    "result_bp= pd.read_table('data/bp1129.07422',sep='\\s+',names=meteorology_date)\n",
    "result_bp"
   ]
  },
  {
   "cell_type": "markdown",
   "metadata": {},
   "source": [
    "#### (4) rn"
   ]
  },
  {
   "cell_type": "code",
   "execution_count": 121,
   "metadata": {},
   "outputs": [
    {
     "data": {
      "text/html": [
       "<div>\n",
       "<style>\n",
       "    .dataframe thead tr:only-child th {\n",
       "        text-align: right;\n",
       "    }\n",
       "\n",
       "    .dataframe thead th {\n",
       "        text-align: left;\n",
       "    }\n",
       "\n",
       "    .dataframe tbody tr th {\n",
       "        vertical-align: top;\n",
       "    }\n",
       "</style>\n",
       "<table border=\"1\" class=\"dataframe\">\n",
       "  <thead>\n",
       "    <tr style=\"text-align: right;\">\n",
       "      <th></th>\n",
       "      <th>date</th>\n",
       "      <th>21</th>\n",
       "      <th>22</th>\n",
       "      <th>23</th>\n",
       "      <th>0</th>\n",
       "      <th>1</th>\n",
       "      <th>2</th>\n",
       "      <th>3</th>\n",
       "      <th>4</th>\n",
       "      <th>5</th>\n",
       "      <th>...</th>\n",
       "      <th>13</th>\n",
       "      <th>14</th>\n",
       "      <th>15</th>\n",
       "      <th>16</th>\n",
       "      <th>17</th>\n",
       "      <th>18</th>\n",
       "      <th>19</th>\n",
       "      <th>20</th>\n",
       "      <th>max</th>\n",
       "      <th>min</th>\n",
       "    </tr>\n",
       "  </thead>\n",
       "  <tbody>\n",
       "    <tr>\n",
       "      <th>0</th>\n",
       "      <td>20171129</td>\n",
       "      <td>0.6</td>\n",
       "      <td>1.4</td>\n",
       "      <td>1.5</td>\n",
       "      <td>0.7</td>\n",
       "      <td>0.7</td>\n",
       "      <td>0.1</td>\n",
       "      <td>0.2</td>\n",
       "      <td>0.3</td>\n",
       "      <td>99999.8</td>\n",
       "      <td>...</td>\n",
       "      <td>5.5</td>\n",
       "      <td>NaN</td>\n",
       "      <td>NaN</td>\n",
       "      <td>NaN</td>\n",
       "      <td>NaN</td>\n",
       "      <td>NaN</td>\n",
       "      <td>NaN</td>\n",
       "      <td>NaN</td>\n",
       "      <td>NaN</td>\n",
       "      <td>NaN</td>\n",
       "    </tr>\n",
       "  </tbody>\n",
       "</table>\n",
       "<p>1 rows × 27 columns</p>\n",
       "</div>"
      ],
      "text/plain": [
       "       date   21   22   23    0    1    2    3    4        5 ...    13  14  \\\n",
       "0  20171129  0.6  1.4  1.5  0.7  0.7  0.1  0.2  0.3  99999.8 ...   5.5 NaN   \n",
       "\n",
       "   15  16  17  18  19  20  max  min  \n",
       "0 NaN NaN NaN NaN NaN NaN  NaN  NaN  \n",
       "\n",
       "[1 rows x 27 columns]"
      ]
     },
     "execution_count": 121,
     "metadata": {},
     "output_type": "execute_result"
    }
   ],
   "source": [
    "result_rn= pd.read_table('data/rn1129.07422',sep='\\s+',names=meteorology_date)\n",
    "result_rn"
   ]
  },
  {
   "cell_type": "markdown",
   "metadata": {},
   "source": [
    "#### （5）hu"
   ]
  },
  {
   "cell_type": "code",
   "execution_count": 123,
   "metadata": {},
   "outputs": [
    {
     "data": {
      "text/html": [
       "<div>\n",
       "<style>\n",
       "    .dataframe thead tr:only-child th {\n",
       "        text-align: right;\n",
       "    }\n",
       "\n",
       "    .dataframe thead th {\n",
       "        text-align: left;\n",
       "    }\n",
       "\n",
       "    .dataframe tbody tr th {\n",
       "        vertical-align: top;\n",
       "    }\n",
       "</style>\n",
       "<table border=\"1\" class=\"dataframe\">\n",
       "  <thead>\n",
       "    <tr style=\"text-align: right;\">\n",
       "      <th></th>\n",
       "      <th>date</th>\n",
       "      <th>21</th>\n",
       "      <th>22</th>\n",
       "      <th>23</th>\n",
       "      <th>0</th>\n",
       "      <th>1</th>\n",
       "      <th>2</th>\n",
       "      <th>3</th>\n",
       "      <th>4</th>\n",
       "      <th>5</th>\n",
       "      <th>...</th>\n",
       "      <th>13</th>\n",
       "      <th>14</th>\n",
       "      <th>15</th>\n",
       "      <th>16</th>\n",
       "      <th>17</th>\n",
       "      <th>18</th>\n",
       "      <th>19</th>\n",
       "      <th>20</th>\n",
       "      <th>max</th>\n",
       "      <th>min</th>\n",
       "    </tr>\n",
       "  </thead>\n",
       "  <tbody>\n",
       "    <tr>\n",
       "      <th>0</th>\n",
       "      <td>20171129</td>\n",
       "      <td>94</td>\n",
       "      <td>97</td>\n",
       "      <td>97</td>\n",
       "      <td>97</td>\n",
       "      <td>86</td>\n",
       "      <td>88</td>\n",
       "      <td>87</td>\n",
       "      <td>89</td>\n",
       "      <td>89</td>\n",
       "      <td>...</td>\n",
       "      <td>98</td>\n",
       "      <td>99</td>\n",
       "      <td>998</td>\n",
       "      <td>998</td>\n",
       "      <td>998</td>\n",
       "      <td>998</td>\n",
       "      <td>998</td>\n",
       "      <td>998</td>\n",
       "      <td>99</td>\n",
       "      <td>82</td>\n",
       "    </tr>\n",
       "  </tbody>\n",
       "</table>\n",
       "<p>1 rows × 27 columns</p>\n",
       "</div>"
      ],
      "text/plain": [
       "       date  21  22  23   0   1   2   3   4   5 ...   13  14   15   16   17  \\\n",
       "0  20171129  94  97  97  97  86  88  87  89  89 ...   98  99  998  998  998   \n",
       "\n",
       "    18   19   20  max  min  \n",
       "0  998  998  998   99   82  \n",
       "\n",
       "[1 rows x 27 columns]"
      ]
     },
     "execution_count": 123,
     "metadata": {},
     "output_type": "execute_result"
    }
   ],
   "source": [
    "result_hu= pd.read_table('data/hu1129.07422',sep='\\s+',names=meteorology_date)\n",
    "result_hu"
   ]
  },
  {
   "cell_type": "markdown",
   "metadata": {},
   "source": [
    "### 现做如下修改：\n",
    "修改columns之前的小时名为具体时间名（yyyyMMddHH）此种方式\n"
   ]
  },
  {
   "cell_type": "code",
   "execution_count": 124,
   "metadata": {
    "collapsed": true
   },
   "outputs": [],
   "source": [
    "import datetime"
   ]
  },
  {
   "cell_type": "code",
   "execution_count": 125,
   "metadata": {},
   "outputs": [
    {
     "name": "stdout",
     "output_type": "stream",
     "text": [
      "2017-12-06 16:25:20.703939\n"
     ]
    }
   ],
   "source": [
    "today=datetime.datetime.now()\n",
    "print(today)"
   ]
  },
  {
   "cell_type": "code",
   "execution_count": 128,
   "metadata": {},
   "outputs": [
    {
     "name": "stdout",
     "output_type": "stream",
     "text": [
      "2017-12-05 16:26:34.982613\n"
     ]
    }
   ],
   "source": [
    "yesterday=datetime.datetime.now() + datetime.timedelta(-1)\n",
    "print(yesterday)"
   ]
  },
  {
   "cell_type": "markdown",
   "metadata": {},
   "source": [
    "### （1）获取今天和昨天的yyyMMdd"
   ]
  },
  {
   "cell_type": "code",
   "execution_count": 132,
   "metadata": {},
   "outputs": [
    {
     "data": {
      "text/plain": [
       "'20171206'"
      ]
     },
     "execution_count": 132,
     "metadata": {},
     "output_type": "execute_result"
    }
   ],
   "source": [
    "today.strftime(\"%Y%m%d\")"
   ]
  },
  {
   "cell_type": "code",
   "execution_count": 133,
   "metadata": {},
   "outputs": [
    {
     "data": {
      "text/plain": [
       "'20171205'"
      ]
     },
     "execution_count": 133,
     "metadata": {},
     "output_type": "execute_result"
    }
   ],
   "source": [
    "yesterday.strftime(\"%Y%m%d\")"
   ]
  },
  {
   "cell_type": "markdown",
   "metadata": {},
   "source": [
    "写一个lambda表达式，将数组和日期向list中写入日期加数组的结果"
   ]
  },
  {
   "cell_type": "code",
   "execution_count": 151,
   "metadata": {},
   "outputs": [
    {
     "name": "stdout",
     "output_type": "stream",
     "text": [
      "['21', '22', '23', '0', '1', '2', '3', '4', '5', '6', '7', '8', '9', '10', '11', '12', '13', '14', '15', '16', '17', '18', '19', '20']\n"
     ]
    },
    {
     "data": {
      "text/plain": [
       "['2017120621',\n",
       " '2017120622',\n",
       " '2017120623',\n",
       " '201712060',\n",
       " '201712061',\n",
       " '201712062',\n",
       " '201712063',\n",
       " '201712064',\n",
       " '201712065',\n",
       " '201712066',\n",
       " '201712067',\n",
       " '201712068',\n",
       " '201712069',\n",
       " '2017120610',\n",
       " '2017120611',\n",
       " '2017120612',\n",
       " '2017120613',\n",
       " '2017120614',\n",
       " '2017120615',\n",
       " '2017120616',\n",
       " '2017120617',\n",
       " '2017120618',\n",
       " '2017120619',\n",
       " '2017120620']"
      ]
     },
     "execution_count": 151,
     "metadata": {},
     "output_type": "execute_result"
    }
   ],
   "source": [
    "#result= pd.read_table('data/SQ201703060300.07422',sep='\\s+')\n",
    "func=lambda x,y:[x+t for t in y]\n",
    "datetime_yesterday=np.arange(21,24).astype(str)\n",
    "datetime_today=np.arange(0,21).astype(dtype='|S2')\n",
    "date_list=np.hstack((datetime_yesterday,datetime_today)).tolist()\n",
    "print(date_list)\n",
    "func(today.strftime(\"%Y%m%d\"),date_list)"
   ]
  },
  {
   "cell_type": "markdown",
   "metadata": {},
   "source": [
    "#### 换另外一个思路根据起始及终止时间（或者根据实际情况——生成一个月时间列表）"
   ]
  },
  {
   "cell_type": "code",
   "execution_count": 152,
   "metadata": {
    "collapsed": true
   },
   "outputs": [],
   "source": [
    "target_month=11"
   ]
  },
  {
   "cell_type": "code",
   "execution_count": 159,
   "metadata": {},
   "outputs": [
    {
     "name": "stdout",
     "output_type": "stream",
     "text": [
      "2017-11-01 00:00:00\n"
     ]
    }
   ],
   "source": [
    "    def getbetweenHours(start,finish):  \n",
    "        date_list = []  \n",
    "        start_date = datetime.datetime.strptime(start, '%Y-%m-%d %H:%M:%S')  \n",
    "        finish_date = datetime.datetime.strptime(finish, '%Y-%m-%d %H:%M:%S')  \n",
    "        while start_date <= finish_date:  \n",
    "            date_str = start_date.strftime(\"%Y%m%d%H\")  \n",
    "            date_list.append(date_str)  \n",
    "            start_date += datetime.timedelta(hours=1)  \n",
    "        #print(date_list)\n",
    "        return date_list  \n",
    "#     d1 = datetime.datetime.strptime('2017-11-01 00:00:01', '%Y-%m-%d %H:%M:%S')\n",
    "#     d2 = datetime.datetime.strptime('2017-11-30 23:59:59', '%Y-%m-%d %H:%M:%S')\n",
    "\n",
    "    def getbetweenDays(start,finish):\n",
    "        date_list=[]\n",
    "        start_date=datetime.datetime.strptime(start,'%Y-%m-%d %H:%M:%S') \n",
    "        finish_date = datetime.datetime.strptime(finish, '%Y-%m-%d %H:%M:%S')  \n",
    "        while start_date <= finish_date:  \n",
    "            date_str = start_date.strftime(\"%Y%m%d%H\")  \n",
    "            date_list.append(date_str)  \n",
    "            start_date += datetime.timedelta(1)  \n",
    "        #print(date_list)\n",
    "        return date_list  \n",
    "    def getTargetMonthAllDaysList(date_str):\n",
    "        # 获得当月的起始时间\n",
    "        start = datetime.datetime.strptime(date_str, '%Y-%m-%d')\n",
    "        print(start)\n",
    "    d1 = '2017-11-01 00:00:01'\n",
    "    d2 = '2017-11-30 23:59:59'\n",
    "    getbetweenHours(d1,d2)\n",
    "    \n",
    "    getbetweenDays(d1,d2)\n",
    "    \n",
    "    getTargetMonthAllDaysList(\"2017-11-01\")\n",
    "    "
   ]
  },
  {
   "cell_type": "code",
   "execution_count": null,
   "metadata": {
    "collapsed": true
   },
   "outputs": [],
   "source": []
  }
 ],
 "metadata": {
  "kernelspec": {
   "display_name": "Python 3",
   "language": "python",
   "name": "python3"
  },
  "language_info": {
   "codemirror_mode": {
    "name": "ipython",
    "version": 3
   },
   "file_extension": ".py",
   "mimetype": "text/x-python",
   "name": "python",
   "nbconvert_exporter": "python",
   "pygments_lexer": "ipython3",
   "version": "3.6.3"
  }
 },
 "nbformat": 4,
 "nbformat_minor": 2
}
