{
 "cells": [
  {
   "cell_type": "code",
   "execution_count": 63,
   "metadata": {
    "collapsed": true
   },
   "outputs": [],
   "source": [
    "from pandas import Series,DataFrame\n",
    "import numpy as np\n",
    "import pandas as pd"
   ]
  },
  {
   "cell_type": "code",
   "execution_count": 64,
   "metadata": {},
   "outputs": [
    {
     "data": {
      "text/html": [
       "<div>\n",
       "<style>\n",
       "    .dataframe thead tr:only-child th {\n",
       "        text-align: right;\n",
       "    }\n",
       "\n",
       "    .dataframe thead th {\n",
       "        text-align: left;\n",
       "    }\n",
       "\n",
       "    .dataframe tbody tr th {\n",
       "        vertical-align: top;\n",
       "    }\n",
       "</style>\n",
       "<table border=\"1\" class=\"dataframe\">\n",
       "  <thead>\n",
       "    <tr style=\"text-align: right;\">\n",
       "      <th></th>\n",
       "      <th>0</th>\n",
       "      <th>1</th>\n",
       "      <th>2</th>\n",
       "      <th>3</th>\n",
       "      <th>4</th>\n",
       "      <th>5</th>\n",
       "      <th>6</th>\n",
       "      <th>7</th>\n",
       "      <th>8</th>\n",
       "      <th>9</th>\n",
       "      <th>...</th>\n",
       "      <th>17</th>\n",
       "      <th>18</th>\n",
       "      <th>19</th>\n",
       "      <th>20</th>\n",
       "      <th>21</th>\n",
       "      <th>22</th>\n",
       "      <th>23</th>\n",
       "      <th>24</th>\n",
       "      <th>25</th>\n",
       "      <th>26</th>\n",
       "    </tr>\n",
       "  </thead>\n",
       "  <tbody>\n",
       "    <tr>\n",
       "      <th>0</th>\n",
       "      <td>20171129</td>\n",
       "      <td>1014.1</td>\n",
       "      <td>1014.2</td>\n",
       "      <td>1013.8</td>\n",
       "      <td>1013.9</td>\n",
       "      <td>1013.9</td>\n",
       "      <td>1013.5</td>\n",
       "      <td>1013.4</td>\n",
       "      <td>1013.8</td>\n",
       "      <td>1013.7</td>\n",
       "      <td>...</td>\n",
       "      <td>1014.0</td>\n",
       "      <td>1013.5</td>\n",
       "      <td>9999.8</td>\n",
       "      <td>9999.8</td>\n",
       "      <td>9999.8</td>\n",
       "      <td>9999.8</td>\n",
       "      <td>9999.8</td>\n",
       "      <td>9999.8</td>\n",
       "      <td>1015.6</td>\n",
       "      <td>1013.2</td>\n",
       "    </tr>\n",
       "  </tbody>\n",
       "</table>\n",
       "<p>1 rows × 27 columns</p>\n",
       "</div>"
      ],
      "text/plain": [
       "         0       1       2       3       4       5       6       7       8   \\\n",
       "0  20171129  1014.1  1014.2  1013.8  1013.9  1013.9  1013.5  1013.4  1013.8   \n",
       "\n",
       "       9    ...        17      18      19      20      21      22      23  \\\n",
       "0  1013.7   ...    1014.0  1013.5  9999.8  9999.8  9999.8  9999.8  9999.8   \n",
       "\n",
       "       24      25      26  \n",
       "0  9999.8  1015.6  1013.2  \n",
       "\n",
       "[1 rows x 27 columns]"
      ]
     },
     "execution_count": 64,
     "metadata": {},
     "output_type": "execute_result"
    }
   ],
   "source": [
    "#设置没有header\n",
    "result= pd.read_table('data/test.07422',sep='\\s+',header=None)\n",
    "result"
   ]
  },
  {
   "cell_type": "markdown",
   "metadata": {
    "collapsed": true
   },
   "source": [
    "### 1 添加一个header\n",
    "#### 总共27列，第一列为日期，最后两列为当日最大值与当日最小值"
   ]
  },
  {
   "cell_type": "code",
   "execution_count": 65,
   "metadata": {},
   "outputs": [
    {
     "data": {
      "text/plain": [
       "['0',\n",
       " '1',\n",
       " '2',\n",
       " '3',\n",
       " '4',\n",
       " '5',\n",
       " '6',\n",
       " '7',\n",
       " '8',\n",
       " '9',\n",
       " '10',\n",
       " '11',\n",
       " '12',\n",
       " '13',\n",
       " '14',\n",
       " '15',\n",
       " '16',\n",
       " '17',\n",
       " '18',\n",
       " '19',\n",
       " '20',\n",
       " '21',\n",
       " '22',\n",
       " '23']"
      ]
     },
     "execution_count": 65,
     "metadata": {},
     "output_type": "execute_result"
    }
   ],
   "source": [
    "#arr_temp=np.empty(27)\n",
    "#arr_temp[0]='date'\n",
    "arr_temp=np.arange(24).tolist()\n",
    "#.tolist()\n",
    "arr_str=[str(i) for i in arr_temp]\n",
    "arr_str"
   ]
  },
  {
   "cell_type": "code",
   "execution_count": 66,
   "metadata": {},
   "outputs": [
    {
     "name": "stdout",
     "output_type": "stream",
     "text": [
      "['date', '0', '1', '2', '3', '4', '5', '6', '7', '8', '9', '10', '11', '12', '13', '14', '15', '16', '17', '18', '19', '20', '21', '22', '23', 'max', 'min']\n"
     ]
    }
   ],
   "source": [
    "#arr_final=['date']\n",
    "#arr_final.insert(1,arr_temp)\n",
    "\n",
    "# python中向list中的指定位置插入数据使用insert\n",
    "# python向list的末尾追加使用append\n",
    "# 可使用extend向一个list追加一个list\n",
    "arr_str.insert(0,'date')\n",
    "arr_str.append('max')\n",
    "arr_str.append('min')\n",
    "print(arr_str)"
   ]
  },
  {
   "cell_type": "markdown",
   "metadata": {},
   "source": [
    "### 2 指定names——列索引的名字"
   ]
  },
  {
   "cell_type": "code",
   "execution_count": 71,
   "metadata": {},
   "outputs": [
    {
     "name": "stdout",
     "output_type": "stream",
     "text": [
      "['date', '0', '1', '2', '3', '4', '5', '6', '7', '8', '9', '10', '11', '12', '13', '14', '15', '16', '17', '18', '19', '20', '21', '22', '23', 'max', 'min']\n"
     ]
    },
    {
     "data": {
      "text/html": [
       "<div>\n",
       "<style>\n",
       "    .dataframe thead tr:only-child th {\n",
       "        text-align: right;\n",
       "    }\n",
       "\n",
       "    .dataframe thead th {\n",
       "        text-align: left;\n",
       "    }\n",
       "\n",
       "    .dataframe tbody tr th {\n",
       "        vertical-align: top;\n",
       "    }\n",
       "</style>\n",
       "<table border=\"1\" class=\"dataframe\">\n",
       "  <thead>\n",
       "    <tr style=\"text-align: right;\">\n",
       "      <th></th>\n",
       "      <th>date</th>\n",
       "      <th>0</th>\n",
       "      <th>1</th>\n",
       "      <th>2</th>\n",
       "      <th>3</th>\n",
       "      <th>4</th>\n",
       "      <th>5</th>\n",
       "      <th>6</th>\n",
       "      <th>7</th>\n",
       "      <th>8</th>\n",
       "      <th>...</th>\n",
       "      <th>16</th>\n",
       "      <th>17</th>\n",
       "      <th>18</th>\n",
       "      <th>19</th>\n",
       "      <th>20</th>\n",
       "      <th>21</th>\n",
       "      <th>22</th>\n",
       "      <th>23</th>\n",
       "      <th>max</th>\n",
       "      <th>min</th>\n",
       "    </tr>\n",
       "  </thead>\n",
       "  <tbody>\n",
       "    <tr>\n",
       "      <th>0</th>\n",
       "      <td>20171129</td>\n",
       "      <td>1014.1</td>\n",
       "      <td>1014.2</td>\n",
       "      <td>1013.8</td>\n",
       "      <td>1013.9</td>\n",
       "      <td>1013.9</td>\n",
       "      <td>1013.5</td>\n",
       "      <td>1013.4</td>\n",
       "      <td>1013.8</td>\n",
       "      <td>1013.7</td>\n",
       "      <td>...</td>\n",
       "      <td>1014.0</td>\n",
       "      <td>1013.5</td>\n",
       "      <td>9999.8</td>\n",
       "      <td>9999.8</td>\n",
       "      <td>9999.8</td>\n",
       "      <td>9999.8</td>\n",
       "      <td>9999.8</td>\n",
       "      <td>9999.8</td>\n",
       "      <td>1015.6</td>\n",
       "      <td>1013.2</td>\n",
       "    </tr>\n",
       "  </tbody>\n",
       "</table>\n",
       "<p>1 rows × 27 columns</p>\n",
       "</div>"
      ],
      "text/plain": [
       "       date       0       1       2       3       4       5       6       7  \\\n",
       "0  20171129  1014.1  1014.2  1013.8  1013.9  1013.9  1013.5  1013.4  1013.8   \n",
       "\n",
       "        8   ...        16      17      18      19      20      21      22  \\\n",
       "0  1013.7   ...    1014.0  1013.5  9999.8  9999.8  9999.8  9999.8  9999.8   \n",
       "\n",
       "       23     max     min  \n",
       "0  9999.8  1015.6  1013.2  \n",
       "\n",
       "[1 rows x 27 columns]"
      ]
     },
     "execution_count": 71,
     "metadata": {},
     "output_type": "execute_result"
    }
   ],
   "source": [
    "#arr_str.insert(0,'date')\n",
    "#arr_str.append('max')\n",
    "#arr_str.append('min')\n",
    "#print(arr_str)\n",
    "print(arr_str)\n",
    "#result= pd.read_table('data/test.07422',sep='\\s+',header=arr_str)\n",
    "result= pd.read_table('data/test.07422',sep='\\s+',names=arr_str)\n",
    "result"
   ]
  },
  {
   "cell_type": "code",
   "execution_count": null,
   "metadata": {
    "collapsed": true
   },
   "outputs": [],
   "source": []
  }
 ],
 "metadata": {
  "kernelspec": {
   "display_name": "Python 3",
   "language": "python",
   "name": "python3"
  },
  "language_info": {
   "codemirror_mode": {
    "name": "ipython",
    "version": 3
   },
   "file_extension": ".py",
   "mimetype": "text/x-python",
   "name": "python",
   "nbconvert_exporter": "python",
   "pygments_lexer": "ipython3",
   "version": "3.6.3"
  }
 },
 "nbformat": 4,
 "nbformat_minor": 2
}
