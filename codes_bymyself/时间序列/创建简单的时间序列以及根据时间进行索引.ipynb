{
 "cells": [
  {
   "cell_type": "code",
   "execution_count": 9,
   "metadata": {
    "collapsed": true
   },
   "outputs": [],
   "source": [
    "import numpy as np\n",
    "import pandas as pd\n",
    "from pandas import Series,DataFrame"
   ]
  },
  {
   "cell_type": "code",
   "execution_count": 10,
   "metadata": {
    "collapsed": true
   },
   "outputs": [],
   "source": [
    "import matplotlib.pyplot as plt\n",
    "import matplotlib.dates as mdates"
   ]
  },
  {
   "cell_type": "code",
   "execution_count": 11,
   "metadata": {
    "collapsed": true
   },
   "outputs": [],
   "source": [
    "from datetime import datetime\n",
    "from dateutil.parser import parse"
   ]
  },
  {
   "cell_type": "markdown",
   "metadata": {},
   "source": [
    "#### 注意此时的ts是一个Series，索引是一个DatetimeIndex"
   ]
  },
  {
   "cell_type": "code",
   "execution_count": 16,
   "metadata": {},
   "outputs": [
    {
     "data": {
      "text/plain": [
       "2017-01-01   -0.714565\n",
       "2017-01-02    0.997044\n",
       "2017-01-03   -0.770919\n",
       "dtype: float64"
      ]
     },
     "execution_count": 16,
     "metadata": {},
     "output_type": "execute_result"
    }
   ],
   "source": [
    "dates=[datetime(2017,1,1),datetime(2017,1,2),datetime(2017,1,3)]\n",
    "ts=Series(np.random.randn(3),index=dates)\n",
    "ts"
   ]
  },
  {
   "cell_type": "markdown",
   "metadata": {},
   "source": [
    "* 查看ts的类型\n",
    "> 是pandas.core.series.Series这种类型"
   ]
  },
  {
   "cell_type": "code",
   "execution_count": 13,
   "metadata": {},
   "outputs": [
    {
     "data": {
      "text/plain": [
       "pandas.core.series.Series"
      ]
     },
     "execution_count": 13,
     "metadata": {},
     "output_type": "execute_result"
    }
   ],
   "source": [
    "type(ts)"
   ]
  },
  {
   "cell_type": "code",
   "execution_count": 14,
   "metadata": {},
   "outputs": [
    {
     "data": {
      "text/plain": [
       "DatetimeIndex(['2017-01-01', '2017-01-02', '2017-01-03'], dtype='datetime64[ns]', freq=None)"
      ]
     },
     "execution_count": 14,
     "metadata": {},
     "output_type": "execute_result"
    }
   ],
   "source": [
    "ts.index"
   ]
  },
  {
   "cell_type": "code",
   "execution_count": 15,
   "metadata": {},
   "outputs": [
    {
     "data": {
      "text/plain": [
       "-0.90922132132497724"
      ]
     },
     "execution_count": 15,
     "metadata": {},
     "output_type": "execute_result"
    }
   ],
   "source": [
    "ts['1/1/2017']"
   ]
  },
  {
   "cell_type": "markdown",
   "metadata": {},
   "source": [
    "* 获取1月的全部数据"
   ]
  },
  {
   "cell_type": "code",
   "execution_count": 17,
   "metadata": {},
   "outputs": [
    {
     "data": {
      "text/plain": [
       "2017-01-01   -0.714565\n",
       "2017-01-02    0.997044\n",
       "2017-01-03   -0.770919\n",
       "dtype: float64"
      ]
     },
     "execution_count": 17,
     "metadata": {},
     "output_type": "execute_result"
    }
   ],
   "source": [
    "ts['2017-1']"
   ]
  },
  {
   "cell_type": "markdown",
   "metadata": {},
   "source": [
    "### 创建一个index是DatetimeIndex的Series"
   ]
  },
  {
   "cell_type": "code",
   "execution_count": 19,
   "metadata": {},
   "outputs": [
    {
     "data": {
      "text/plain": [
       "DatetimeIndex(['2017-11-01 00:00:00', '2017-11-01 01:00:00',\n",
       "               '2017-11-01 02:00:00', '2017-11-01 03:00:00',\n",
       "               '2017-11-01 04:00:00', '2017-11-01 05:00:00',\n",
       "               '2017-11-01 06:00:00', '2017-11-01 07:00:00',\n",
       "               '2017-11-01 08:00:00', '2017-11-01 09:00:00',\n",
       "               '2017-11-01 10:00:00', '2017-11-01 11:00:00',\n",
       "               '2017-11-01 12:00:00', '2017-11-01 13:00:00',\n",
       "               '2017-11-01 14:00:00', '2017-11-01 15:00:00',\n",
       "               '2017-11-01 16:00:00', '2017-11-01 17:00:00',\n",
       "               '2017-11-01 18:00:00', '2017-11-01 19:00:00',\n",
       "               '2017-11-01 20:00:00', '2017-11-01 21:00:00',\n",
       "               '2017-11-01 22:00:00', '2017-11-01 23:00:00',\n",
       "               '2017-11-02 00:00:00'],\n",
       "              dtype='datetime64[ns]', freq='H')"
      ]
     },
     "execution_count": 19,
     "metadata": {},
     "output_type": "execute_result"
    }
   ],
   "source": [
    "rng=pd.date_range('2017/11/1','2017/11/2',freq='H')\n",
    "rng"
   ]
  },
  {
   "cell_type": "code",
   "execution_count": 22,
   "metadata": {},
   "outputs": [
    {
     "data": {
      "text/plain": [
       "array([ 0.46450537, -2.83332931, -0.08652178,  0.11470381,  0.06057033,\n",
       "       -0.7165873 ,  0.34125268,  0.13336547, -1.27591412,  0.22538127,\n",
       "       -0.58215828,  0.25065151, -1.04792539,  0.40605398,  0.43418777,\n",
       "        0.39243464,  0.71025431,  0.7141291 , -0.36892792,  1.69569724,\n",
       "       -0.28637029, -0.13553711,  0.01242861, -0.47780845, -1.81807805])"
      ]
     },
     "execution_count": 22,
     "metadata": {},
     "output_type": "execute_result"
    }
   ],
   "source": [
    "date=np.random.randn(25)\n",
    "date"
   ]
  },
  {
   "cell_type": "code",
   "execution_count": 23,
   "metadata": {},
   "outputs": [
    {
     "data": {
      "text/plain": [
       "2017-11-01 00:00:00    0.464505\n",
       "2017-11-01 01:00:00   -2.833329\n",
       "2017-11-01 02:00:00   -0.086522\n",
       "2017-11-01 03:00:00    0.114704\n",
       "2017-11-01 04:00:00    0.060570\n",
       "2017-11-01 05:00:00   -0.716587\n",
       "2017-11-01 06:00:00    0.341253\n",
       "2017-11-01 07:00:00    0.133365\n",
       "2017-11-01 08:00:00   -1.275914\n",
       "2017-11-01 09:00:00    0.225381\n",
       "2017-11-01 10:00:00   -0.582158\n",
       "2017-11-01 11:00:00    0.250652\n",
       "2017-11-01 12:00:00   -1.047925\n",
       "2017-11-01 13:00:00    0.406054\n",
       "2017-11-01 14:00:00    0.434188\n",
       "2017-11-01 15:00:00    0.392435\n",
       "2017-11-01 16:00:00    0.710254\n",
       "2017-11-01 17:00:00    0.714129\n",
       "2017-11-01 18:00:00   -0.368928\n",
       "2017-11-01 19:00:00    1.695697\n",
       "2017-11-01 20:00:00   -0.286370\n",
       "2017-11-01 21:00:00   -0.135537\n",
       "2017-11-01 22:00:00    0.012429\n",
       "2017-11-01 23:00:00   -0.477808\n",
       "2017-11-02 00:00:00   -1.818078\n",
       "Freq: H, dtype: float64"
      ]
     },
     "execution_count": 23,
     "metadata": {},
     "output_type": "execute_result"
    }
   ],
   "source": [
    "ts=Series(date,rng)\n",
    "ts"
   ]
  },
  {
   "cell_type": "code",
   "execution_count": 24,
   "metadata": {},
   "outputs": [
    {
     "data": {
      "text/plain": [
       "DatetimeIndex(['2017-11-01 00:00:00', '2017-11-01 01:00:00',\n",
       "               '2017-11-01 02:00:00', '2017-11-01 03:00:00',\n",
       "               '2017-11-01 04:00:00', '2017-11-01 05:00:00',\n",
       "               '2017-11-01 06:00:00', '2017-11-01 07:00:00',\n",
       "               '2017-11-01 08:00:00', '2017-11-01 09:00:00',\n",
       "               '2017-11-01 10:00:00', '2017-11-01 11:00:00',\n",
       "               '2017-11-01 12:00:00', '2017-11-01 13:00:00',\n",
       "               '2017-11-01 14:00:00', '2017-11-01 15:00:00',\n",
       "               '2017-11-01 16:00:00', '2017-11-01 17:00:00',\n",
       "               '2017-11-01 18:00:00', '2017-11-01 19:00:00',\n",
       "               '2017-11-01 20:00:00', '2017-11-01 21:00:00',\n",
       "               '2017-11-01 22:00:00', '2017-11-01 23:00:00',\n",
       "               '2017-11-02 00:00:00'],\n",
       "              dtype='datetime64[ns]', freq='H')"
      ]
     },
     "execution_count": 24,
     "metadata": {},
     "output_type": "execute_result"
    }
   ],
   "source": [
    "ts.index"
   ]
  },
  {
   "cell_type": "code",
   "execution_count": null,
   "metadata": {
    "collapsed": true
   },
   "outputs": [],
   "source": []
  }
 ],
 "metadata": {
  "kernelspec": {
   "display_name": "Python 3",
   "language": "python",
   "name": "python3"
  },
  "language_info": {
   "codemirror_mode": {
    "name": "ipython",
    "version": 3
   },
   "file_extension": ".py",
   "mimetype": "text/x-python",
   "name": "python",
   "nbconvert_exporter": "python",
   "pygments_lexer": "ipython3",
   "version": "3.6.3"
  }
 },
 "nbformat": 4,
 "nbformat_minor": 2
}
