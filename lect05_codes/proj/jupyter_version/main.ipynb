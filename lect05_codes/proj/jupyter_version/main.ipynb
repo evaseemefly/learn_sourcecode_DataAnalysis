{
 "cells": [
  {
   "cell_type": "markdown",
   "metadata": {},
   "source": [
    "# 实战案例4-2：根据可穿戴设备识别用户行为\n",
    "\n",
    "* 项目：根据可穿戴设备识别用户行为\n",
    "* 作者：[梁斌](https://drbinliang.github.io/)\n",
    "* 日期：2017/10\n",
    "* 提问：[小象问答](http://wenda.chinahadoop.cn/)\n",
    "* 声明：[小象学院](http://www.chinahadoop.cn/)拥有完全知识产权的权利；只限于善意学习者在本课程使用，不得在课程范围外向任何第三方散播。任何其他人或机构不得盗版、复制、仿造其中的创意，我们将保留一切通过法律手段追究违反者的权利"
   ]
  },
  {
   "cell_type": "markdown",
   "metadata": {},
   "source": [
    "## 1. 项目描述：\n",
    "用户行为识别数据集是通过采集30天用户的行为创建的。数据是由绑定在用户腰间的智能手机记录的，该智能手机内嵌有传感器。创建该数据集的目的是用于识别/分类6组不同的用户行为。\n",
    "\n",
    "数据集中的用户是由19-48岁间的30个志愿者组成的。戴有智能手机（Samsung Galaxy S II）的每个志愿者会做出6个行为（WALKING, WALKING_UPSTAIRS, WALKING_DOWNSTAIRS, SITTING, STANDING, LAYING）。通过智能手机的加速计和陀螺仪能够以50Hz的频率采集3个方向的加速度和3个方向的角速度。采集后的数据集随机分为两部分，70%用于模型的训练，30%用于模型的验证。\n",
    "\n",
    "传感器信号已经预处理去除了噪声，并且在固定时间窗口（2.56s）内进行采样，每两个窗口间有50%的重叠部分（每个窗口有128个数据）。每个时间窗口同时提供时间和频率上的统计数据作为特征。"
   ]
  },
  {
   "cell_type": "markdown",
   "metadata": {},
   "source": [
    "## 2. 数据集描述:\n",
    "* Kaggle[提供的数据集](https://www.kaggle.com/uciml/human-activity-recognition-with-smartphones)。数据集包含训练集（**train.csv**）和测试集（**test.csv**），形式均为CSV文件。\n",
    "\n",
    "每条记录提供有以下数据\n",
    "\n",
    "* 3个方向的加速度，估计的身体加速度，3个方向的角速度。最终是561维的向量。\n",
    "* 对应的标签\n",
    "* 志愿者编号"
   ]
  },
  {
   "cell_type": "markdown",
   "metadata": {},
   "source": [
    "## 3. 项目任务：\n",
    "* 3.1 数据查看\n",
    "* 3.2 特征处理\n",
    "* 3.3 数据建模及参数调整"
   ]
  },
  {
   "cell_type": "markdown",
   "metadata": {},
   "source": [
    "## 4. 项目实现："
   ]
  },
  {
   "cell_type": "code",
   "execution_count": null,
   "metadata": {
    "collapsed": true
   },
   "outputs": [],
   "source": [
    "# 引入必要的包\n",
    "import csv\n",
    "import os\n",
    "import numpy as np\n",
    "import pandas as pd\n",
    "import matplotlib.pyplot as plt\n",
    "import seaborn as sns\n",
    "import time\n",
    "\n",
    "%matplotlib notebook"
   ]
  },
  {
   "cell_type": "code",
   "execution_count": null,
   "metadata": {
    "collapsed": true
   },
   "outputs": [],
   "source": [
    "# 解决matplotlib显示中文问题\n",
    "# 仅适用于Windows\n",
    "plt.rcParams['font.sans-serif'] = ['SimHei']  # 指定默认字体\n",
    "plt.rcParams['axes.unicode_minus'] = False  # 解决保存图像是负号'-'显示为方块的问题\n",
    "\n",
    "# MacOS请参考 http://wenda.chinahadoop.cn/question/5304 修改字体配置"
   ]
  },
  {
   "cell_type": "code",
   "execution_count": null,
   "metadata": {
    "collapsed": true
   },
   "outputs": [],
   "source": [
    "# 指定数据集路径\n",
    "# 说明：该数据集和第四讲的数据集相同，学员请拷贝到data目录下\n",
    "dataset_path = '../data'\n",
    "train_datafile = os.path.join(dataset_path, 'train.csv')\n",
    "test_datafile = os.path.join(dataset_path, 'test.csv')\n",
    "\n",
    "# 加载数据\n",
    "train_data = pd.read_csv(train_datafile)\n",
    "test_data = pd.read_csv(test_datafile)"
   ]
  },
  {
   "cell_type": "markdown",
   "metadata": {},
   "source": [
    "## 4.1 数据查看"
   ]
  },
  {
   "cell_type": "code",
   "execution_count": null,
   "metadata": {
    "collapsed": true
   },
   "outputs": [],
   "source": [
    "print('训练集有{}条记录。'.format(len(train_data)))\n",
    "print('测试集有{}条记录。'.format(len(test_data)))"
   ]
  },
  {
   "cell_type": "code",
   "execution_count": null,
   "metadata": {
    "collapsed": true,
    "scrolled": true
   },
   "outputs": [],
   "source": [
    "# 可视化各类别的数量统计图\n",
    "plt.figure(figsize=(10, 5))\n",
    "\n",
    "# 训练集\n",
    "ax1 = plt.subplot(1, 2, 1)\n",
    "sns.countplot(x='Activity', data=train_data)\n",
    "\n",
    "plt.title('训练集')\n",
    "plt.xticks(rotation='vertical')\n",
    "plt.xlabel('行为类别')\n",
    "plt.ylabel('数量')\n",
    "\n",
    "# 测试集\n",
    "plt.subplot(1, 2, 2, sharey=ax1)\n",
    "sns.countplot(x='Activity', data=test_data)\n",
    "\n",
    "plt.title('测试集')\n",
    "plt.xticks(rotation='vertical')\n",
    "plt.xlabel('行为类别')\n",
    "plt.ylabel('数量')\n",
    "\n",
    "plt.tight_layout()"
   ]
  },
  {
   "cell_type": "code",
   "execution_count": null,
   "metadata": {
    "collapsed": true,
    "scrolled": true
   },
   "outputs": [],
   "source": [
    "# 构建训练测试数据\n",
    "# 特征处理\n",
    "feat_names = train_data.columns[:-2].tolist()\n",
    "X_train = train_data[feat_names].values\n",
    "print('共有{}维特征。'.format(X_train.shape[1]))\n",
    "X_test = test_data[feat_names].values\n",
    "\n",
    "# 标签处理\n",
    "train_labels = train_data['Activity'].values\n",
    "test_labels = test_data['Activity'].values\n",
    "\n",
    "# 使用sklearn.preprocessing.LabelEncoder进行类别标签处理\n",
    "from sklearn.preprocessing import LabelEncoder\n",
    "\n",
    "label_enc = LabelEncoder()\n",
    "y_train = label_enc.fit_transform(train_labels)\n",
    "y_test = label_enc.transform(test_labels)\n",
    "\n",
    "print('类别标签：', label_enc.classes_)\n",
    "for i in range(len(label_enc.classes_)):\n",
    "    print('编码 {} 对应标签 {}。'.format(i, label_enc.inverse_transform(i)))"
   ]
  },
  {
   "cell_type": "markdown",
   "metadata": {},
   "source": [
    "## 4.2 特征处理"
   ]
  },
  {
   "cell_type": "code",
   "execution_count": null,
   "metadata": {
    "collapsed": true
   },
   "outputs": [],
   "source": [
    "from sklearn.preprocessing import MinMaxScaler, StandardScaler\n",
    "\n",
    "# 使用两种不同的scaler对特征进行处理\n",
    "\n",
    "# 1. min max scaler\n",
    "min_max_scaler = MinMaxScaler()\n",
    "X_train_min_max_scaled = min_max_scaler.fit_transform(X_train)\n",
    "X_test_min_max_scaled = min_max_scaler.transform(X_test)\n",
    "\n",
    "# 2. standard scaler\n",
    "std_scaler = StandardScaler()\n",
    "X_train_std_scaled = std_scaler.fit_transform(X_train)\n",
    "X_test_std_scaled = std_scaler.transform(X_test)"
   ]
  },
  {
   "cell_type": "markdown",
   "metadata": {},
   "source": [
    "## 4.3 数据建模及参数调整"
   ]
  },
  {
   "cell_type": "code",
   "execution_count": null,
   "metadata": {
    "collapsed": true
   },
   "outputs": [],
   "source": [
    "from sklearn.neighbors import KNeighborsClassifier\n",
    "from sklearn.linear_model import LogisticRegression\n",
    "from sklearn.svm import SVC\n",
    "from sklearn.tree import DecisionTreeClassifier\n",
    "\n",
    "from sklearn.naive_bayes import GaussianNB\n",
    "from sklearn.ensemble import RandomForestClassifier\n",
    "from sklearn.ensemble import GradientBoostingClassifier\n",
    "\n",
    "from sklearn.model_selection import GridSearchCV"
   ]
  },
  {
   "cell_type": "code",
   "execution_count": null,
   "metadata": {
    "collapsed": true
   },
   "outputs": [],
   "source": [
    "# 如果为了节省训练时间，可以将cv设较小的值，如 3\n",
    "# 如果为了能找到模型的最优参数，可以选择较大的cv值，如 10\n",
    "cv=3"
   ]
  },
  {
   "cell_type": "markdown",
   "metadata": {},
   "source": [
    "### 4.2.1 kNN"
   ]
  },
  {
   "cell_type": "code",
   "execution_count": null,
   "metadata": {
    "collapsed": true
   },
   "outputs": [],
   "source": [
    "parameters = {'n_neighbors':[10, 50, 100]}\n",
    "clf = GridSearchCV(KNeighborsClassifier(), parameters, cv=cv_val, scoring='accuracy')\n",
    "\n",
    "# min max scaler\n",
    "clf.fit(X_train_min_max_scaled, y_train)\n",
    "print('Min Max 归一化特征：')\n",
    "print('最优参数：', clf.best_params_)\n",
    "print('验证集最高得分：', clf.best_score_)\n",
    "print('测试集准确率：{:.3f}'.format(clf.score(X_test_min_max_scaled, y_test)))\n",
    "\n",
    "# std scaler\n",
    "clf.fit(X_train_std_scaled, y_train)\n",
    "print('Std 归一化特征：')\n",
    "print('最优参数：', clf.best_params_)\n",
    "print('验证集最高得分：', clf.best_score_)\n",
    "print('测试集准确率：{:.3f}'.format(clf.score(X_test_std_scaled, y_test)))"
   ]
  },
  {
   "cell_type": "markdown",
   "metadata": {},
   "source": [
    "### 4.2.2 逻辑回归"
   ]
  },
  {
   "cell_type": "code",
   "execution_count": null,
   "metadata": {
    "collapsed": true,
    "scrolled": true
   },
   "outputs": [],
   "source": [
    "parameters = {'C':[0.1, 1, 10]}\n",
    "clf = GridSearchCV(LogisticRegression(), parameters, cv=cv_val, scoring='accuracy')\n",
    "\n",
    "# min max scaler\n",
    "clf.fit(X_train_min_max_scaled, y_train)\n",
    "print('Min Max 归一化特征：')\n",
    "print('最优参数：', clf.best_params_)\n",
    "print('验证集最高得分：', clf.best_score_)\n",
    "print('测试集准确率：{:.3f}'.format(clf.score(X_test_min_max_scaled, y_test)))\n",
    "\n",
    "# std scaler\n",
    "clf.fit(X_train_std_scaled, y_train)\n",
    "print('Std 归一化特征：')\n",
    "print('最优参数：', clf.best_params_)\n",
    "print('验证集最高得分：', clf.best_score_)\n",
    "print('测试集准确率：{:.3f}'.format(clf.score(X_test_std_scaled, y_test)))"
   ]
  },
  {
   "cell_type": "markdown",
   "metadata": {},
   "source": [
    "### 4.2.3 SVM"
   ]
  },
  {
   "cell_type": "code",
   "execution_count": null,
   "metadata": {
    "collapsed": true
   },
   "outputs": [],
   "source": [
    "parameters = {'C':[10, 100, 1000]}\n",
    "clf = GridSearchCV(SVC(), parameters, cv=cv_val, scoring='accuracy')\n",
    "\n",
    "# min max scaler\n",
    "clf.fit(X_train_min_max_scaled, y_train)\n",
    "print('Min Max 归一化特征：')\n",
    "print('最优参数：', clf.best_params_)\n",
    "print('验证集最高得分：', clf.best_score_)\n",
    "print('测试集准确率：{:.3f}'.format(clf.score(X_test_min_max_scaled, y_test)))\n",
    "\n",
    "# std scaler\n",
    "clf.fit(X_train_std_scaled, y_train)\n",
    "print('Std 归一化特征：')\n",
    "print('最优参数：', clf.best_params_)\n",
    "print('验证集最高得分：', clf.best_score_)\n",
    "print('测试集准确率：{:.3f}'.format(clf.score(X_test_std_scaled, y_test)))"
   ]
  },
  {
   "cell_type": "markdown",
   "metadata": {
    "collapsed": true
   },
   "source": [
    "### 4.2.4 决策树"
   ]
  },
  {
   "cell_type": "code",
   "execution_count": null,
   "metadata": {
    "collapsed": true,
    "scrolled": false
   },
   "outputs": [],
   "source": [
    "parameters = {'max_depth':[50, 100, 150]}\n",
    "clf = GridSearchCV(DecisionTreeClassifier(), parameters, cv=cv_val, scoring='accuracy')\n",
    "\n",
    "clf.fit(X_train, y_train)\n",
    "print('无需归一化特征：')\n",
    "print('最优参数：', clf.best_params_)\n",
    "print('验证集最高得分：', clf.best_score_)\n",
    "print('测试集准确率：{:.3f}'.format(clf.score(X_test, y_test)))"
   ]
  },
  {
   "cell_type": "markdown",
   "metadata": {},
   "source": [
    "### 4.2.5 朴素贝叶斯"
   ]
  },
  {
   "cell_type": "code",
   "execution_count": null,
   "metadata": {
    "collapsed": true
   },
   "outputs": [],
   "source": [
    "# 没有超参数\n",
    "clf = GaussianNB()\n",
    "\n",
    "# min max scaler\n",
    "clf.fit(X_train_min_max_scaled, y_train)\n",
    "print('Min Max 归一化特征：')\n",
    "print('测试集准确率：{:.3f}'.format(clf.score(X_test_min_max_scaled, y_test)))\n",
    "\n",
    "# std scaler\n",
    "clf.fit(X_train_std_scaled, y_train)\n",
    "print('Std 归一化特征：')\n",
    "print('测试集准确率：{:.3f}'.format(clf.score(X_test_std_scaled, y_test)))"
   ]
  },
  {
   "cell_type": "markdown",
   "metadata": {},
   "source": [
    "### 4.2.6 随机森林"
   ]
  },
  {
   "cell_type": "code",
   "execution_count": null,
   "metadata": {
    "collapsed": true
   },
   "outputs": [],
   "source": [
    "parameters = {'n_estimators':[100, 150, 200]}\n",
    "clf = GridSearchCV(RandomForestClassifier(), parameters, cv=cv_val, scoring='accuracy')\n",
    "\n",
    "clf.fit(X_train, y_train)\n",
    "print('无需归一化特征：')\n",
    "print('最优参数：', clf.best_params_)\n",
    "print('验证集最高得分：', clf.best_score_)\n",
    "print('测试集准确率：{:.3f}'.format(clf.score(X_test, y_test)))"
   ]
  },
  {
   "cell_type": "markdown",
   "metadata": {},
   "source": [
    "### 4.2.7 GBDT"
   ]
  },
  {
   "cell_type": "code",
   "execution_count": null,
   "metadata": {
    "collapsed": true
   },
   "outputs": [],
   "source": [
    "parameters = {'learning_rate': [0.1, 1, 10]}\n",
    "clf = GridSearchCV(GradientBoostingClassifier(), parameters, cv=cv_val, scoring='accuracy')\n",
    "\n",
    "clf.fit(X_train, y_train)\n",
    "print('无需归一化特征：')\n",
    "print('最优参数：', clf.best_params_)\n",
    "print('验证集最高得分：', clf.best_score_)\n",
    "print('测试集准确率：{:.3f}'.format(clf.score(X_test, y_test)))"
   ]
  },
  {
   "cell_type": "markdown",
   "metadata": {},
   "source": [
    "## 5. 项目总结\n",
    "* 该项目通过分析“人体行为识别”数据集，并在该数据集上进行建模操作，包括:\n",
    "    * 数据可视化\n",
    "    * 数据集特征、标签的处理\n",
    "    * 数据集特征归一化操作\n",
    "    * kNN, 逻辑回归，SVM，决策树模，朴素贝叶斯，随机森林，GBDT\n",
    "    * 使用交叉验证调整超参数\n",
    "* 课后学员可模仿该项目的流程与操作，在现有数据集上通过改变模型的其他参数，观察对模型的性能有何影响\n",
    "* 该项目有配套的Python代码"
   ]
  },
  {
   "cell_type": "markdown",
   "metadata": {},
   "source": [
    "## 6. 参考文献\n",
    "* Davide Anguita, Alessandro Ghio, Luca Oneto, Xavier Parra and Jorge L. Reyes-Ortiz. A Public Domain Dataset for Human Activity Recognition Using Smartphones. 21st European Symposium on Artificial Neural Networks, Computational Intelligence and Machine Learning, ESANN 2013. Bruges, Belgium 24-26 April 2013.\n",
    "\n",
    "* Davide Anguita, Alessandro Ghio, Luca Oneto, Xavier Parra and Jorge L. Reyes-Ortiz. Human Activity Recognition on Smartphones using a Multiclass Hardware-Friendly Support Vector Machine. International Workshop of Ambient Assisted Living (IWAAL 2012). Vitoria-Gasteiz, Spain. Dec 2012\n",
    "\n",
    "* Davide Anguita, Alessandro Ghio, Luca Oneto, Xavier Parra, Jorge L. Reyes-Ortiz. Energy Efficient Smartphone-Based Activity Recognition using Fixed-Point Arithmetic. Journal of Universal Computer Science. Special Issue in Ambient Assisted Living: Home Care. Volume 19, Issue 9. May 2013\n",
    "\n",
    "* Davide Anguita, Alessandro Ghio, Luca Oneto, Xavier Parra and Jorge L. Reyes-Ortiz. Human Activity Recognition on Smartphones using a Multiclass Hardware-Friendly Support Vector Machine. 4th International Workshop of Ambient Assited Living, IWAAL 2012, Vitoria-Gasteiz, Spain, December 3-5, 2012. Proceedings. Lecture Notes in Computer Science 2012, pp 216-223.\n",
    "\n",
    "* Jorge Luis Reyes-Ortiz, Alessandro Ghio, Xavier Parra-Llanas, Davide Anguita, Joan Cabestany, Andreu Català. Human Activity and Motion Disorder Recognition: Towards Smarter Interactive Cognitive Environments. 21st European Symposium on Artificial Neural Networks, Computational Intelligence and Machine Learning, ESANN 2013. Bruges, Belgium 24-26 April 2013."
   ]
  },
  {
   "cell_type": "code",
   "execution_count": null,
   "metadata": {
    "collapsed": true
   },
   "outputs": [],
   "source": []
  }
 ],
 "metadata": {
  "kernelspec": {
   "display_name": "Python [py35]",
   "language": "python",
   "name": "Python [py35]"
  },
  "language_info": {
   "codemirror_mode": {
    "name": "ipython",
    "version": 3
   },
   "file_extension": ".py",
   "mimetype": "text/x-python",
   "name": "python",
   "nbconvert_exporter": "python",
   "pygments_lexer": "ipython3",
   "version": "3.5.2"
  }
 },
 "nbformat": 4,
 "nbformat_minor": 2
}
